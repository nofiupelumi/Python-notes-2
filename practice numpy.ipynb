{
 "cells": [
  {
   "cell_type": "code",
   "execution_count": 2,
   "id": "af16203c-4854-4bd5-9a0d-108c650c0337",
   "metadata": {
    "tags": []
   },
   "outputs": [
    {
     "data": {
      "text/plain": [
       "array([1, 2, 3, 4, 3])"
      ]
     },
     "execution_count": 2,
     "metadata": {},
     "output_type": "execute_result"
    }
   ],
   "source": [
    "import numpy as np\n",
    "array=np.array([1,2,3,4,3])\n",
    "array"
   ]
  },
  {
   "cell_type": "code",
   "execution_count": 3,
   "id": "25c9092c-835c-41bc-ac93-3c0f346a3c4a",
   "metadata": {
    "tags": []
   },
   "outputs": [
    {
     "data": {
      "text/plain": [
       "(5,)"
      ]
     },
     "execution_count": 3,
     "metadata": {},
     "output_type": "execute_result"
    }
   ],
   "source": [
    "array.shape"
   ]
  },
  {
   "cell_type": "code",
   "execution_count": 5,
   "id": "a5f0d742-74ad-4f61-b034-626eff3bec94",
   "metadata": {
    "tags": []
   },
   "outputs": [
    {
     "data": {
      "text/plain": [
       "1"
      ]
     },
     "execution_count": 5,
     "metadata": {},
     "output_type": "execute_result"
    }
   ],
   "source": [
    "array.ndim"
   ]
  },
  {
   "cell_type": "code",
   "execution_count": 6,
   "id": "bd6b616b-8a79-403c-9c92-0067811a85bd",
   "metadata": {
    "tags": []
   },
   "outputs": [
    {
     "data": {
      "text/plain": [
       "dtype('int32')"
      ]
     },
     "execution_count": 6,
     "metadata": {},
     "output_type": "execute_result"
    }
   ],
   "source": [
    "array.dtype"
   ]
  },
  {
   "cell_type": "code",
   "execution_count": 11,
   "id": "baabd4ae-3454-4148-aa88-decdc73a4245",
   "metadata": {
    "tags": []
   },
   "outputs": [
    {
     "data": {
      "text/plain": [
       "array([[[1., 2., 3.],\n",
       "        [4., 5., 6.]],\n",
       "\n",
       "       [[7., 8., 9.],\n",
       "        [3., 8., 4.]]])"
      ]
     },
     "execution_count": 11,
     "metadata": {},
     "output_type": "execute_result"
    }
   ],
   "source": [
    "arr=np.array([[[1,2,3],[4,5,6]],[[7,8,9],[3,8,4]]], dtype='float')\n",
    "arr"
   ]
  },
  {
   "cell_type": "code",
   "execution_count": 12,
   "id": "148794ae-8442-4e52-bbf4-7a8f19912d65",
   "metadata": {
    "tags": []
   },
   "outputs": [
    {
     "data": {
      "text/plain": [
       "(2, 2, 3)"
      ]
     },
     "execution_count": 12,
     "metadata": {},
     "output_type": "execute_result"
    }
   ],
   "source": [
    "arr.shape\n"
   ]
  },
  {
   "cell_type": "code",
   "execution_count": 16,
   "id": "3e326f17-6f56-4a6c-8dff-db98fc111523",
   "metadata": {
    "tags": []
   },
   "outputs": [
    {
     "data": {
      "text/plain": [
       "array([0., 0., 0., 0., 0.])"
      ]
     },
     "execution_count": 16,
     "metadata": {},
     "output_type": "execute_result"
    }
   ],
   "source": [
    "ran_zeros=np.zeros((5))\n",
    "ran_zeros"
   ]
  },
  {
   "cell_type": "code",
   "execution_count": 17,
   "id": "7233062b-f5b8-43d4-b418-135bd1db3de3",
   "metadata": {
    "tags": []
   },
   "outputs": [
    {
     "data": {
      "text/plain": [
       "array([[0., 0., 0., 0., 0., 0., 0., 0.],\n",
       "       [0., 0., 0., 0., 0., 0., 0., 0.],\n",
       "       [0., 0., 0., 0., 0., 0., 0., 0.],\n",
       "       [0., 0., 0., 0., 0., 0., 0., 0.],\n",
       "       [0., 0., 0., 0., 0., 0., 0., 0.]])"
      ]
     },
     "execution_count": 17,
     "metadata": {},
     "output_type": "execute_result"
    }
   ],
   "source": [
    "ran_zero=np.zeros((5,8))\n",
    "ran_zero"
   ]
  },
  {
   "cell_type": "code",
   "execution_count": 26,
   "id": "0945a3a9-41b2-4a86-9726-cc9dfd14c0f5",
   "metadata": {
    "tags": []
   },
   "outputs": [
    {
     "data": {
      "text/plain": [
       "array([], shape=(0, 0), dtype=float64)"
      ]
     },
     "execution_count": 26,
     "metadata": {},
     "output_type": "execute_result"
    }
   ],
   "source": [
    "ran_one=np.ones((0,0))\n",
    "ran_one"
   ]
  },
  {
   "cell_type": "code",
   "execution_count": 27,
   "id": "94ab9210-290c-4818-afee-ca7757458019",
   "metadata": {
    "tags": []
   },
   "outputs": [
    {
     "data": {
      "text/plain": [
       "array([[45, 45, 45, 45, 45],\n",
       "       [45, 45, 45, 45, 45],\n",
       "       [45, 45, 45, 45, 45],\n",
       "       [45, 45, 45, 45, 45]])"
      ]
     },
     "execution_count": 27,
     "metadata": {},
     "output_type": "execute_result"
    }
   ],
   "source": [
    "ful=np.full((4,5),45)\n",
    "ful"
   ]
  },
  {
   "cell_type": "code",
   "execution_count": 32,
   "id": "d0511aec-4faa-4f8d-87a9-9f034a87eadf",
   "metadata": {
    "tags": []
   },
   "outputs": [
    {
     "data": {
      "text/plain": [
       "array([[0.37317129, 0.3621904 , 0.12491681, 0.63011458, 0.90414283],\n",
       "       [0.54116372, 0.44493455, 0.51406518, 0.2745474 , 0.52883387],\n",
       "       [0.09031449, 0.6049666 , 0.76813825, 0.27417917, 0.95080679],\n",
       "       [0.45743735, 0.98247965, 0.75603795, 0.86715312, 0.95914789]])"
      ]
     },
     "execution_count": 32,
     "metadata": {},
     "output_type": "execute_result"
    }
   ],
   "source": [
    "radm=np.random.random((4,5))\n",
    "radm"
   ]
  },
  {
   "cell_type": "code",
   "execution_count": 36,
   "id": "864b5d99-855e-4fd2-b784-fb94d149deb0",
   "metadata": {
    "tags": []
   },
   "outputs": [
    {
     "data": {
      "text/plain": [
       "array([ 1.,  2.,  3., nan,  5., inf])"
      ]
     },
     "execution_count": 36,
     "metadata": {},
     "output_type": "execute_result"
    }
   ],
   "source": [
    "x=np.array([1,2,3,np.nan,5, np.inf])\n",
    "x"
   ]
  },
  {
   "cell_type": "code",
   "execution_count": 38,
   "id": "26a58d4d-3ff2-4df7-b147-bfd6350aaf59",
   "metadata": {
    "tags": []
   },
   "outputs": [
    {
     "name": "stdout",
     "output_type": "stream",
     "text": [
      "Is the value nan 1.0: False\n",
      "Is the value nan 1.0: False\n",
      "Is the value nan 1.0: False\n",
      "Is the value nan 2.0: False\n",
      "Is the value nan 2.0: False\n",
      "Is the value nan 2.0: False\n",
      "Is the value nan 3.0: False\n",
      "Is the value nan 3.0: False\n",
      "Is the value nan 3.0: False\n",
      "Is the value nan nan: True\n",
      "Is the value nan nan: False\n",
      "Is the value nan nan: False\n",
      "Is the value nan 5.0: False\n",
      "Is the value nan 5.0: False\n",
      "Is the value nan 5.0: False\n",
      "Is the value nan inf: False\n",
      "Is the value nan inf: True\n",
      "Is the value nan inf: False\n"
     ]
    }
   ],
   "source": [
    "for i  in x:\n",
    "    print(f'Is the value nan {i}: {np.isnan(i)}')\n",
    "    print(f'Is the value nan {i}: {i==np.inf}')\n",
    "    print(f'Is the value nan {i}: {i==np.nan}')"
   ]
  },
  {
   "cell_type": "code",
   "execution_count": 41,
   "id": "4fcde12f-174b-4adb-b5a2-19360c8d74d1",
   "metadata": {
    "tags": []
   },
   "outputs": [
    {
     "name": "stdout",
     "output_type": "stream",
     "text": [
      "[['pelu' 'maris' 'funmi']\n",
      " ['love' 'excess' 'brother']\n",
      " ['lady' 'man' 'women']]\n"
     ]
    }
   ],
   "source": [
    "varieties= np.array([['pelu','maris','funmi'],['love','excess','brother'],['lady', 'man' , 'women']])\n",
    "print(varieties)"
   ]
  },
  {
   "cell_type": "code",
   "execution_count": 42,
   "id": "0b543406-5ca6-41ff-9afa-d5eb87a905e5",
   "metadata": {
    "tags": []
   },
   "outputs": [
    {
     "data": {
      "text/plain": [
       "'maris'"
      ]
     },
     "execution_count": 42,
     "metadata": {},
     "output_type": "execute_result"
    }
   ],
   "source": [
    "varieties[0][1]"
   ]
  },
  {
   "cell_type": "code",
   "execution_count": 43,
   "id": "aab2deb2-6524-439e-806d-7e0cb8aba27d",
   "metadata": {
    "tags": []
   },
   "outputs": [
    {
     "data": {
      "text/plain": [
       "'i'"
      ]
     },
     "execution_count": 43,
     "metadata": {},
     "output_type": "execute_result"
    }
   ],
   "source": [
    "varieties[0][1][3]"
   ]
  },
  {
   "cell_type": "code",
   "execution_count": 44,
   "id": "7531f865-015d-4b7c-90f2-55d2eeeef0c3",
   "metadata": {
    "tags": []
   },
   "outputs": [],
   "source": [
    "new=varieties"
   ]
  },
  {
   "cell_type": "code",
   "execution_count": 45,
   "id": "4e096344-4f7a-4743-b873-beafb5de734a",
   "metadata": {
    "tags": []
   },
   "outputs": [],
   "source": [
    "new[1][2]=np.nan"
   ]
  },
  {
   "cell_type": "code",
   "execution_count": 46,
   "id": "3187b1c9-560c-4da0-9511-18d71bbd1800",
   "metadata": {
    "tags": []
   },
   "outputs": [
    {
     "data": {
      "text/plain": [
       "array([['pelu', 'maris', 'funmi'],\n",
       "       ['love', 'excess', 'nan'],\n",
       "       ['lady', 'man', 'women']], dtype='<U7')"
      ]
     },
     "execution_count": 46,
     "metadata": {},
     "output_type": "execute_result"
    }
   ],
   "source": [
    "varieties\n"
   ]
  },
  {
   "cell_type": "code",
   "execution_count": 47,
   "id": "2cfeb57b-4c91-4f02-97c5-0349d7ca59ba",
   "metadata": {
    "tags": []
   },
   "outputs": [
    {
     "data": {
      "text/plain": [
       "array([['pelu', 'maris', 'funmi'],\n",
       "       ['love', 'excess', 'nan'],\n",
       "       ['lady', 'man', 'women']], dtype='<U7')"
      ]
     },
     "execution_count": 47,
     "metadata": {},
     "output_type": "execute_result"
    }
   ],
   "source": [
    "new"
   ]
  },
  {
   "cell_type": "code",
   "execution_count": 48,
   "id": "af97f9d4-c8bb-4d5e-877d-6f50dd912675",
   "metadata": {
    "tags": []
   },
   "outputs": [],
   "source": [
    "cop=new.copy()"
   ]
  },
  {
   "cell_type": "code",
   "execution_count": 49,
   "id": "6e40dace-7e8c-451a-b122-e613a6a89e70",
   "metadata": {
    "tags": []
   },
   "outputs": [],
   "source": [
    "cop[1][2]=np.inf"
   ]
  },
  {
   "cell_type": "code",
   "execution_count": 51,
   "id": "3b84ceb1-7705-4968-936a-3f0616c256ca",
   "metadata": {
    "tags": []
   },
   "outputs": [
    {
     "name": "stdout",
     "output_type": "stream",
     "text": [
      "[['pelu' 'maris' 'funmi']\n",
      " ['love' 'excess' 'nan']\n",
      " ['lady' 'man' 'women']]\n"
     ]
    },
    {
     "data": {
      "text/plain": [
       "array([['pelu', 'maris', 'funmi'],\n",
       "       ['love', 'excess', 'inf'],\n",
       "       ['lady', 'man', 'women']], dtype='<U7')"
      ]
     },
     "execution_count": 51,
     "metadata": {},
     "output_type": "execute_result"
    }
   ],
   "source": [
    "print(new)\n",
    "cop"
   ]
  },
  {
   "cell_type": "code",
   "execution_count": null,
   "id": "fc2f4901-a6ea-4ab4-a602-9390dc770aa1",
   "metadata": {},
   "outputs": [],
   "source": []
  }
 ],
 "metadata": {
  "kernelspec": {
   "display_name": "Python 3 (ipykernel)",
   "language": "python",
   "name": "python3"
  },
  "language_info": {
   "codemirror_mode": {
    "name": "ipython",
    "version": 3
   },
   "file_extension": ".py",
   "mimetype": "text/x-python",
   "name": "python",
   "nbconvert_exporter": "python",
   "pygments_lexer": "ipython3",
   "version": "3.11.5"
  }
 },
 "nbformat": 4,
 "nbformat_minor": 5
}
