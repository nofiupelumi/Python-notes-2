{
 "cells": [
  {
   "cell_type": "code",
   "execution_count": 10,
   "id": "bdd175ec",
   "metadata": {},
   "outputs": [],
   "source": [
    "# Write a program on an authorization decorator that checks if a user is auhorized to execute a function\n",
    "\n",
    "def auth_decorator(f):\n",
    "    def wrapper_func(teacher, *args, **kwargs):\n",
    "        if teacher == 'mathematics_teacher':\n",
    "            return f(*args, **kwargs)\n",
    "        else:\n",
    "            raise PermissionError(\"Sorry! You ain't a maths teacher. You can't perform this function.\")\n",
    "    return wrapper_func\n",
    "\n"
   ]
  },
  {
   "cell_type": "code",
   "execution_count": 2,
   "id": "fea51bfc",
   "metadata": {
    "tags": []
   },
   "outputs": [
    {
     "name": "stdout",
     "output_type": "stream",
     "text": [
      "Mathematical functions are executed here!\n"
     ]
    }
   ],
   "source": [
    "#@auth_decorator\n",
    "def maths_func_only():\n",
    "    print(\"Mathematical functions are executed here!\")\n",
    "\n",
    "# instantiate the func\n",
    "teacher = maths_func_only\n",
    "    \n",
    "# create non-maths teachers\n",
    "teacher_abubakar = 'biology_teacher'\n",
    "    \n",
    "# create maths teacher\n",
    "teacher_ire = 'mathematics_teacher'\n",
    "\n",
    "# call func\n",
    "teacher(teacher_abubakar)"
   ]
  },
  {
   "cell_type": "code",
   "execution_count": 9,
   "id": "0f5d43e8",
   "metadata": {},
   "outputs": [
    {
     "data": {
      "text/plain": [
       "'mathematics_teacher'"
      ]
     },
     "execution_count": 9,
     "metadata": {},
     "output_type": "execute_result"
    }
   ],
   "source": [
    "teacher_ire"
   ]
  },
  {
   "cell_type": "code",
   "execution_count": 14,
   "id": "c36c64ba",
   "metadata": {},
   "outputs": [
    {
     "name": "stdout",
     "output_type": "stream",
     "text": [
      "Sorry! You ain't a maths teacher. You can't perform this function.\n"
     ]
    }
   ],
   "source": [
    "try:\n",
    "    teacher(teacher_abubakar)\n",
    "except PermissionError as e:\n",
    "    print(e)"
   ]
  },
  {
   "cell_type": "code",
   "execution_count": 19,
   "id": "5883db43",
   "metadata": {},
   "outputs": [],
   "source": [
    "# One more example on Decorators\n",
    "\n",
    "'''\n",
    "Write a program on a log decorator that logs info about a function's execution, including its\n",
    "arguments and return value.\n",
    "'''\n",
    "\n",
    "def log_decorator(f):\n",
    "    def wrapper_func(*args, **kwargs):\n",
    "        func_name = f.__name__\n",
    "        print(f\"The log is calling the {func_name} function with arguments: {args}, kwargs: {kwargs}.\")\n",
    "        response = f(*args, **kwargs)\n",
    "        return response\n",
    "    return wrapper_func"
   ]
  },
  {
   "cell_type": "code",
   "execution_count": 24,
   "id": "8565ca55",
   "metadata": {},
   "outputs": [
    {
     "name": "stdout",
     "output_type": "stream",
     "text": [
      "The log is calling the exponential function with arguments: (4, 3), kwargs: {}.\n"
     ]
    },
    {
     "data": {
      "text/plain": [
       "64"
      ]
     },
     "execution_count": 24,
     "metadata": {},
     "output_type": "execute_result"
    }
   ],
   "source": [
    "@log_decorator\n",
    "def exponential(a,b):\n",
    "    return a ** b\n",
    "\n",
    "# instantiate the func obj\n",
    "get_exponential = exponential\n",
    "get_exponential(4,3)"
   ]
  },
  {
   "cell_type": "code",
   "execution_count": null,
   "id": "47da596f",
   "metadata": {},
   "outputs": [],
   "source": []
  }
 ],
 "metadata": {
  "kernelspec": {
   "display_name": "Python 3 (ipykernel)",
   "language": "python",
   "name": "python3"
  },
  "language_info": {
   "codemirror_mode": {
    "name": "ipython",
    "version": 3
   },
   "file_extension": ".py",
   "mimetype": "text/x-python",
   "name": "python",
   "nbconvert_exporter": "python",
   "pygments_lexer": "ipython3",
   "version": "3.11.5"
  }
 },
 "nbformat": 4,
 "nbformat_minor": 5
}
