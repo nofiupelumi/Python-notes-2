{
 "cells": [
  {
   "cell_type": "markdown",
   "id": "6d090172",
   "metadata": {},
   "source": [
    "**Blossom Bank also known as BB PLC is a multinational financial services group, that offers retail and investment banking, pension management, asset management and payments services, headquartered in London, UK.**\n",
    "\n",
    "\n",
    "PROBLEM STATEMEN\n",
    "\n",
    "* Blossom Bank wants to build a Machine Learning model to predict online payment fraud\n",
    "* The data set contains fraudulent transactions.\n",
    "\n",
    "\n",
    "\n",
    "\n",
    "\n",
    "OBJECTIVE\n",
    "\n",
    "* Improve the financial fraud detection system by building a machine learning model and identifying the best machine learning model to predict online payment fraud.\n"
   ]
  },
  {
   "cell_type": "markdown",
   "id": "f4a6e208",
   "metadata": {},
   "source": [
    "**Below are the columns reference:**\n",
    "\n",
    "* step: represents a unit of time where 1 step equals 1\n",
    "hour\n",
    "* type: type of online transaction\n",
    "* amount: the amount of the transaction\n",
    "* nameOrig: customer starting the transaction\n",
    "* oldbalanceOrg: balance before the transaction\n",
    "* newbalanceOrig: balance after the transaction\n",
    "* nameDest: recipient of the transaction\n",
    "* oldbalanceDest: initial balance of recipient\n",
    "before the transaction\n",
    "* newbalanceDest: the new balance of the\n",
    "recipient after the transaction\n",
    "* isFraud: fraud transaction"
   ]
  },
  {
   "cell_type": "code",
   "execution_count": 2,
   "id": "9ef9cb8e",
   "metadata": {},
   "outputs": [],
   "source": [
    "#Import neccesary libraries\n",
    "import pandas as pd\n",
    "import numpy as np\n",
    "import seaborn as sns\n",
    "import matplotlib.pyplot as plt"
   ]
  },
  {
   "cell_type": "code",
   "execution_count": 68,
   "id": "bd4e9543",
   "metadata": {},
   "outputs": [],
   "source": [
    "#Load dataset\n",
    "Data = pd.read_csv(\"Online Payment Fraud Detection.csv\")"
   ]
  },
  {
   "cell_type": "markdown",
   "id": "ee7b673c",
   "metadata": {},
   "source": [
    "# Data Inspection"
   ]
  },
  {
   "cell_type": "code",
   "execution_count": 69,
   "id": "0a7567d7",
   "metadata": {},
   "outputs": [
    {
     "data": {
      "text/html": [
       "<div>\n",
       "<style scoped>\n",
       "    .dataframe tbody tr th:only-of-type {\n",
       "        vertical-align: middle;\n",
       "    }\n",
       "\n",
       "    .dataframe tbody tr th {\n",
       "        vertical-align: top;\n",
       "    }\n",
       "\n",
       "    .dataframe thead th {\n",
       "        text-align: right;\n",
       "    }\n",
       "</style>\n",
       "<table border=\"1\" class=\"dataframe\">\n",
       "  <thead>\n",
       "    <tr style=\"text-align: right;\">\n",
       "      <th></th>\n",
       "      <th>step</th>\n",
       "      <th>type</th>\n",
       "      <th>amount</th>\n",
       "      <th>nameOrig</th>\n",
       "      <th>oldbalanceOrg</th>\n",
       "      <th>newbalanceOrig</th>\n",
       "      <th>nameDest</th>\n",
       "      <th>oldbalanceDest</th>\n",
       "      <th>newbalanceDest</th>\n",
       "      <th>isFraud</th>\n",
       "    </tr>\n",
       "  </thead>\n",
       "  <tbody>\n",
       "    <tr>\n",
       "      <th>0</th>\n",
       "      <td>1</td>\n",
       "      <td>PAYMENT</td>\n",
       "      <td>9839.64</td>\n",
       "      <td>C1231006815</td>\n",
       "      <td>170136.0</td>\n",
       "      <td>160296.36</td>\n",
       "      <td>M1979787155</td>\n",
       "      <td>0.0</td>\n",
       "      <td>0.0</td>\n",
       "      <td>0</td>\n",
       "    </tr>\n",
       "    <tr>\n",
       "      <th>1</th>\n",
       "      <td>1</td>\n",
       "      <td>PAYMENT</td>\n",
       "      <td>1864.28</td>\n",
       "      <td>C1666544295</td>\n",
       "      <td>21249.0</td>\n",
       "      <td>19384.72</td>\n",
       "      <td>M2044282225</td>\n",
       "      <td>0.0</td>\n",
       "      <td>0.0</td>\n",
       "      <td>0</td>\n",
       "    </tr>\n",
       "    <tr>\n",
       "      <th>2</th>\n",
       "      <td>1</td>\n",
       "      <td>TRANSFER</td>\n",
       "      <td>181.00</td>\n",
       "      <td>C1305486145</td>\n",
       "      <td>181.0</td>\n",
       "      <td>0.00</td>\n",
       "      <td>C553264065</td>\n",
       "      <td>0.0</td>\n",
       "      <td>0.0</td>\n",
       "      <td>1</td>\n",
       "    </tr>\n",
       "    <tr>\n",
       "      <th>3</th>\n",
       "      <td>1</td>\n",
       "      <td>CASH_OUT</td>\n",
       "      <td>181.00</td>\n",
       "      <td>C840083671</td>\n",
       "      <td>181.0</td>\n",
       "      <td>0.00</td>\n",
       "      <td>C38997010</td>\n",
       "      <td>21182.0</td>\n",
       "      <td>0.0</td>\n",
       "      <td>1</td>\n",
       "    </tr>\n",
       "    <tr>\n",
       "      <th>4</th>\n",
       "      <td>1</td>\n",
       "      <td>PAYMENT</td>\n",
       "      <td>11668.14</td>\n",
       "      <td>C2048537720</td>\n",
       "      <td>41554.0</td>\n",
       "      <td>29885.86</td>\n",
       "      <td>M1230701703</td>\n",
       "      <td>0.0</td>\n",
       "      <td>0.0</td>\n",
       "      <td>0</td>\n",
       "    </tr>\n",
       "  </tbody>\n",
       "</table>\n",
       "</div>"
      ],
      "text/plain": [
       "   step      type    amount     nameOrig  oldbalanceOrg  newbalanceOrig  \\\n",
       "0     1   PAYMENT   9839.64  C1231006815       170136.0       160296.36   \n",
       "1     1   PAYMENT   1864.28  C1666544295        21249.0        19384.72   \n",
       "2     1  TRANSFER    181.00  C1305486145          181.0            0.00   \n",
       "3     1  CASH_OUT    181.00   C840083671          181.0            0.00   \n",
       "4     1   PAYMENT  11668.14  C2048537720        41554.0        29885.86   \n",
       "\n",
       "      nameDest  oldbalanceDest  newbalanceDest  isFraud  \n",
       "0  M1979787155             0.0             0.0        0  \n",
       "1  M2044282225             0.0             0.0        0  \n",
       "2   C553264065             0.0             0.0        1  \n",
       "3    C38997010         21182.0             0.0        1  \n",
       "4  M1230701703             0.0             0.0        0  "
      ]
     },
     "execution_count": 69,
     "metadata": {},
     "output_type": "execute_result"
    }
   ],
   "source": [
    "#View fisrt 5 rows\n",
    "Data.head()"
   ]
  },
  {
   "cell_type": "code",
   "execution_count": 70,
   "id": "90c743d6",
   "metadata": {},
   "outputs": [
    {
     "data": {
      "text/html": [
       "<div>\n",
       "<style scoped>\n",
       "    .dataframe tbody tr th:only-of-type {\n",
       "        vertical-align: middle;\n",
       "    }\n",
       "\n",
       "    .dataframe tbody tr th {\n",
       "        vertical-align: top;\n",
       "    }\n",
       "\n",
       "    .dataframe thead th {\n",
       "        text-align: right;\n",
       "    }\n",
       "</style>\n",
       "<table border=\"1\" class=\"dataframe\">\n",
       "  <thead>\n",
       "    <tr style=\"text-align: right;\">\n",
       "      <th></th>\n",
       "      <th>step</th>\n",
       "      <th>type</th>\n",
       "      <th>amount</th>\n",
       "      <th>nameOrig</th>\n",
       "      <th>oldbalanceOrg</th>\n",
       "      <th>newbalanceOrig</th>\n",
       "      <th>nameDest</th>\n",
       "      <th>oldbalanceDest</th>\n",
       "      <th>newbalanceDest</th>\n",
       "      <th>isFraud</th>\n",
       "    </tr>\n",
       "  </thead>\n",
       "  <tbody>\n",
       "    <tr>\n",
       "      <th>1048570</th>\n",
       "      <td>95</td>\n",
       "      <td>CASH_OUT</td>\n",
       "      <td>132557.35</td>\n",
       "      <td>C1179511630</td>\n",
       "      <td>479803.00</td>\n",
       "      <td>347245.65</td>\n",
       "      <td>C435674507</td>\n",
       "      <td>484329.37</td>\n",
       "      <td>616886.72</td>\n",
       "      <td>0</td>\n",
       "    </tr>\n",
       "    <tr>\n",
       "      <th>1048571</th>\n",
       "      <td>95</td>\n",
       "      <td>PAYMENT</td>\n",
       "      <td>9917.36</td>\n",
       "      <td>C1956161225</td>\n",
       "      <td>90545.00</td>\n",
       "      <td>80627.64</td>\n",
       "      <td>M668364942</td>\n",
       "      <td>0.00</td>\n",
       "      <td>0.00</td>\n",
       "      <td>0</td>\n",
       "    </tr>\n",
       "    <tr>\n",
       "      <th>1048572</th>\n",
       "      <td>95</td>\n",
       "      <td>PAYMENT</td>\n",
       "      <td>14140.05</td>\n",
       "      <td>C2037964975</td>\n",
       "      <td>20545.00</td>\n",
       "      <td>6404.95</td>\n",
       "      <td>M1355182933</td>\n",
       "      <td>0.00</td>\n",
       "      <td>0.00</td>\n",
       "      <td>0</td>\n",
       "    </tr>\n",
       "    <tr>\n",
       "      <th>1048573</th>\n",
       "      <td>95</td>\n",
       "      <td>PAYMENT</td>\n",
       "      <td>10020.05</td>\n",
       "      <td>C1633237354</td>\n",
       "      <td>90605.00</td>\n",
       "      <td>80584.95</td>\n",
       "      <td>M1964992463</td>\n",
       "      <td>0.00</td>\n",
       "      <td>0.00</td>\n",
       "      <td>0</td>\n",
       "    </tr>\n",
       "    <tr>\n",
       "      <th>1048574</th>\n",
       "      <td>95</td>\n",
       "      <td>PAYMENT</td>\n",
       "      <td>11450.03</td>\n",
       "      <td>C1264356443</td>\n",
       "      <td>80584.95</td>\n",
       "      <td>69134.92</td>\n",
       "      <td>M677577406</td>\n",
       "      <td>0.00</td>\n",
       "      <td>0.00</td>\n",
       "      <td>0</td>\n",
       "    </tr>\n",
       "  </tbody>\n",
       "</table>\n",
       "</div>"
      ],
      "text/plain": [
       "         step      type     amount     nameOrig  oldbalanceOrg  \\\n",
       "1048570    95  CASH_OUT  132557.35  C1179511630      479803.00   \n",
       "1048571    95   PAYMENT    9917.36  C1956161225       90545.00   \n",
       "1048572    95   PAYMENT   14140.05  C2037964975       20545.00   \n",
       "1048573    95   PAYMENT   10020.05  C1633237354       90605.00   \n",
       "1048574    95   PAYMENT   11450.03  C1264356443       80584.95   \n",
       "\n",
       "         newbalanceOrig     nameDest  oldbalanceDest  newbalanceDest  isFraud  \n",
       "1048570       347245.65   C435674507       484329.37       616886.72        0  \n",
       "1048571        80627.64   M668364942            0.00            0.00        0  \n",
       "1048572         6404.95  M1355182933            0.00            0.00        0  \n",
       "1048573        80584.95  M1964992463            0.00            0.00        0  \n",
       "1048574        69134.92   M677577406            0.00            0.00        0  "
      ]
     },
     "execution_count": 70,
     "metadata": {},
     "output_type": "execute_result"
    }
   ],
   "source": [
    "# View last 5 rows\n",
    "Data.tail()"
   ]
  },
  {
   "cell_type": "code",
   "execution_count": 71,
   "id": "21ad6c2a",
   "metadata": {},
   "outputs": [
    {
     "data": {
      "text/plain": [
       "(1048575, 10)"
      ]
     },
     "execution_count": 71,
     "metadata": {},
     "output_type": "execute_result"
    }
   ],
   "source": [
    "# Shape of the data\n",
    "Data.shape"
   ]
  },
  {
   "cell_type": "code",
   "execution_count": 72,
   "id": "d84eec09",
   "metadata": {},
   "outputs": [
    {
     "data": {
      "text/plain": [
       "Index(['step', 'type', 'amount', 'nameOrig', 'oldbalanceOrg', 'newbalanceOrig',\n",
       "       'nameDest', 'oldbalanceDest', 'newbalanceDest', 'isFraud'],\n",
       "      dtype='object')"
      ]
     },
     "execution_count": 72,
     "metadata": {},
     "output_type": "execute_result"
    }
   ],
   "source": [
    "# Check data columns\n",
    "Data.columns"
   ]
  },
  {
   "cell_type": "code",
   "execution_count": 73,
   "id": "520a61cd",
   "metadata": {},
   "outputs": [
    {
     "data": {
      "text/plain": [
       "step              0\n",
       "type              0\n",
       "amount            0\n",
       "nameOrig          0\n",
       "oldbalanceOrg     0\n",
       "newbalanceOrig    0\n",
       "nameDest          0\n",
       "oldbalanceDest    0\n",
       "newbalanceDest    0\n",
       "isFraud           0\n",
       "dtype: int64"
      ]
     },
     "execution_count": 73,
     "metadata": {},
     "output_type": "execute_result"
    }
   ],
   "source": [
    "# Check missing value\n",
    "Data.isna().sum()"
   ]
  },
  {
   "cell_type": "code",
   "execution_count": 74,
   "id": "52ba5480",
   "metadata": {},
   "outputs": [
    {
     "name": "stdout",
     "output_type": "stream",
     "text": [
      "<class 'pandas.core.frame.DataFrame'>\n",
      "RangeIndex: 1048575 entries, 0 to 1048574\n",
      "Data columns (total 10 columns):\n",
      " #   Column          Non-Null Count    Dtype  \n",
      "---  ------          --------------    -----  \n",
      " 0   step            1048575 non-null  int64  \n",
      " 1   type            1048575 non-null  object \n",
      " 2   amount          1048575 non-null  float64\n",
      " 3   nameOrig        1048575 non-null  object \n",
      " 4   oldbalanceOrg   1048575 non-null  float64\n",
      " 5   newbalanceOrig  1048575 non-null  float64\n",
      " 6   nameDest        1048575 non-null  object \n",
      " 7   oldbalanceDest  1048575 non-null  float64\n",
      " 8   newbalanceDest  1048575 non-null  float64\n",
      " 9   isFraud         1048575 non-null  int64  \n",
      "dtypes: float64(5), int64(2), object(3)\n",
      "memory usage: 80.0+ MB\n"
     ]
    }
   ],
   "source": [
    "# Check data details\n",
    "Data.info()"
   ]
  },
  {
   "cell_type": "code",
   "execution_count": 75,
   "id": "8e588f18",
   "metadata": {},
   "outputs": [
    {
     "data": {
      "text/html": [
       "<div>\n",
       "<style scoped>\n",
       "    .dataframe tbody tr th:only-of-type {\n",
       "        vertical-align: middle;\n",
       "    }\n",
       "\n",
       "    .dataframe tbody tr th {\n",
       "        vertical-align: top;\n",
       "    }\n",
       "\n",
       "    .dataframe thead th {\n",
       "        text-align: right;\n",
       "    }\n",
       "</style>\n",
       "<table border=\"1\" class=\"dataframe\">\n",
       "  <thead>\n",
       "    <tr style=\"text-align: right;\">\n",
       "      <th></th>\n",
       "      <th>step</th>\n",
       "      <th>amount</th>\n",
       "      <th>oldbalanceOrg</th>\n",
       "      <th>newbalanceOrig</th>\n",
       "      <th>oldbalanceDest</th>\n",
       "      <th>newbalanceDest</th>\n",
       "      <th>isFraud</th>\n",
       "    </tr>\n",
       "  </thead>\n",
       "  <tbody>\n",
       "    <tr>\n",
       "      <th>count</th>\n",
       "      <td>1.048575e+06</td>\n",
       "      <td>1.048575e+06</td>\n",
       "      <td>1.048575e+06</td>\n",
       "      <td>1.048575e+06</td>\n",
       "      <td>1.048575e+06</td>\n",
       "      <td>1.048575e+06</td>\n",
       "      <td>1.048575e+06</td>\n",
       "    </tr>\n",
       "    <tr>\n",
       "      <th>mean</th>\n",
       "      <td>2.696617e+01</td>\n",
       "      <td>1.586670e+05</td>\n",
       "      <td>8.740095e+05</td>\n",
       "      <td>8.938089e+05</td>\n",
       "      <td>9.781600e+05</td>\n",
       "      <td>1.114198e+06</td>\n",
       "      <td>1.089097e-03</td>\n",
       "    </tr>\n",
       "    <tr>\n",
       "      <th>std</th>\n",
       "      <td>1.562325e+01</td>\n",
       "      <td>2.649409e+05</td>\n",
       "      <td>2.971751e+06</td>\n",
       "      <td>3.008271e+06</td>\n",
       "      <td>2.296780e+06</td>\n",
       "      <td>2.416593e+06</td>\n",
       "      <td>3.298351e-02</td>\n",
       "    </tr>\n",
       "    <tr>\n",
       "      <th>min</th>\n",
       "      <td>1.000000e+00</td>\n",
       "      <td>1.000000e-01</td>\n",
       "      <td>0.000000e+00</td>\n",
       "      <td>0.000000e+00</td>\n",
       "      <td>0.000000e+00</td>\n",
       "      <td>0.000000e+00</td>\n",
       "      <td>0.000000e+00</td>\n",
       "    </tr>\n",
       "    <tr>\n",
       "      <th>25%</th>\n",
       "      <td>1.500000e+01</td>\n",
       "      <td>1.214907e+04</td>\n",
       "      <td>0.000000e+00</td>\n",
       "      <td>0.000000e+00</td>\n",
       "      <td>0.000000e+00</td>\n",
       "      <td>0.000000e+00</td>\n",
       "      <td>0.000000e+00</td>\n",
       "    </tr>\n",
       "    <tr>\n",
       "      <th>50%</th>\n",
       "      <td>2.000000e+01</td>\n",
       "      <td>7.634333e+04</td>\n",
       "      <td>1.600200e+04</td>\n",
       "      <td>0.000000e+00</td>\n",
       "      <td>1.263772e+05</td>\n",
       "      <td>2.182604e+05</td>\n",
       "      <td>0.000000e+00</td>\n",
       "    </tr>\n",
       "    <tr>\n",
       "      <th>75%</th>\n",
       "      <td>3.900000e+01</td>\n",
       "      <td>2.137619e+05</td>\n",
       "      <td>1.366420e+05</td>\n",
       "      <td>1.746000e+05</td>\n",
       "      <td>9.159235e+05</td>\n",
       "      <td>1.149808e+06</td>\n",
       "      <td>0.000000e+00</td>\n",
       "    </tr>\n",
       "    <tr>\n",
       "      <th>max</th>\n",
       "      <td>9.500000e+01</td>\n",
       "      <td>1.000000e+07</td>\n",
       "      <td>3.890000e+07</td>\n",
       "      <td>3.890000e+07</td>\n",
       "      <td>4.210000e+07</td>\n",
       "      <td>4.220000e+07</td>\n",
       "      <td>1.000000e+00</td>\n",
       "    </tr>\n",
       "  </tbody>\n",
       "</table>\n",
       "</div>"
      ],
      "text/plain": [
       "               step        amount  oldbalanceOrg  newbalanceOrig  \\\n",
       "count  1.048575e+06  1.048575e+06   1.048575e+06    1.048575e+06   \n",
       "mean   2.696617e+01  1.586670e+05   8.740095e+05    8.938089e+05   \n",
       "std    1.562325e+01  2.649409e+05   2.971751e+06    3.008271e+06   \n",
       "min    1.000000e+00  1.000000e-01   0.000000e+00    0.000000e+00   \n",
       "25%    1.500000e+01  1.214907e+04   0.000000e+00    0.000000e+00   \n",
       "50%    2.000000e+01  7.634333e+04   1.600200e+04    0.000000e+00   \n",
       "75%    3.900000e+01  2.137619e+05   1.366420e+05    1.746000e+05   \n",
       "max    9.500000e+01  1.000000e+07   3.890000e+07    3.890000e+07   \n",
       "\n",
       "       oldbalanceDest  newbalanceDest       isFraud  \n",
       "count    1.048575e+06    1.048575e+06  1.048575e+06  \n",
       "mean     9.781600e+05    1.114198e+06  1.089097e-03  \n",
       "std      2.296780e+06    2.416593e+06  3.298351e-02  \n",
       "min      0.000000e+00    0.000000e+00  0.000000e+00  \n",
       "25%      0.000000e+00    0.000000e+00  0.000000e+00  \n",
       "50%      1.263772e+05    2.182604e+05  0.000000e+00  \n",
       "75%      9.159235e+05    1.149808e+06  0.000000e+00  \n",
       "max      4.210000e+07    4.220000e+07  1.000000e+00  "
      ]
     },
     "execution_count": 75,
     "metadata": {},
     "output_type": "execute_result"
    }
   ],
   "source": [
    "# check summary statistics of numeric columns\n",
    "Data.describe()"
   ]
  },
  {
   "cell_type": "markdown",
   "id": "c7298ae4",
   "metadata": {},
   "source": [
    "## Data Visualization"
   ]
  },
  {
   "cell_type": "markdown",
   "id": "aae00c3d",
   "metadata": {},
   "source": [
    "**Univariate Analysis**\n",
    "\n",
    "Exploring variables one by one. From the word \"UNI\" which single/one. Univariate analysis will depend on whether the variable is categorical or numerical/continuous\n",
    "\n",
    "Cash out and Payment are the most common type of transactions but Transfer type has the maximum amount of money being transfered to the recipient."
   ]
  },
  {
   "cell_type": "code",
   "execution_count": 76,
   "id": "ca103f02",
   "metadata": {},
   "outputs": [
    {
     "data": {
      "text/plain": [
       "<AxesSubplot:title={'center':'Counts of each class'}, ylabel='isFraud'>"
      ]
     },
     "execution_count": 76,
     "metadata": {},
     "output_type": "execute_result"
    },
    {
     "data": {
      "image/png": "[encoded data removed]",
      "text/plain": [
       "<Figure size 1080x1080 with 2 Axes>"
      ]
     },
     "metadata": {
      "needs_background": "light"
     },
     "output_type": "display_data"
    }
   ],
   "source": [
    "plt.figure(figsize=(15,15))\n",
    "plt.subplot(2,2,1)\n",
    "plt.xlabel(\"Transaction Type\")\n",
    "plt.ylabel(\"Counts\")\n",
    "\n",
    "# What type of transaction was used the most?\n",
    "Data[\"type\"].value_counts().plot.bar(title=\"Distribution of transaction type\", color=[\"turquoise\", \"mediumturquoise\", \"lightseagreen\", \"green\", \"darkgreen\"], edgecolor=\"Blue\")\n",
    "\n",
    "plt.subplot(2,2,2)\n",
    "plt.ylabel(\"isFraud\")\n",
    "Data[\"isFraud\"].value_counts().plot.bar(title=\"Counts of each class\", color=[\"orange\", \"wheat\"], edgecolor=\"Blue\")\n"
   ]
  },
  {
   "cell_type": "markdown",
   "id": "07375a45",
   "metadata": {},
   "source": [
    "The above graph indicates that the dataset is highly unbalanced."
   ]
  },
  {
   "cell_type": "code",
   "execution_count": 3,
   "id": "6e4579e0",
   "metadata": {},
   "outputs": [
    {
     "ename": "NameError",
     "evalue": "name 'Data' is not defined",
     "output_type": "error",
     "traceback": [
      "\u001b[1;31m---------------------------------------------------------------------------\u001b[0m",
      "\u001b[1;31mNameError\u001b[0m                                 Traceback (most recent call last)",
      "Input \u001b[1;32mIn [3]\u001b[0m, in \u001b[0;36m<cell line: 4>\u001b[1;34m()\u001b[0m\n\u001b[0;32m      1\u001b[0m plt\u001b[38;5;241m.\u001b[39mfigure(figsize\u001b[38;5;241m=\u001b[39m(\u001b[38;5;241m10\u001b[39m,\u001b[38;5;241m15\u001b[39m))\n\u001b[0;32m      3\u001b[0m plt\u001b[38;5;241m.\u001b[39msubplot(\u001b[38;5;241m2\u001b[39m,\u001b[38;5;241m2\u001b[39m,\u001b[38;5;241m1\u001b[39m)\n\u001b[1;32m----> 4\u001b[0m plt\u001b[38;5;241m.\u001b[39mhist(\u001b[43mData\u001b[49m\u001b[38;5;241m.\u001b[39mamount, rwidth\u001b[38;5;241m=\u001b[39m\u001b[38;5;241m0.7\u001b[39m)\n\u001b[0;32m      5\u001b[0m plt\u001b[38;5;241m.\u001b[39mtitle(\u001b[38;5;124m\"\u001b[39m\u001b[38;5;124mAmount\u001b[39m\u001b[38;5;124m\"\u001b[39m)\n\u001b[0;32m      7\u001b[0m plt\u001b[38;5;241m.\u001b[39msubplot(\u001b[38;5;241m2\u001b[39m,\u001b[38;5;241m2\u001b[39m,\u001b[38;5;241m2\u001b[39m)\n",
      "\u001b[1;31mNameError\u001b[0m: name 'Data' is not defined"
     ]
    },
    {
     "data": {
      "image/png": "[encoded data removed]",
      "text/plain": [
       "<Figure size 720x1080 with 1 Axes>"
      ]
     },
     "metadata": {
      "needs_background": "light"
     },
     "output_type": "display_data"
    }
   ],
   "source": [
    "plt.figure(figsize=(10,15))\n",
    "\n",
    "plt.subplot(2,2,1)\n",
    "plt.hist(Data.amount, rwidth=0.7)\n",
    "plt.title(\"Amount\")\n",
    "\n",
    "plt.subplot(2,2,2)\n",
    "plt.hist(Data.isFraud, rwidth=0.7)\n",
    "plt.title(\"isFraud\")\n",
    "\n",
    "\n",
    "plt.subplot(2,2,3)\n",
    "plt.hist(Data.newbalanceOrig, rwidth=0.7)\n",
    "plt.title(\"newbalanceOrig\")\n",
    "\n",
    "plt.subplot(2,2,4)\n",
    "plt.hist(Data.newbalanceDest, rwidth=0.7)\n",
    "plt.title(\"newbalanceDest\")\n"
   ]
  },
  {
   "cell_type": "code",
   "execution_count": 78,
   "id": "1d20b06b",
   "metadata": {},
   "outputs": [
    {
     "data": {
      "text/plain": [
       "Text(0.5, 1.0, 'Step')"
      ]
     },
     "execution_count": 78,
     "metadata": {},
     "output_type": "execute_result"
    },
    {
     "data": {
      "image/png": "[encoded data removed]",
      "text/plain": [
       "<Figure size 720x1080 with 3 Axes>"
      ]
     },
     "metadata": {
      "needs_background": "light"
     },
     "output_type": "display_data"
    }
   ],
   "source": [
    "plt.figure(figsize=(10,15))\n",
    "\n",
    "plt.subplot(2,2,1)\n",
    "plt.hist(Data.oldbalanceOrg, rwidth=0.7)\n",
    "plt.title(\"oldbalanceOrg\")\n",
    "\n",
    "plt.subplot(2,2,2)\n",
    "plt.hist(Data.oldbalanceDest, rwidth=0.7)\n",
    "plt.title(\"newbalanceDest\")\n",
    "\n",
    "\n",
    "plt.subplot(2,2,3)\n",
    "plt.hist(Data.step, rwidth=0.7)\n",
    "plt.title(\"Step\")\n"
   ]
  },
  {
   "cell_type": "code",
   "execution_count": 79,
   "id": "f22c3005",
   "metadata": {},
   "outputs": [
    {
     "data": {
      "text/plain": [
       "<AxesSubplot:xlabel='step', ylabel='Count'>"
      ]
     },
     "execution_count": 79,
     "metadata": {},
     "output_type": "execute_result"
    },
    {
     "data": {
      "image/png": "[encoded data removed]",
      "text/plain": [
       "<Figure size 432x288 with 1 Axes>"
      ]
     },
     "metadata": {
      "needs_background": "light"
     },
     "output_type": "display_data"
    }
   ],
   "source": [
    "# Distribution of the step feature- I observed i dont have a normal distribution\n",
    "sns.histplot(data=Data, x=\"step\")"
   ]
  },
  {
   "cell_type": "code",
   "execution_count": 80,
   "id": "c9b23f84",
   "metadata": {},
   "outputs": [
    {
     "data": {
      "text/plain": [
       "<AxesSubplot:xlabel='amount', ylabel='Count'>"
      ]
     },
     "execution_count": 80,
     "metadata": {},
     "output_type": "execute_result"
    },
    {
     "data": {
      "image/png": "[encoded data removed]",
      "text/plain": [
       "<Figure size 432x288 with 1 Axes>"
      ]
     },
     "metadata": {
      "needs_background": "light"
     },
     "output_type": "display_data"
    }
   ],
   "source": [
    "# The distribution of the amount feature is not symentrical\n",
    "sns.histplot(data=Data, x=\"amount\")"
   ]
  },
  {
   "cell_type": "code",
   "execution_count": 81,
   "id": "3c58f2a2",
   "metadata": {},
   "outputs": [
    {
     "data": {
      "text/plain": [
       "<AxesSubplot:xlabel='amount'>"
      ]
     },
     "execution_count": 81,
     "metadata": {},
     "output_type": "execute_result"
    },
    {
     "data": {
      "image/png": "[encoded data removed]",
      "text/plain": [
       "<Figure size 432x288 with 1 Axes>"
      ]
     },
     "metadata": {
      "needs_background": "light"
     },
     "output_type": "display_data"
    }
   ],
   "source": [
    "# The amount column has a lot outliers\n",
    "sns.boxplot(data=Data, x=\"amount\")"
   ]
  },
  {
   "cell_type": "code",
   "execution_count": 82,
   "id": "d475dc8a",
   "metadata": {},
   "outputs": [
    {
     "name": "stderr",
     "output_type": "stream",
     "text": [
      "C:\\Users\\HP\\anaconda3\\lib\\site-packages\\seaborn\\distributions.py:2619: FutureWarning:\n",
      "\n",
      "`distplot` is a deprecated function and will be removed in a future version. Please adapt your code to use either `displot` (a figure-level function with similar flexibility) or `histplot` (an axes-level function for histograms).\n",
      "\n"
     ]
    },
    {
     "data": {
      "text/plain": [
       "<AxesSubplot:xlabel='step', ylabel='Density'>"
      ]
     },
     "execution_count": 82,
     "metadata": {},
     "output_type": "execute_result"
    },
    {
     "data": {
      "image/png": "[encoded data removed]",
      "text/plain": [
       "<Figure size 1080x432 with 1 Axes>"
      ]
     },
     "metadata": {
      "needs_background": "light"
     },
     "output_type": "display_data"
    }
   ],
   "source": [
    "# Distribution of the step column\n",
    "plt.figure(figsize=(15,6))\n",
    "sns.distplot(Data[\"step\"], bins=100)"
   ]
  },
  {
   "cell_type": "code",
   "execution_count": 83,
   "id": "46ae97ca",
   "metadata": {},
   "outputs": [
    {
     "name": "stderr",
     "output_type": "stream",
     "text": [
      "C:\\Users\\HP\\anaconda3\\lib\\site-packages\\seaborn\\distributions.py:2619: FutureWarning:\n",
      "\n",
      "`distplot` is a deprecated function and will be removed in a future version. Please adapt your code to use either `displot` (a figure-level function with similar flexibility) or `histplot` (an axes-level function for histograms).\n",
      "\n"
     ]
    },
    {
     "data": {
      "text/plain": [
       "<AxesSubplot:xlabel='amount', ylabel='Density'>"
      ]
     },
     "execution_count": 83,
     "metadata": {},
     "output_type": "execute_result"
    },
    {
     "data": {
      "image/png": "[encoded data removed]",
      "text/plain": [
       "<Figure size 1080x432 with 1 Axes>"
      ]
     },
     "metadata": {
      "needs_background": "light"
     },
     "output_type": "display_data"
    }
   ],
   "source": [
    "# Distribution of the amount column\n",
    "plt.figure(figsize=(15,6))\n",
    "sns.distplot(Data[\"amount\"])"
   ]
  },
  {
   "cell_type": "markdown",
   "id": "1831e2d8",
   "metadata": {},
   "source": [
    "**Bi-Variate Analysis**\n",
    "\n",
    "Comparing and analyzing two variables \n",
    "\n",
    "It can be either a combination of categorical vs Categorical or Numerical vs Numerical"
   ]
  },
  {
   "cell_type": "code",
   "execution_count": 84,
   "id": "5f569fda",
   "metadata": {},
   "outputs": [
    {
     "data": {
      "text/plain": [
       "<AxesSubplot:xlabel='type', ylabel='amount'>"
      ]
     },
     "execution_count": 84,
     "metadata": {},
     "output_type": "execute_result"
    },
    {
     "data": {
      "image/png": "[encoded data removed]",
      "text/plain": [
       "<Figure size 432x288 with 1 Axes>"
      ]
     },
     "metadata": {
      "needs_background": "light"
     },
     "output_type": "display_data"
    }
   ],
   "source": [
    "#Type of transaction that had the most amount in value\n",
    "sns.barplot(x=\"type\", y=\"amount\", data=Data)"
   ]
  },
  {
   "cell_type": "code",
   "execution_count": 85,
   "id": "fb3aed76",
   "metadata": {},
   "outputs": [
    {
     "data": {
      "text/plain": [
       "<AxesSubplot:xlabel='type', ylabel='count'>"
      ]
     },
     "execution_count": 85,
     "metadata": {},
     "output_type": "execute_result"
    },
    {
     "data": {
      "image/png": "[encoded data removed]",
      "text/plain": [
       "<Figure size 432x288 with 1 Axes>"
      ]
     },
     "metadata": {
      "needs_background": "light"
     },
     "output_type": "display_data"
    }
   ],
   "source": [
    "#Type of transaction that was used most\n",
    "sns.countplot(x=\"type\", data=Data, hue=\"isFraud\")"
   ]
  },
  {
   "cell_type": "code",
   "execution_count": 86,
   "id": "4bb50cda",
   "metadata": {},
   "outputs": [
    {
     "data": {
      "text/plain": [
       "<seaborn.axisgrid.JointGrid at 0x279b63aa250>"
      ]
     },
     "execution_count": 86,
     "metadata": {},
     "output_type": "execute_result"
    },
    {
     "data": {
      "image/png": "[encoded data removed]",
      "text/plain": [
       "<Figure size 432x432 with 3 Axes>"
      ]
     },
     "metadata": {
      "needs_background": "light"
     },
     "output_type": "display_data"
    }
   ],
   "source": [
    "# A joint plot investigating the relationship between Step and amount\n",
    "sns.jointplot(x=\"step\", y=\"amount\", data=Data)"
   ]
  },
  {
   "cell_type": "code",
   "execution_count": 87,
   "id": "d5dc41cc",
   "metadata": {},
   "outputs": [
    {
     "data": {
      "text/plain": [
       "isFraud           1.000000\n",
       "amount            0.128862\n",
       "step              0.045030\n",
       "oldbalanceOrg     0.003829\n",
       "newbalanceDest   -0.000495\n",
       "oldbalanceDest   -0.007552\n",
       "newbalanceOrig   -0.009438\n",
       "Name: isFraud, dtype: float64"
      ]
     },
     "execution_count": 87,
     "metadata": {},
     "output_type": "execute_result"
    }
   ],
   "source": [
    "corr = Data.corr()\n",
    "corr['isFraud'].sort_values(ascending=False)"
   ]
  },
  {
   "cell_type": "code",
   "execution_count": 88,
   "id": "2c0f6550",
   "metadata": {},
   "outputs": [
    {
     "data": {
      "text/html": [
       "<div>\n",
       "<style scoped>\n",
       "    .dataframe tbody tr th:only-of-type {\n",
       "        vertical-align: middle;\n",
       "    }\n",
       "\n",
       "    .dataframe tbody tr th {\n",
       "        vertical-align: top;\n",
       "    }\n",
       "\n",
       "    .dataframe thead th {\n",
       "        text-align: right;\n",
       "    }\n",
       "</style>\n",
       "<table border=\"1\" class=\"dataframe\">\n",
       "  <thead>\n",
       "    <tr style=\"text-align: right;\">\n",
       "      <th></th>\n",
       "      <th>step</th>\n",
       "      <th>amount</th>\n",
       "      <th>oldbalanceOrg</th>\n",
       "      <th>newbalanceOrig</th>\n",
       "      <th>oldbalanceDest</th>\n",
       "      <th>newbalanceDest</th>\n",
       "      <th>isFraud</th>\n",
       "    </tr>\n",
       "  </thead>\n",
       "  <tbody>\n",
       "    <tr>\n",
       "      <th>step</th>\n",
       "      <td>1.000000</td>\n",
       "      <td>-0.025996</td>\n",
       "      <td>-0.006780</td>\n",
       "      <td>-0.007180</td>\n",
       "      <td>-0.002251</td>\n",
       "      <td>-0.019503</td>\n",
       "      <td>0.045030</td>\n",
       "    </tr>\n",
       "    <tr>\n",
       "      <th>amount</th>\n",
       "      <td>-0.025996</td>\n",
       "      <td>1.000000</td>\n",
       "      <td>0.004864</td>\n",
       "      <td>-0.001133</td>\n",
       "      <td>0.215558</td>\n",
       "      <td>0.311936</td>\n",
       "      <td>0.128862</td>\n",
       "    </tr>\n",
       "    <tr>\n",
       "      <th>oldbalanceOrg</th>\n",
       "      <td>-0.006780</td>\n",
       "      <td>0.004864</td>\n",
       "      <td>1.000000</td>\n",
       "      <td>0.999047</td>\n",
       "      <td>0.093305</td>\n",
       "      <td>0.064049</td>\n",
       "      <td>0.003829</td>\n",
       "    </tr>\n",
       "    <tr>\n",
       "      <th>newbalanceOrig</th>\n",
       "      <td>-0.007180</td>\n",
       "      <td>-0.001133</td>\n",
       "      <td>0.999047</td>\n",
       "      <td>1.000000</td>\n",
       "      <td>0.095182</td>\n",
       "      <td>0.063725</td>\n",
       "      <td>-0.009438</td>\n",
       "    </tr>\n",
       "    <tr>\n",
       "      <th>oldbalanceDest</th>\n",
       "      <td>-0.002251</td>\n",
       "      <td>0.215558</td>\n",
       "      <td>0.093305</td>\n",
       "      <td>0.095182</td>\n",
       "      <td>1.000000</td>\n",
       "      <td>0.978403</td>\n",
       "      <td>-0.007552</td>\n",
       "    </tr>\n",
       "    <tr>\n",
       "      <th>newbalanceDest</th>\n",
       "      <td>-0.019503</td>\n",
       "      <td>0.311936</td>\n",
       "      <td>0.064049</td>\n",
       "      <td>0.063725</td>\n",
       "      <td>0.978403</td>\n",
       "      <td>1.000000</td>\n",
       "      <td>-0.000495</td>\n",
       "    </tr>\n",
       "    <tr>\n",
       "      <th>isFraud</th>\n",
       "      <td>0.045030</td>\n",
       "      <td>0.128862</td>\n",
       "      <td>0.003829</td>\n",
       "      <td>-0.009438</td>\n",
       "      <td>-0.007552</td>\n",
       "      <td>-0.000495</td>\n",
       "      <td>1.000000</td>\n",
       "    </tr>\n",
       "  </tbody>\n",
       "</table>\n",
       "</div>"
      ],
      "text/plain": [
       "                    step    amount  oldbalanceOrg  newbalanceOrig  \\\n",
       "step            1.000000 -0.025996      -0.006780       -0.007180   \n",
       "amount         -0.025996  1.000000       0.004864       -0.001133   \n",
       "oldbalanceOrg  -0.006780  0.004864       1.000000        0.999047   \n",
       "newbalanceOrig -0.007180 -0.001133       0.999047        1.000000   \n",
       "oldbalanceDest -0.002251  0.215558       0.093305        0.095182   \n",
       "newbalanceDest -0.019503  0.311936       0.064049        0.063725   \n",
       "isFraud         0.045030  0.128862       0.003829       -0.009438   \n",
       "\n",
       "                oldbalanceDest  newbalanceDest   isFraud  \n",
       "step                 -0.002251       -0.019503  0.045030  \n",
       "amount                0.215558        0.311936  0.128862  \n",
       "oldbalanceOrg         0.093305        0.064049  0.003829  \n",
       "newbalanceOrig        0.095182        0.063725 -0.009438  \n",
       "oldbalanceDest        1.000000        0.978403 -0.007552  \n",
       "newbalanceDest        0.978403        1.000000 -0.000495  \n",
       "isFraud              -0.007552       -0.000495  1.000000  "
      ]
     },
     "execution_count": 88,
     "metadata": {},
     "output_type": "execute_result"
    }
   ],
   "source": [
    "#Correlation\n",
    "Data.corr()"
   ]
  },
  {
   "cell_type": "code",
   "execution_count": 89,
   "id": "f806a906",
   "metadata": {},
   "outputs": [
    {
     "data": {
      "text/plain": [
       "<AxesSubplot:>"
      ]
     },
     "execution_count": 89,
     "metadata": {},
     "output_type": "execute_result"
    },
    {
     "data": {
      "image/png": "[encoded data removed]",
      "text/plain": [
       "<Figure size 648x576 with 2 Axes>"
      ]
     },
     "metadata": {
      "needs_background": "light"
     },
     "output_type": "display_data"
    }
   ],
   "source": [
    "# Using the heatmap to showcase the relationship between each columns \n",
    "f, ax = plt.subplots(figsize =(9, 8))\n",
    "sns.heatmap(Data.corr(),cmap =\"YlGnBu\", annot=True)"
   ]
  },
  {
   "cell_type": "code",
   "execution_count": 90,
   "id": "094c9b3f",
   "metadata": {},
   "outputs": [
    {
     "data": {
      "text/plain": [
       "0    1047433\n",
       "1       1142\n",
       "Name: isFraud, dtype: int64"
      ]
     },
     "execution_count": 90,
     "metadata": {},
     "output_type": "execute_result"
    }
   ],
   "source": [
    "Data[\"isFraud\"].value_counts()"
   ]
  },
  {
   "cell_type": "code",
   "execution_count": 91,
   "id": "2d2c8c83",
   "metadata": {},
   "outputs": [
    {
     "data": {
      "text/plain": [
       "<matplotlib.legend.Legend at 0x279b6b2f160>"
      ]
     },
     "execution_count": 91,
     "metadata": {},
     "output_type": "execute_result"
    },
    {
     "data": {
      "image/png": "[encoded data removed]",
      "text/plain": [
       "<Figure size 864x576 with 1 Axes>"
      ]
     },
     "metadata": {
      "needs_background": "light"
     },
     "output_type": "display_data"
    }
   ],
   "source": [
    "plt.figure(figsize=(12,8))\n",
    "sns.countplot(x=\"isFraud\", data=Data, hue=\"type\")\n",
    "plt.legend(loc=[0.85,0.8])"
   ]
  },
  {
   "cell_type": "markdown",
   "id": "7f24d45a",
   "metadata": {},
   "source": [
    "There are several ways to approach this classification problem taking into consideration this unbalance.\n",
    "\n",
    "* Collect more data, nice strategy but not applicable in this case\n",
    "* Changing the performance metric\n",
    "* F1score (weighted average of precision recall)\n",
    "* Use Kappa-which is a classification accuracy nomalized by the imbalance of the classes in the data\n",
    "* ROC curves-calculates sensitivity/specificity ratio.\n",
    "\n",
    "Resampling the dataset\n",
    "\n",
    "* Essentially this is a method that will process the data to have an approximate 50-50 ratio.\n",
    "* One way to achieve this is by OVER-sampling, which is adding copies of the under-represented class (better when i have little data)\n",
    "* Another is UNDER-sampling, which deletes instances from the over-represented class(better when i have lot's of data)\n",
    "\n"
   ]
  },
  {
   "cell_type": "code",
   "execution_count": 92,
   "id": "baf652ef",
   "metadata": {},
   "outputs": [
    {
     "data": {
      "text/plain": [
       "Index(['step', 'type', 'amount', 'oldbalanceOrg', 'newbalanceOrig',\n",
       "       'oldbalanceDest', 'newbalanceDest', 'isFraud'],\n",
       "      dtype='object')"
      ]
     },
     "execution_count": 92,
     "metadata": {},
     "output_type": "execute_result"
    }
   ],
   "source": [
    "#Delete unneccesary columns\n",
    "Data.drop([\"nameOrig\", \"nameDest\"], axis=1, inplace=True)\n",
    "Data.columns"
   ]
  },
  {
   "cell_type": "code",
   "execution_count": 93,
   "id": "467266e2",
   "metadata": {},
   "outputs": [
    {
     "data": {
      "text/html": [
       "<div>\n",
       "<style scoped>\n",
       "    .dataframe tbody tr th:only-of-type {\n",
       "        vertical-align: middle;\n",
       "    }\n",
       "\n",
       "    .dataframe tbody tr th {\n",
       "        vertical-align: top;\n",
       "    }\n",
       "\n",
       "    .dataframe thead th {\n",
       "        text-align: right;\n",
       "    }\n",
       "</style>\n",
       "<table border=\"1\" class=\"dataframe\">\n",
       "  <thead>\n",
       "    <tr style=\"text-align: right;\">\n",
       "      <th></th>\n",
       "      <th>step</th>\n",
       "      <th>type</th>\n",
       "      <th>amount</th>\n",
       "      <th>oldbalanceOrg</th>\n",
       "      <th>newbalanceOrig</th>\n",
       "      <th>oldbalanceDest</th>\n",
       "      <th>newbalanceDest</th>\n",
       "      <th>isFraud</th>\n",
       "    </tr>\n",
       "  </thead>\n",
       "  <tbody>\n",
       "    <tr>\n",
       "      <th>0</th>\n",
       "      <td>1</td>\n",
       "      <td>PAYMENT</td>\n",
       "      <td>9839.64</td>\n",
       "      <td>170136.0</td>\n",
       "      <td>160296.36</td>\n",
       "      <td>0.0</td>\n",
       "      <td>0.0</td>\n",
       "      <td>0</td>\n",
       "    </tr>\n",
       "    <tr>\n",
       "      <th>1</th>\n",
       "      <td>1</td>\n",
       "      <td>PAYMENT</td>\n",
       "      <td>1864.28</td>\n",
       "      <td>21249.0</td>\n",
       "      <td>19384.72</td>\n",
       "      <td>0.0</td>\n",
       "      <td>0.0</td>\n",
       "      <td>0</td>\n",
       "    </tr>\n",
       "    <tr>\n",
       "      <th>2</th>\n",
       "      <td>1</td>\n",
       "      <td>TRANSFER</td>\n",
       "      <td>181.00</td>\n",
       "      <td>181.0</td>\n",
       "      <td>0.00</td>\n",
       "      <td>0.0</td>\n",
       "      <td>0.0</td>\n",
       "      <td>1</td>\n",
       "    </tr>\n",
       "    <tr>\n",
       "      <th>3</th>\n",
       "      <td>1</td>\n",
       "      <td>CASH_OUT</td>\n",
       "      <td>181.00</td>\n",
       "      <td>181.0</td>\n",
       "      <td>0.00</td>\n",
       "      <td>21182.0</td>\n",
       "      <td>0.0</td>\n",
       "      <td>1</td>\n",
       "    </tr>\n",
       "    <tr>\n",
       "      <th>4</th>\n",
       "      <td>1</td>\n",
       "      <td>PAYMENT</td>\n",
       "      <td>11668.14</td>\n",
       "      <td>41554.0</td>\n",
       "      <td>29885.86</td>\n",
       "      <td>0.0</td>\n",
       "      <td>0.0</td>\n",
       "      <td>0</td>\n",
       "    </tr>\n",
       "  </tbody>\n",
       "</table>\n",
       "</div>"
      ],
      "text/plain": [
       "   step      type    amount  oldbalanceOrg  newbalanceOrig  oldbalanceDest  \\\n",
       "0     1   PAYMENT   9839.64       170136.0       160296.36             0.0   \n",
       "1     1   PAYMENT   1864.28        21249.0        19384.72             0.0   \n",
       "2     1  TRANSFER    181.00          181.0            0.00             0.0   \n",
       "3     1  CASH_OUT    181.00          181.0            0.00         21182.0   \n",
       "4     1   PAYMENT  11668.14        41554.0        29885.86             0.0   \n",
       "\n",
       "   newbalanceDest  isFraud  \n",
       "0             0.0        0  \n",
       "1             0.0        0  \n",
       "2             0.0        1  \n",
       "3             0.0        1  \n",
       "4             0.0        0  "
      ]
     },
     "execution_count": 93,
     "metadata": {},
     "output_type": "execute_result"
    }
   ],
   "source": [
    "Data.head()"
   ]
  },
  {
   "cell_type": "markdown",
   "id": "fe75887c",
   "metadata": {},
   "source": [
    "## Sub-Sample"
   ]
  },
  {
   "cell_type": "markdown",
   "id": "a0f9f6ce",
   "metadata": {},
   "source": [
    "This will create a dataframe with a ratio of 50/50 ratio of fraud and non-fraud transactions. This is done to avoid OVERFITTING and WRONG CORRELATIONS "
   ]
  },
  {
   "cell_type": "code",
   "execution_count": 95,
   "id": "d8066526",
   "metadata": {},
   "outputs": [
    {
     "data": {
      "text/html": [
       "<div>\n",
       "<style scoped>\n",
       "    .dataframe tbody tr th:only-of-type {\n",
       "        vertical-align: middle;\n",
       "    }\n",
       "\n",
       "    .dataframe tbody tr th {\n",
       "        vertical-align: top;\n",
       "    }\n",
       "\n",
       "    .dataframe thead th {\n",
       "        text-align: right;\n",
       "    }\n",
       "</style>\n",
       "<table border=\"1\" class=\"dataframe\">\n",
       "  <thead>\n",
       "    <tr style=\"text-align: right;\">\n",
       "      <th></th>\n",
       "      <th>step</th>\n",
       "      <th>type</th>\n",
       "      <th>amount</th>\n",
       "      <th>oldbalanceOrg</th>\n",
       "      <th>newbalanceOrig</th>\n",
       "      <th>oldbalanceDest</th>\n",
       "      <th>newbalanceDest</th>\n",
       "      <th>isFraud</th>\n",
       "      <th>Scale_step</th>\n",
       "      <th>Scale_amount</th>\n",
       "      <th>Scale_oldbalanceOrg</th>\n",
       "      <th>Scale_newbalanceOrig</th>\n",
       "      <th>Scale_oldbalanceDest</th>\n",
       "    </tr>\n",
       "  </thead>\n",
       "  <tbody>\n",
       "    <tr>\n",
       "      <th>0</th>\n",
       "      <td>1</td>\n",
       "      <td>PAYMENT</td>\n",
       "      <td>9839.64</td>\n",
       "      <td>170136.0</td>\n",
       "      <td>160296.36</td>\n",
       "      <td>0.0</td>\n",
       "      <td>0.0</td>\n",
       "      <td>0</td>\n",
       "      <td>-0.791667</td>\n",
       "      <td>-0.329858</td>\n",
       "      <td>1.128013</td>\n",
       "      <td>0.918078</td>\n",
       "      <td>-0.189823</td>\n",
       "    </tr>\n",
       "    <tr>\n",
       "      <th>1</th>\n",
       "      <td>1</td>\n",
       "      <td>PAYMENT</td>\n",
       "      <td>1864.28</td>\n",
       "      <td>21249.0</td>\n",
       "      <td>19384.72</td>\n",
       "      <td>0.0</td>\n",
       "      <td>0.0</td>\n",
       "      <td>0</td>\n",
       "      <td>-0.791667</td>\n",
       "      <td>-0.369416</td>\n",
       "      <td>0.038400</td>\n",
       "      <td>0.111024</td>\n",
       "      <td>-0.189823</td>\n",
       "    </tr>\n",
       "    <tr>\n",
       "      <th>2</th>\n",
       "      <td>1</td>\n",
       "      <td>TRANSFER</td>\n",
       "      <td>181.00</td>\n",
       "      <td>181.0</td>\n",
       "      <td>0.00</td>\n",
       "      <td>0.0</td>\n",
       "      <td>0.0</td>\n",
       "      <td>1</td>\n",
       "      <td>-0.791667</td>\n",
       "      <td>-0.377765</td>\n",
       "      <td>-0.115784</td>\n",
       "      <td>0.000000</td>\n",
       "      <td>-0.189823</td>\n",
       "    </tr>\n",
       "    <tr>\n",
       "      <th>3</th>\n",
       "      <td>1</td>\n",
       "      <td>CASH_OUT</td>\n",
       "      <td>181.00</td>\n",
       "      <td>181.0</td>\n",
       "      <td>0.00</td>\n",
       "      <td>21182.0</td>\n",
       "      <td>0.0</td>\n",
       "      <td>1</td>\n",
       "      <td>-0.791667</td>\n",
       "      <td>-0.377765</td>\n",
       "      <td>-0.115784</td>\n",
       "      <td>0.000000</td>\n",
       "      <td>-0.189823</td>\n",
       "    </tr>\n",
       "    <tr>\n",
       "      <th>4</th>\n",
       "      <td>1</td>\n",
       "      <td>PAYMENT</td>\n",
       "      <td>11668.14</td>\n",
       "      <td>41554.0</td>\n",
       "      <td>29885.86</td>\n",
       "      <td>0.0</td>\n",
       "      <td>0.0</td>\n",
       "      <td>0</td>\n",
       "      <td>-0.791667</td>\n",
       "      <td>-0.320789</td>\n",
       "      <td>0.187000</td>\n",
       "      <td>0.171168</td>\n",
       "      <td>-0.189823</td>\n",
       "    </tr>\n",
       "  </tbody>\n",
       "</table>\n",
       "</div>"
      ],
      "text/plain": [
       "   step      type    amount  oldbalanceOrg  newbalanceOrig  oldbalanceDest  \\\n",
       "0     1   PAYMENT   9839.64       170136.0       160296.36             0.0   \n",
       "1     1   PAYMENT   1864.28        21249.0        19384.72             0.0   \n",
       "2     1  TRANSFER    181.00          181.0            0.00             0.0   \n",
       "3     1  CASH_OUT    181.00          181.0            0.00         21182.0   \n",
       "4     1   PAYMENT  11668.14        41554.0        29885.86             0.0   \n",
       "\n",
       "   newbalanceDest  isFraud  Scale_step  Scale_amount  Scale_oldbalanceOrg  \\\n",
       "0             0.0        0   -0.791667     -0.329858             1.128013   \n",
       "1             0.0        0   -0.791667     -0.369416             0.038400   \n",
       "2             0.0        1   -0.791667     -0.377765            -0.115784   \n",
       "3             0.0        1   -0.791667     -0.377765            -0.115784   \n",
       "4             0.0        0   -0.791667     -0.320789             0.187000   \n",
       "\n",
       "   Scale_newbalanceOrig  Scale_oldbalanceDest  \n",
       "0              0.918078             -0.189823  \n",
       "1              0.111024             -0.189823  \n",
       "2              0.000000             -0.189823  \n",
       "3              0.000000             -0.189823  \n",
       "4              0.171168             -0.189823  "
      ]
     },
     "execution_count": 95,
     "metadata": {},
     "output_type": "execute_result"
    }
   ],
   "source": [
    "from sklearn.preprocessing import StandardScaler, RobustScaler\n",
    "\n",
    "\n",
    "rob_scaler = RobustScaler()\n",
    "\n",
    "#create a new column for scaled columns\n",
    "Data[\"Scale_step\"] = rob_scaler.fit_transform(Data[\"step\"].values.reshape(-1,1))\n",
    "Data[\"Scale_amount\"] = rob_scaler.fit_transform(Data[\"amount\"].values.reshape(-1,1))\n",
    "Data[\"Scale_oldbalanceOrg\"] = rob_scaler.fit_transform(Data[\"oldbalanceOrg\"].values.reshape(-1,1))\n",
    "Data[\"Scale_newbalanceOrig\"] = rob_scaler.fit_transform(Data[\"newbalanceOrig\"].values.reshape(-1,1))\n",
    "Data[\"Scale_oldbalanceDest\"] = rob_scaler.fit_transform(Data[\"oldbalanceDest\"].values.reshape(-1,1))\n",
    "Data[\"Scale_oldbalanceDest\"] = rob_scaler.fit_transform(Data[\"newbalanceDest\"].values.reshape(-1,1))\n",
    "\n",
    "Data.head()"
   ]
  },
  {
   "cell_type": "code",
   "execution_count": 96,
   "id": "400f9387",
   "metadata": {},
   "outputs": [
    {
     "data": {
      "text/html": [
       "<div>\n",
       "<style scoped>\n",
       "    .dataframe tbody tr th:only-of-type {\n",
       "        vertical-align: middle;\n",
       "    }\n",
       "\n",
       "    .dataframe tbody tr th {\n",
       "        vertical-align: top;\n",
       "    }\n",
       "\n",
       "    .dataframe thead th {\n",
       "        text-align: right;\n",
       "    }\n",
       "</style>\n",
       "<table border=\"1\" class=\"dataframe\">\n",
       "  <thead>\n",
       "    <tr style=\"text-align: right;\">\n",
       "      <th></th>\n",
       "      <th>type</th>\n",
       "      <th>isFraud</th>\n",
       "      <th>Scale_step</th>\n",
       "      <th>Scale_amount</th>\n",
       "      <th>Scale_oldbalanceOrg</th>\n",
       "      <th>Scale_newbalanceOrig</th>\n",
       "      <th>Scale_oldbalanceDest</th>\n",
       "    </tr>\n",
       "  </thead>\n",
       "  <tbody>\n",
       "    <tr>\n",
       "      <th>0</th>\n",
       "      <td>PAYMENT</td>\n",
       "      <td>0</td>\n",
       "      <td>-0.791667</td>\n",
       "      <td>-0.329858</td>\n",
       "      <td>1.128013</td>\n",
       "      <td>0.918078</td>\n",
       "      <td>-0.189823</td>\n",
       "    </tr>\n",
       "    <tr>\n",
       "      <th>1</th>\n",
       "      <td>PAYMENT</td>\n",
       "      <td>0</td>\n",
       "      <td>-0.791667</td>\n",
       "      <td>-0.369416</td>\n",
       "      <td>0.038400</td>\n",
       "      <td>0.111024</td>\n",
       "      <td>-0.189823</td>\n",
       "    </tr>\n",
       "    <tr>\n",
       "      <th>2</th>\n",
       "      <td>TRANSFER</td>\n",
       "      <td>1</td>\n",
       "      <td>-0.791667</td>\n",
       "      <td>-0.377765</td>\n",
       "      <td>-0.115784</td>\n",
       "      <td>0.000000</td>\n",
       "      <td>-0.189823</td>\n",
       "    </tr>\n",
       "    <tr>\n",
       "      <th>3</th>\n",
       "      <td>CASH_OUT</td>\n",
       "      <td>1</td>\n",
       "      <td>-0.791667</td>\n",
       "      <td>-0.377765</td>\n",
       "      <td>-0.115784</td>\n",
       "      <td>0.000000</td>\n",
       "      <td>-0.189823</td>\n",
       "    </tr>\n",
       "    <tr>\n",
       "      <th>4</th>\n",
       "      <td>PAYMENT</td>\n",
       "      <td>0</td>\n",
       "      <td>-0.791667</td>\n",
       "      <td>-0.320789</td>\n",
       "      <td>0.187000</td>\n",
       "      <td>0.171168</td>\n",
       "      <td>-0.189823</td>\n",
       "    </tr>\n",
       "  </tbody>\n",
       "</table>\n",
       "</div>"
      ],
      "text/plain": [
       "       type  isFraud  Scale_step  Scale_amount  Scale_oldbalanceOrg  \\\n",
       "0   PAYMENT        0   -0.791667     -0.329858             1.128013   \n",
       "1   PAYMENT        0   -0.791667     -0.369416             0.038400   \n",
       "2  TRANSFER        1   -0.791667     -0.377765            -0.115784   \n",
       "3  CASH_OUT        1   -0.791667     -0.377765            -0.115784   \n",
       "4   PAYMENT        0   -0.791667     -0.320789             0.187000   \n",
       "\n",
       "   Scale_newbalanceOrig  Scale_oldbalanceDest  \n",
       "0              0.918078             -0.189823  \n",
       "1              0.111024             -0.189823  \n",
       "2              0.000000             -0.189823  \n",
       "3              0.000000             -0.189823  \n",
       "4              0.171168             -0.189823  "
      ]
     },
     "execution_count": 96,
     "metadata": {},
     "output_type": "execute_result"
    }
   ],
   "source": [
    "Data.drop([\"step\", \"amount\", \"oldbalanceOrg\", \"newbalanceOrig\", \"oldbalanceDest\", \"newbalanceDest\"], axis=1, inplace=True)\n",
    "Data.head()"
   ]
  },
  {
   "cell_type": "code",
   "execution_count": 98,
   "id": "cb95793b",
   "metadata": {},
   "outputs": [
    {
     "data": {
      "text/plain": [
       "<AxesSubplot:xlabel='Scale_amount'>"
      ]
     },
     "execution_count": 98,
     "metadata": {},
     "output_type": "execute_result"
    },
    {
     "data": {
      "image/png": "[encoded data removed]",
      "text/plain": [
       "<Figure size 432x288 with 1 Axes>"
      ]
     },
     "metadata": {
      "needs_background": "light"
     },
     "output_type": "display_data"
    }
   ],
   "source": [
    "# The amount column has a lot outliers\n",
    "sns.boxplot(data=Data, x=\"Scale_amount\")"
   ]
  },
  {
   "cell_type": "code",
   "execution_count": 105,
   "id": "ed7fd0c9",
   "metadata": {},
   "outputs": [
    {
     "name": "stdout",
     "output_type": "stream",
     "text": [
      "Non-Fraud transactions =  1047433\n",
      "Fraud transactions =  1142\n",
      "-------------------------\n",
      "Result from random undersampling\n",
      "Non-Fraud transactions =  1142\n",
      "Fraud transactions =  1142\n"
     ]
    }
   ],
   "source": [
    "#Random Under-Sampling\n",
    "#This basically consists of removing data in order to have a more balanced dataset and thus avoiding our models to overfitting\n",
    "\n",
    "print(\"Non-Fraud transactions = \", Data[\"isFraud\"].value_counts()[0])\n",
    "print(\"Fraud transactions = \", Data[\"isFraud\"].value_counts()[1])\n",
    "print(\"-------------------------\")\n",
    "\n",
    "Data=Data.sample(frac=1)\n",
    "\n",
    "#Amount of fraud classes 492 rows.\n",
    "fraud_Data = Data.loc[Data[\"isFraud\"] == 1]\n",
    "non_fraud_Data = Data.loc[Data[\"isFraud\"] == 0][:1142]\n",
    "\n",
    "normal_distributed_Data =pd.concat([fraud_Data, non_fraud_Data])\n",
    "\n",
    "#Shuffle dataframe rows\n",
    "new_Data = normal_distributed_Data.sample(frac=1, random_state=42)\n",
    "\n",
    "new_Data.head()\n",
    "\n",
    "print(\"Result from random undersampling\")\n",
    "print(\"Non-Fraud transactions = \", new_Data[\"isFraud\"].value_counts()[0])\n",
    "print(\"Fraud transactions = \", new_Data[\"isFraud\"].value_counts()[1])"
   ]
  },
  {
   "cell_type": "markdown",
   "id": "cd700077",
   "metadata": {},
   "source": [
    "#### Data Inspection after random undersampling"
   ]
  },
  {
   "cell_type": "code",
   "execution_count": 100,
   "id": "0fd00626",
   "metadata": {},
   "outputs": [
    {
     "data": {
      "text/html": [
       "<div>\n",
       "<style scoped>\n",
       "    .dataframe tbody tr th:only-of-type {\n",
       "        vertical-align: middle;\n",
       "    }\n",
       "\n",
       "    .dataframe tbody tr th {\n",
       "        vertical-align: top;\n",
       "    }\n",
       "\n",
       "    .dataframe thead th {\n",
       "        text-align: right;\n",
       "    }\n",
       "</style>\n",
       "<table border=\"1\" class=\"dataframe\">\n",
       "  <thead>\n",
       "    <tr style=\"text-align: right;\">\n",
       "      <th></th>\n",
       "      <th>type</th>\n",
       "      <th>isFraud</th>\n",
       "      <th>Scale_step</th>\n",
       "      <th>Scale_amount</th>\n",
       "      <th>Scale_oldbalanceOrg</th>\n",
       "      <th>Scale_newbalanceOrig</th>\n",
       "      <th>Scale_oldbalanceDest</th>\n",
       "    </tr>\n",
       "  </thead>\n",
       "  <tbody>\n",
       "    <tr>\n",
       "      <th>729661</th>\n",
       "      <td>CASH_OUT</td>\n",
       "      <td>1</td>\n",
       "      <td>0.708333</td>\n",
       "      <td>2.120152</td>\n",
       "      <td>3.569848</td>\n",
       "      <td>0.0</td>\n",
       "      <td>9.029111</td>\n",
       "    </tr>\n",
       "    <tr>\n",
       "      <th>884860</th>\n",
       "      <td>TRANSFER</td>\n",
       "      <td>0</td>\n",
       "      <td>0.916667</td>\n",
       "      <td>2.857294</td>\n",
       "      <td>-0.044049</td>\n",
       "      <td>0.0</td>\n",
       "      <td>0.542631</td>\n",
       "    </tr>\n",
       "    <tr>\n",
       "      <th>940748</th>\n",
       "      <td>CASH_OUT</td>\n",
       "      <td>0</td>\n",
       "      <td>0.958333</td>\n",
       "      <td>0.033332</td>\n",
       "      <td>-0.117109</td>\n",
       "      <td>0.0</td>\n",
       "      <td>0.134141</td>\n",
       "    </tr>\n",
       "    <tr>\n",
       "      <th>66780</th>\n",
       "      <td>CASH_OUT</td>\n",
       "      <td>0</td>\n",
       "      <td>-0.458333</td>\n",
       "      <td>0.594766</td>\n",
       "      <td>0.622400</td>\n",
       "      <td>0.0</td>\n",
       "      <td>-0.189823</td>\n",
       "    </tr>\n",
       "    <tr>\n",
       "      <th>178668</th>\n",
       "      <td>CASH_OUT</td>\n",
       "      <td>1</td>\n",
       "      <td>-0.333333</td>\n",
       "      <td>0.722699</td>\n",
       "      <td>-0.117109</td>\n",
       "      <td>0.0</td>\n",
       "      <td>0.005886</td>\n",
       "    </tr>\n",
       "  </tbody>\n",
       "</table>\n",
       "</div>"
      ],
      "text/plain": [
       "            type  isFraud  Scale_step  Scale_amount  Scale_oldbalanceOrg  \\\n",
       "729661  CASH_OUT        1    0.708333      2.120152             3.569848   \n",
       "884860  TRANSFER        0    0.916667      2.857294            -0.044049   \n",
       "940748  CASH_OUT        0    0.958333      0.033332            -0.117109   \n",
       "66780   CASH_OUT        0   -0.458333      0.594766             0.622400   \n",
       "178668  CASH_OUT        1   -0.333333      0.722699            -0.117109   \n",
       "\n",
       "        Scale_newbalanceOrig  Scale_oldbalanceDest  \n",
       "729661                   0.0              9.029111  \n",
       "884860                   0.0              0.542631  \n",
       "940748                   0.0              0.134141  \n",
       "66780                    0.0             -0.189823  \n",
       "178668                   0.0              0.005886  "
      ]
     },
     "execution_count": 100,
     "metadata": {},
     "output_type": "execute_result"
    }
   ],
   "source": [
    "new_Data.head()"
   ]
  },
  {
   "cell_type": "code",
   "execution_count": 101,
   "id": "0f6aea96",
   "metadata": {},
   "outputs": [
    {
     "name": "stdout",
     "output_type": "stream",
     "text": [
      "<class 'pandas.core.frame.DataFrame'>\n",
      "Int64Index: 2284 entries, 729661 to 397547\n",
      "Data columns (total 7 columns):\n",
      " #   Column                Non-Null Count  Dtype  \n",
      "---  ------                --------------  -----  \n",
      " 0   type                  2284 non-null   object \n",
      " 1   isFraud               2284 non-null   int64  \n",
      " 2   Scale_step            2284 non-null   float64\n",
      " 3   Scale_amount          2284 non-null   float64\n",
      " 4   Scale_oldbalanceOrg   2284 non-null   float64\n",
      " 5   Scale_newbalanceOrig  2284 non-null   float64\n",
      " 6   Scale_oldbalanceDest  2284 non-null   float64\n",
      "dtypes: float64(5), int64(1), object(1)\n",
      "memory usage: 142.8+ KB\n"
     ]
    }
   ],
   "source": [
    "new_Data.info()"
   ]
  },
  {
   "cell_type": "code",
   "execution_count": 103,
   "id": "1b03dc4f",
   "metadata": {},
   "outputs": [
    {
     "name": "stderr",
     "output_type": "stream",
     "text": [
      "C:\\Users\\HP\\anaconda3\\lib\\site-packages\\seaborn\\_decorators.py:36: FutureWarning:\n",
      "\n",
      "Pass the following variable as a keyword arg: x. From version 0.12, the only valid positional argument will be `data`, and passing other arguments without an explicit keyword will result in an error or misinterpretation.\n",
      "\n"
     ]
    },
    {
     "data": {
      "image/png": "[encoded data removed]",
      "text/plain": [
       "<Figure size 432x288 with 1 Axes>"
      ]
     },
     "metadata": {
      "needs_background": "light"
     },
     "output_type": "display_data"
    }
   ],
   "source": [
    "sns.countplot(\"isFraud\", data=new_Data)\n",
    "plt.title(\"Equally Distributed Classes\", fontsize=14)\n",
    "plt.show()"
   ]
  },
  {
   "cell_type": "markdown",
   "id": "ccabde71",
   "metadata": {},
   "source": [
    "### Feature Engineering"
   ]
  },
  {
   "cell_type": "code",
   "execution_count": 106,
   "id": "6983f750",
   "metadata": {},
   "outputs": [
    {
     "data": {
      "text/html": [
       "<div>\n",
       "<style scoped>\n",
       "    .dataframe tbody tr th:only-of-type {\n",
       "        vertical-align: middle;\n",
       "    }\n",
       "\n",
       "    .dataframe tbody tr th {\n",
       "        vertical-align: top;\n",
       "    }\n",
       "\n",
       "    .dataframe thead th {\n",
       "        text-align: right;\n",
       "    }\n",
       "</style>\n",
       "<table border=\"1\" class=\"dataframe\">\n",
       "  <thead>\n",
       "    <tr style=\"text-align: right;\">\n",
       "      <th></th>\n",
       "      <th>type</th>\n",
       "      <th>isFraud</th>\n",
       "      <th>Scale_step</th>\n",
       "      <th>Scale_amount</th>\n",
       "      <th>Scale_oldbalanceOrg</th>\n",
       "      <th>Scale_newbalanceOrig</th>\n",
       "      <th>Scale_oldbalanceDest</th>\n",
       "    </tr>\n",
       "  </thead>\n",
       "  <tbody>\n",
       "    <tr>\n",
       "      <th>1030456</th>\n",
       "      <td>1</td>\n",
       "      <td>1</td>\n",
       "      <td>1.916667</td>\n",
       "      <td>2.340757</td>\n",
       "      <td>3.895346</td>\n",
       "      <td>0.000000</td>\n",
       "      <td>0.287013</td>\n",
       "    </tr>\n",
       "    <tr>\n",
       "      <th>334315</th>\n",
       "      <td>2</td>\n",
       "      <td>0</td>\n",
       "      <td>-0.166667</td>\n",
       "      <td>-0.260384</td>\n",
       "      <td>-0.117109</td>\n",
       "      <td>0.000000</td>\n",
       "      <td>-0.189823</td>\n",
       "    </tr>\n",
       "    <tr>\n",
       "      <th>677324</th>\n",
       "      <td>2</td>\n",
       "      <td>0</td>\n",
       "      <td>0.666667</td>\n",
       "      <td>-0.172370</td>\n",
       "      <td>0.223991</td>\n",
       "      <td>0.028735</td>\n",
       "      <td>-0.189823</td>\n",
       "    </tr>\n",
       "    <tr>\n",
       "      <th>732916</th>\n",
       "      <td>2</td>\n",
       "      <td>0</td>\n",
       "      <td>0.708333</td>\n",
       "      <td>-0.329977</td>\n",
       "      <td>-0.117109</td>\n",
       "      <td>0.000000</td>\n",
       "      <td>-0.189823</td>\n",
       "    </tr>\n",
       "    <tr>\n",
       "      <th>343301</th>\n",
       "      <td>1</td>\n",
       "      <td>1</td>\n",
       "      <td>-0.166667</td>\n",
       "      <td>-0.224536</td>\n",
       "      <td>0.110303</td>\n",
       "      <td>0.000000</td>\n",
       "      <td>-0.162798</td>\n",
       "    </tr>\n",
       "  </tbody>\n",
       "</table>\n",
       "</div>"
      ],
      "text/plain": [
       "         type  isFraud  Scale_step  Scale_amount  Scale_oldbalanceOrg  \\\n",
       "1030456     1        1    1.916667      2.340757             3.895346   \n",
       "334315      2        0   -0.166667     -0.260384            -0.117109   \n",
       "677324      2        0    0.666667     -0.172370             0.223991   \n",
       "732916      2        0    0.708333     -0.329977            -0.117109   \n",
       "343301      1        1   -0.166667     -0.224536             0.110303   \n",
       "\n",
       "         Scale_newbalanceOrig  Scale_oldbalanceDest  \n",
       "1030456              0.000000              0.287013  \n",
       "334315               0.000000             -0.189823  \n",
       "677324               0.028735             -0.189823  \n",
       "732916               0.000000             -0.189823  \n",
       "343301               0.000000             -0.162798  "
      ]
     },
     "execution_count": 106,
     "metadata": {},
     "output_type": "execute_result"
    }
   ],
   "source": [
    "# Convert categorical column into numerical (type)\n",
    "from sklearn.preprocessing import LabelEncoder\n",
    "new_Data[\"type\"] = new_Data[\"type\"].map({\"CASH_OUT\":1, \"PAYMENT\":2, \"CASH_IN\":3, \"TRANSFER\":4, \"DEBIT\":5})\n",
    "new_Data.head()"
   ]
  },
  {
   "cell_type": "code",
   "execution_count": 118,
   "id": "6c34dbc8",
   "metadata": {},
   "outputs": [],
   "source": [
    "from sklearn.tree import DecisionTreeClassifier\n",
    "from sklearn.preprocessing import LabelEncoder\n",
    "from sklearn import metrics\n",
    "from sklearn.model_selection import train_test_split\n",
    "from sklearn.metrics import classification_report, confusion_matrix\n",
    "from sklearn.metrics import accuracy_score\n",
    "from sklearn.linear_model import LogisticRegression\n",
    "from sklearn.neighbors import KNeighborsClassifier\n",
    "import plotly.express as px\n",
    "from sklearn.svm import SVC\n",
    "from sklearn.ensemble import RandomForestClassifier\n",
    "from sklearn.metrics import roc_auc_score\n",
    "from sklearn.model_selection import cross_val_score\n",
    "from sklearn.naive_bayes import GaussianNB\n",
    "from sklearn.svm import LinearSVC, SVC\n",
    "# import xgboost as xgb\n",
    "# from xgboost import XGBClassifier\n",
    "from sklearn.linear_model import SGDClassifier\n",
    "from sklearn.model_selection import StratifiedKFold\n"
   ]
  },
  {
   "cell_type": "code",
   "execution_count": 119,
   "id": "2703ad06",
   "metadata": {},
   "outputs": [],
   "source": [
    "# Machine learning algorithms will be apply to the dataset\n",
    "classifiers = [[RandomForestClassifier(), \"Random Forest\"],\n",
    "               [KNeighborsClassifier(), \"K-Nearest Neighbors\"],\n",
    "               [SGDClassifier(), \"SGD Classifier\"],\n",
    "               [SVC(), \"SVC\"],\n",
    "               [GaussianNB(), \"Naive Bayes\"],\n",
    "               [DecisionTreeClassifier(random_state = 42), \"Decision Tree\"],\n",
    "               [LogisticRegression(), \"Logistic Regression\"]\n",
    "              ]\n",
    "               \n",
    "    \n"
   ]
  },
  {
   "cell_type": "markdown",
   "id": "bab60dae",
   "metadata": {},
   "source": [
    "## Select Target\n",
    "\n",
    "The target is what i want to predict. In this project i want to predict isFraud.\n",
    "\n",
    "I tend to name my target `y`"
   ]
  },
  {
   "cell_type": "code",
   "execution_count": 127,
   "id": "bf6a6626",
   "metadata": {},
   "outputs": [],
   "source": [
    "label = new_Data[\"isFraud\"]\n"
   ]
  },
  {
   "cell_type": "markdown",
   "id": "27d39ea6",
   "metadata": {},
   "source": [
    "## Select Features\n",
    "\n",
    "Features is the necessary columns that i created from my existing features, after\n",
    "insights from my EDA\n",
    "\n",
    "I tend to call the training data `X`"
   ]
  },
  {
   "cell_type": "code",
   "execution_count": 128,
   "id": "2c226159",
   "metadata": {},
   "outputs": [],
   "source": [
    "Data_1 = new_Data.drop(\"isFraud\", axis=1)\n"
   ]
  },
  {
   "cell_type": "markdown",
   "id": "84367587",
   "metadata": {},
   "source": [
    "## Model Selection, Training, and Validation\n"
   ]
  },
  {
   "cell_type": "markdown",
   "id": "1fee3022",
   "metadata": {},
   "source": [
    "**Train Test Split**"
   ]
  },
  {
   "cell_type": "code",
   "execution_count": 129,
   "id": "96dc9ad4",
   "metadata": {},
   "outputs": [],
   "source": [
    "X_train,X_test,y_train,y_test=train_test_split(Data_1, label, test_size=0.3)"
   ]
  },
  {
   "cell_type": "code",
   "execution_count": 131,
   "id": "d23c5720",
   "metadata": {},
   "outputs": [
    {
     "name": "stdout",
     "output_type": "stream",
     "text": [
      "\n",
      "\n",
      "\n",
      "\n",
      "\n",
      "\n"
     ]
    }
   ],
   "source": [
    "score_list = {}\n",
    "cross_val_list = {}\n",
    "roc_auc_list = {}\n",
    "accuracy_score_list = {}\n",
    "\n",
    "for classifier in classifiers:\n",
    "    model = classifier[0]\n",
    "    model.fit(X_train, y_train)\n",
    "    model_name = classifier[1]\n",
    "    \n",
    "    pred = model.predict(X_test)\n",
    "    \n",
    "    score = model.score(X_test, y_test)\n",
    "    cross_val = cross_val_score(model, X_test, y_test).mean()\n",
    "    roc_auc = roc_auc_score(y_test, pred)\n",
    "    accuracy = accuracy_score(y_test, pred)\n",
    "    \n",
    "    score_list[model_name] = ([str(round(score*100, 2)) + '%'])\n",
    "    cross_val_list[model_name] = ([str(round(cross_val*100, 2)) + '%'])\n",
    "    roc_auc_list[model_name] = ([str(round(roc_auc*100, 2)) + '%'])\n",
    "    accuracy_score_list[model_name] = ([str(round(accuracy*100, 2)) + '%'])\n",
    "    \n",
    "    if model_name != classifiers[-1][1]:\n",
    "        print('')"
   ]
  },
  {
   "cell_type": "code",
   "execution_count": 132,
   "id": "7d0c6196",
   "metadata": {},
   "outputs": [
    {
     "name": "stdout",
     "output_type": "stream",
     "text": [
      "Accuracy Score\n"
     ]
    },
    {
     "data": {
      "text/html": [
       "<div>\n",
       "<style scoped>\n",
       "    .dataframe tbody tr th:only-of-type {\n",
       "        vertical-align: middle;\n",
       "    }\n",
       "\n",
       "    .dataframe tbody tr th {\n",
       "        vertical-align: top;\n",
       "    }\n",
       "\n",
       "    .dataframe thead th {\n",
       "        text-align: right;\n",
       "    }\n",
       "</style>\n",
       "<table border=\"1\" class=\"dataframe\">\n",
       "  <thead>\n",
       "    <tr style=\"text-align: right;\">\n",
       "      <th></th>\n",
       "      <th>Random Forest</th>\n",
       "      <th>K-Nearest Neighbors</th>\n",
       "      <th>SGD Classifier</th>\n",
       "      <th>SVC</th>\n",
       "      <th>Naive Bayes</th>\n",
       "      <th>Decision Tree</th>\n",
       "      <th>Logistic Regression</th>\n",
       "    </tr>\n",
       "  </thead>\n",
       "  <tbody>\n",
       "    <tr>\n",
       "      <th>0</th>\n",
       "      <td>97.38%</td>\n",
       "      <td>94.61%</td>\n",
       "      <td>91.11%</td>\n",
       "      <td>82.51%</td>\n",
       "      <td>80.32%</td>\n",
       "      <td>96.21%</td>\n",
       "      <td>90.67%</td>\n",
       "    </tr>\n",
       "  </tbody>\n",
       "</table>\n",
       "</div>"
      ],
      "text/plain": [
       "  Random Forest K-Nearest Neighbors SGD Classifier     SVC Naive Bayes  \\\n",
       "0        97.38%              94.61%         91.11%  82.51%      80.32%   \n",
       "\n",
       "  Decision Tree Logistic Regression  \n",
       "0        96.21%              90.67%  "
      ]
     },
     "execution_count": 132,
     "metadata": {},
     "output_type": "execute_result"
    }
   ],
   "source": [
    "print(\"Accuracy Score\")\n",
    "sl = pd.DataFrame(score_list)\n",
    "sl.head()"
   ]
  },
  {
   "cell_type": "code",
   "execution_count": 133,
   "id": "cbe23ce1",
   "metadata": {},
   "outputs": [
    {
     "name": "stdout",
     "output_type": "stream",
     "text": [
      "Cross Validation\n"
     ]
    },
    {
     "data": {
      "text/html": [
       "<div>\n",
       "<style scoped>\n",
       "    .dataframe tbody tr th:only-of-type {\n",
       "        vertical-align: middle;\n",
       "    }\n",
       "\n",
       "    .dataframe tbody tr th {\n",
       "        vertical-align: top;\n",
       "    }\n",
       "\n",
       "    .dataframe thead th {\n",
       "        text-align: right;\n",
       "    }\n",
       "</style>\n",
       "<table border=\"1\" class=\"dataframe\">\n",
       "  <thead>\n",
       "    <tr style=\"text-align: right;\">\n",
       "      <th></th>\n",
       "      <th>Random Forest</th>\n",
       "      <th>K-Nearest Neighbors</th>\n",
       "      <th>SGD Classifier</th>\n",
       "      <th>SVC</th>\n",
       "      <th>Naive Bayes</th>\n",
       "      <th>Decision Tree</th>\n",
       "      <th>Logistic Regression</th>\n",
       "    </tr>\n",
       "  </thead>\n",
       "  <tbody>\n",
       "    <tr>\n",
       "      <th>0</th>\n",
       "      <td>96.94%</td>\n",
       "      <td>93.3%</td>\n",
       "      <td>88.05%</td>\n",
       "      <td>76.82%</td>\n",
       "      <td>69.24%</td>\n",
       "      <td>93.73%</td>\n",
       "      <td>89.36%</td>\n",
       "    </tr>\n",
       "  </tbody>\n",
       "</table>\n",
       "</div>"
      ],
      "text/plain": [
       "  Random Forest K-Nearest Neighbors SGD Classifier     SVC Naive Bayes  \\\n",
       "0        96.94%               93.3%         88.05%  76.82%      69.24%   \n",
       "\n",
       "  Decision Tree Logistic Regression  \n",
       "0        93.73%              89.36%  "
      ]
     },
     "execution_count": 133,
     "metadata": {},
     "output_type": "execute_result"
    }
   ],
   "source": [
    "print(\"Cross Validation\")\n",
    "sl = pd.DataFrame(cross_val_list)\n",
    "sl.head()"
   ]
  },
  {
   "cell_type": "code",
   "execution_count": 136,
   "id": "9bdaa2e2",
   "metadata": {},
   "outputs": [
    {
     "name": "stdout",
     "output_type": "stream",
     "text": [
      "roc_auc_list\n"
     ]
    },
    {
     "data": {
      "text/html": [
       "<div>\n",
       "<style scoped>\n",
       "    .dataframe tbody tr th:only-of-type {\n",
       "        vertical-align: middle;\n",
       "    }\n",
       "\n",
       "    .dataframe tbody tr th {\n",
       "        vertical-align: top;\n",
       "    }\n",
       "\n",
       "    .dataframe thead th {\n",
       "        text-align: right;\n",
       "    }\n",
       "</style>\n",
       "<table border=\"1\" class=\"dataframe\">\n",
       "  <thead>\n",
       "    <tr style=\"text-align: right;\">\n",
       "      <th></th>\n",
       "      <th>Random Forest</th>\n",
       "      <th>K-Nearest Neighbors</th>\n",
       "      <th>SGD Classifier</th>\n",
       "      <th>SVC</th>\n",
       "      <th>Naive Bayes</th>\n",
       "      <th>Decision Tree</th>\n",
       "      <th>Logistic Regression</th>\n",
       "    </tr>\n",
       "  </thead>\n",
       "  <tbody>\n",
       "    <tr>\n",
       "      <th>0</th>\n",
       "      <td>97.38%</td>\n",
       "      <td>94.61%</td>\n",
       "      <td>91.11%</td>\n",
       "      <td>82.51%</td>\n",
       "      <td>80.32%</td>\n",
       "      <td>96.21%</td>\n",
       "      <td>90.67%</td>\n",
       "    </tr>\n",
       "  </tbody>\n",
       "</table>\n",
       "</div>"
      ],
      "text/plain": [
       "  Random Forest K-Nearest Neighbors SGD Classifier     SVC Naive Bayes  \\\n",
       "0        97.38%              94.61%         91.11%  82.51%      80.32%   \n",
       "\n",
       "  Decision Tree Logistic Regression  \n",
       "0        96.21%              90.67%  "
      ]
     },
     "execution_count": 136,
     "metadata": {},
     "output_type": "execute_result"
    }
   ],
   "source": [
    "print(\"roc_auc_list\")\n",
    "sl = pd.DataFrame(roc_auc_list)\n",
    "sl.head()"
   ]
  },
  {
   "cell_type": "markdown",
   "id": "52caec28",
   "metadata": {},
   "source": [
    "**Logistic Regression**"
   ]
  },
  {
   "cell_type": "code",
   "execution_count": 137,
   "id": "26b83523",
   "metadata": {},
   "outputs": [],
   "source": [
    "LR_model = LogisticRegression(random_state=20)"
   ]
  },
  {
   "cell_type": "code",
   "execution_count": 138,
   "id": "8c2f41c5",
   "metadata": {},
   "outputs": [
    {
     "data": {
      "text/plain": [
       "LogisticRegression(random_state=20)"
      ]
     },
     "execution_count": 138,
     "metadata": {},
     "output_type": "execute_result"
    }
   ],
   "source": [
    "LR_model.fit(X_train,y_train) "
   ]
  },
  {
   "cell_type": "code",
   "execution_count": 139,
   "id": "39f44028",
   "metadata": {},
   "outputs": [],
   "source": [
    "LR_pred = LR_model.predict(X_test)"
   ]
  },
  {
   "cell_type": "code",
   "execution_count": 140,
   "id": "a6cd6e69",
   "metadata": {},
   "outputs": [
    {
     "name": "stdout",
     "output_type": "stream",
     "text": [
      "0.9067055393586005\n"
     ]
    }
   ],
   "source": [
    "print(accuracy_score(LR_pred,y_test))"
   ]
  },
  {
   "cell_type": "code",
   "execution_count": 141,
   "id": "c1c64360",
   "metadata": {},
   "outputs": [
    {
     "name": "stdout",
     "output_type": "stream",
     "text": [
      "              precision    recall  f1-score   support\n",
      "\n",
      "           0       0.95      0.87      0.91       375\n",
      "           1       0.86      0.95      0.90       311\n",
      "\n",
      "    accuracy                           0.91       686\n",
      "   macro avg       0.91      0.91      0.91       686\n",
      "weighted avg       0.91      0.91      0.91       686\n",
      "\n"
     ]
    }
   ],
   "source": [
    "print(classification_report(LR_pred,y_test))"
   ]
  },
  {
   "cell_type": "code",
   "execution_count": 142,
   "id": "558b85ed",
   "metadata": {},
   "outputs": [
    {
     "name": "stdout",
     "output_type": "stream",
     "text": [
      "[[327  48]\n",
      " [ 16 295]]\n"
     ]
    }
   ],
   "source": [
    "print(confusion_matrix(LR_pred,y_test))"
   ]
  },
  {
   "cell_type": "code",
   "execution_count": 170,
   "id": "0db63a79",
   "metadata": {},
   "outputs": [
    {
     "data": {
      "image/png": "[encoded data removed]",
      "text/plain": [
       "<Figure size 360x216 with 2 Axes>"
      ]
     },
     "metadata": {
      "needs_background": "light"
     },
     "output_type": "display_data"
    }
   ],
   "source": [
    "CM = confusion_matrix(LR_pred, y_test)\n",
    "plt.figure(figsize=(5, 3))\n",
    "sns.heatmap(CM,\n",
    "cmap='Set3',\n",
    "linecolor='black',\n",
    "linewidths=1.5,\n",
    "annot=True,\n",
    "fmt='d')\n",
    "plt.title('Confusion Matrix: LR_Model')\n",
    "plt.ylabel('True Label')\n",
    "plt.xlabel('Predicted Label')\n",
    "plt.show()"
   ]
  },
  {
   "cell_type": "markdown",
   "id": "b6340db1",
   "metadata": {},
   "source": [
    "**Random Forest**"
   ]
  },
  {
   "cell_type": "code",
   "execution_count": 144,
   "id": "0fdb67cd",
   "metadata": {},
   "outputs": [],
   "source": [
    "RF_model = RandomForestClassifier()"
   ]
  },
  {
   "cell_type": "code",
   "execution_count": 145,
   "id": "bfcaaccd",
   "metadata": {},
   "outputs": [
    {
     "data": {
      "text/plain": [
       "RandomForestClassifier()"
      ]
     },
     "execution_count": 145,
     "metadata": {},
     "output_type": "execute_result"
    }
   ],
   "source": [
    "RF_model.fit(X_train, y_train)"
   ]
  },
  {
   "cell_type": "code",
   "execution_count": 147,
   "id": "1daf7908",
   "metadata": {},
   "outputs": [],
   "source": [
    "RF_pred = RF_model.predict(X_test)"
   ]
  },
  {
   "cell_type": "code",
   "execution_count": 148,
   "id": "11b1ea2d",
   "metadata": {},
   "outputs": [
    {
     "name": "stdout",
     "output_type": "stream",
     "text": [
      "0.9766763848396501\n"
     ]
    }
   ],
   "source": [
    "print(accuracy_score(RF_pred, y_test))"
   ]
  },
  {
   "cell_type": "code",
   "execution_count": 158,
   "id": "aba7c287",
   "metadata": {},
   "outputs": [
    {
     "name": "stdout",
     "output_type": "stream",
     "text": [
      "              precision    recall  f1-score   support\n",
      "\n",
      "           0       0.98      0.97      0.98       345\n",
      "           1       0.97      0.98      0.98       341\n",
      "\n",
      "    accuracy                           0.98       686\n",
      "   macro avg       0.98      0.98      0.98       686\n",
      "weighted avg       0.98      0.98      0.98       686\n",
      "\n"
     ]
    }
   ],
   "source": [
    "print(classification_report(RF_pred,y_test))"
   ]
  },
  {
   "cell_type": "code",
   "execution_count": 159,
   "id": "e6242db6",
   "metadata": {},
   "outputs": [
    {
     "name": "stdout",
     "output_type": "stream",
     "text": [
      "[[336   9]\n",
      " [  7 334]]\n"
     ]
    }
   ],
   "source": [
    "print(confusion_matrix(RF_pred,y_test))"
   ]
  },
  {
   "cell_type": "code",
   "execution_count": 160,
   "id": "f7993449",
   "metadata": {},
   "outputs": [
    {
     "data": {
      "image/png": "[encoded data removed]",
      "text/plain": [
       "<Figure size 360x216 with 2 Axes>"
      ]
     },
     "metadata": {
      "needs_background": "light"
     },
     "output_type": "display_data"
    }
   ],
   "source": [
    "CM = confusion_matrix(RF_pred, y_test)\n",
    "plt.figure(figsize=(5, 3))\n",
    "sns.heatmap(CM,\n",
    "cmap='Set2',\n",
    "linecolor='black',\n",
    "linewidths=1.5,\n",
    "annot=True,\n",
    "fmt='d')\n",
    "plt.title('Confusion Matrix: RF_Model')\n",
    "plt.ylabel('True Label')\n",
    "plt.xlabel('Predicted Label')\n",
    "plt.show()"
   ]
  },
  {
   "cell_type": "markdown",
   "id": "9f778f85",
   "metadata": {},
   "source": [
    "**Decision Tree**"
   ]
  },
  {
   "cell_type": "code",
   "execution_count": 162,
   "id": "c3455544",
   "metadata": {},
   "outputs": [],
   "source": [
    "DC_model = DecisionTreeClassifier(random_state = 42)"
   ]
  },
  {
   "cell_type": "code",
   "execution_count": 163,
   "id": "615ded64",
   "metadata": {},
   "outputs": [
    {
     "data": {
      "text/plain": [
       "DecisionTreeClassifier(random_state=42)"
      ]
     },
     "execution_count": 163,
     "metadata": {},
     "output_type": "execute_result"
    }
   ],
   "source": [
    "DC_model.fit(X_train, y_train)"
   ]
  },
  {
   "cell_type": "code",
   "execution_count": 164,
   "id": "b1fbc94a",
   "metadata": {},
   "outputs": [],
   "source": [
    "DC_pred = DC_model.predict(X_test)"
   ]
  },
  {
   "cell_type": "code",
   "execution_count": 165,
   "id": "930905e1",
   "metadata": {},
   "outputs": [
    {
     "name": "stdout",
     "output_type": "stream",
     "text": [
      "0.9620991253644315\n"
     ]
    }
   ],
   "source": [
    "print(accuracy_score(DC_pred, y_test))"
   ]
  },
  {
   "cell_type": "code",
   "execution_count": 166,
   "id": "bc02b02f",
   "metadata": {},
   "outputs": [
    {
     "name": "stdout",
     "output_type": "stream",
     "text": [
      "              precision    recall  f1-score   support\n",
      "\n",
      "           0       0.97      0.96      0.96       347\n",
      "           1       0.96      0.97      0.96       339\n",
      "\n",
      "    accuracy                           0.96       686\n",
      "   macro avg       0.96      0.96      0.96       686\n",
      "weighted avg       0.96      0.96      0.96       686\n",
      "\n"
     ]
    }
   ],
   "source": [
    "print(classification_report(DC_pred, y_test))"
   ]
  },
  {
   "cell_type": "code",
   "execution_count": 168,
   "id": "0267910d",
   "metadata": {},
   "outputs": [
    {
     "name": "stdout",
     "output_type": "stream",
     "text": [
      "[[332  15]\n",
      " [ 11 328]]\n"
     ]
    }
   ],
   "source": [
    "print(confusion_matrix(DC_pred, y_test))"
   ]
  },
  {
   "cell_type": "code",
   "execution_count": 169,
   "id": "fe43ea80",
   "metadata": {},
   "outputs": [
    {
     "data": {
      "image/png": "[encoded data removed]",
      "text/plain": [
       "<Figure size 360x216 with 2 Axes>"
      ]
     },
     "metadata": {
      "needs_background": "light"
     },
     "output_type": "display_data"
    }
   ],
   "source": [
    "CM = confusion_matrix(DC_pred, y_test)\n",
    "plt.figure(figsize=(5, 3))\n",
    "sns.heatmap(CM,\n",
    "cmap='Set3',\n",
    "linecolor='black',\n",
    "linewidths=1.5,\n",
    "annot=True,\n",
    "fmt='d')\n",
    "plt.title('Confusion Matrix: DC_Model')\n",
    "plt.ylabel('True Label')\n",
    "plt.xlabel('Predicted Label')\n",
    "plt.show()"
   ]
  },
  {
   "cell_type": "markdown",
   "id": "3719ae51",
   "metadata": {},
   "source": [
    "Note: One of the important points of doing this project is to identify two things.\n",
    " * Which matrix should be looking at? \n",
    " * Which model do they work perfectly for the problem?\n",
    "    \n",
    "In this case, I want the higher recall because it actually covers the highest number of fraud cases. So Random Forest is the best model that fits this problem.\n"
   ]
  },
  {
   "cell_type": "code",
   "execution_count": null,
   "id": "db942178",
   "metadata": {},
   "outputs": [],
   "source": []
  }
 ],
 "metadata": {
  "kernelspec": {
   "display_name": "Python 3 (ipykernel)",
   "language": "python",
   "name": "python3"
  },
  "language_info": {
   "codemirror_mode": {
    "name": "ipython",
    "version": 3
   },
   "file_extension": ".py",
   "mimetype": "text/x-python",
   "name": "python",
   "nbconvert_exporter": "python",
   "pygments_lexer": "ipython3",
   "version": "3.11.5"
  }
 },
 "nbformat": 4,
 "nbformat_minor": 5
}
