{
 "cells": [
  {
   "cell_type": "code",
   "execution_count": 2,
   "id": "7be8e932-a10d-4c2e-b3d1-4ab6cc54c73c",
   "metadata": {
    "tags": []
   },
   "outputs": [],
   "source": [
    "def test():\n",
    "    print('Hello world')"
   ]
  },
  {
   "cell_type": "code",
   "execution_count": 9,
   "id": "9fc5b6d5-7cb4-470a-b2e0-f0526b3269ff",
   "metadata": {
    "tags": []
   },
   "outputs": [
    {
     "name": "stdout",
     "output_type": "stream",
     "text": [
      "My Friend\n",
      "I love God\n",
      "Hello world\n",
      "I love myself\n"
     ]
    }
   ],
   "source": [
    "def decorator(f):\n",
    "    print('My Friend')\n",
    "    def wrapper():\n",
    "        print('I love God')\n",
    "        f()\n",
    "        print('I love myself')\n",
    "    return wrapper\n",
    "callfunct= decorator(test)\n",
    "callfunct()\n",
    "         "
   ]
  },
  {
   "cell_type": "code",
   "execution_count": 55,
   "id": "f2d71ee3-09bd-4a43-a787-4da5120a5f9c",
   "metadata": {
    "tags": []
   },
   "outputs": [],
   "source": [
    "import time\n",
    "import math\n",
    "\n",
    "def cal_time(f):\n",
    "    def wrp(*args, **kwags):\n",
    "        start_time=time.time()\n",
    "        result=f(*args , **kwags)\n",
    "        end_time=time.time()\n",
    "        print(f'Total time taken {f.__name__}: {end_time - start_time}')\n",
    "        return result\n",
    "    return wrp"
   ]
  },
  {
   "cell_type": "code",
   "execution_count": 56,
   "id": "1dec3d51-17cc-441c-b09d-fcd6b3388a26",
   "metadata": {
    "tags": []
   },
   "outputs": [
    {
     "name": "stdout",
     "output_type": "stream",
     "text": [
      "Total time taken fact: 0.0\n",
      "Total time taken fact: 0.0\n",
      "Total time taken fact: 0.0\n",
      "Total time taken fact: 0.0\n",
      "Total time taken fact: 0.0\n",
      "Total time taken fact: 0.0\n",
      "Total time taken fact: 0.0\n",
      "Total time taken fact: 0.0\n",
      "Total time taken fact: 0.0\n",
      "Total time taken fact: 0.0\n",
      "Total time taken fact: 0.0\n",
      "Total time taken fact: 0.0\n",
      "Total time taken fact: 0.0\n",
      "Total time taken fact: 0.0\n",
      "Total time taken fact: 0.0\n",
      "Total time taken fact: 0.0\n",
      "Total time taken fact: 0.0\n",
      "Total time taken fact: 0.0\n",
      "Total time taken fact: 0.0\n",
      "Total time taken fact: 0.0\n",
      "Total time taken fact: 0.0\n",
      "Total time taken fact: 0.0\n",
      "Total time taken fact: 0.0\n",
      "Total time taken fact: 0.0\n",
      "Total time taken fact: 0.0\n",
      "Total time taken fact: 0.0\n",
      "Total time taken fact: 0.0\n",
      "Total time taken fact: 0.0\n",
      "Total time taken fact: 0.0\n",
      "Total time taken fact: 0.0\n",
      "Total time taken fact: 0.0009989738464355469\n",
      "Total time taken fact: 0.0009989738464355469\n",
      "Total time taken fact: 0.0009989738464355469\n",
      "Total time taken fact: 0.0009989738464355469\n",
      "Total time taken fact: 0.0009989738464355469\n",
      "Total time taken fact: 0.0009989738464355469\n",
      "Total time taken fact: 0.0009989738464355469\n",
      "Total time taken fact: 0.0009989738464355469\n",
      "Total time taken fact: 0.0009989738464355469\n",
      "Total time taken fact: 0.0009989738464355469\n",
      "Total time taken fact: 0.0009989738464355469\n",
      "Total time taken fact: 0.0009989738464355469\n",
      "Total time taken fact: 0.0009989738464355469\n",
      "Total time taken fact: 0.0009989738464355469\n",
      "Total time taken fact: 0.0009989738464355469\n",
      "Total time taken fact: 0.0009989738464355469\n",
      "Total time taken fact: 0.0009989738464355469\n",
      "Total time taken fact: 0.0009989738464355469\n",
      "Total time taken fact: 0.0009989738464355469\n",
      "Total time taken fact: 0.0009989738464355469\n"
     ]
    },
    {
     "data": {
      "text/plain": [
       "30414093201713378043612608166064768844377641568960512000000000000"
      ]
     },
     "execution_count": 56,
     "metadata": {},
     "output_type": "execute_result"
    }
   ],
   "source": [
    "@cal_time\n",
    "def fact(n):\n",
    "    if n in [0,1]:\n",
    "        return 1\n",
    "    else:\n",
    "        return n * fact(n-1)\n",
    "fact(50)    "
   ]
  },
  {
   "cell_type": "code",
   "execution_count": 57,
   "id": "9decd845-6300-4562-9510-6aba70c0a70b",
   "metadata": {
    "tags": []
   },
   "outputs": [
    {
     "name": "stdout",
     "output_type": "stream",
     "text": [
      "Total time taken fact: 0.0\n",
      "Total time taken fact: 0.0\n",
      "Total time taken fact: 0.0\n",
      "Total time taken fact: 0.0\n",
      "Total time taken fact: 0.0\n",
      "Total time taken fact: 0.0\n",
      "Total time taken fact: 0.0\n",
      "Total time taken fact: 0.0\n",
      "Total time taken fact: 0.0\n",
      "Total time taken fact: 0.0\n"
     ]
    },
    {
     "data": {
      "text/plain": [
       "3628800"
      ]
     },
     "execution_count": 57,
     "metadata": {},
     "output_type": "execute_result"
    }
   ],
   "source": [
    "b= fact(10)\n",
    "b"
   ]
  },
  {
   "cell_type": "code",
   "execution_count": 58,
   "id": "22de9f37-13d0-4865-999a-2c9f0085d8bb",
   "metadata": {
    "tags": []
   },
   "outputs": [
    {
     "name": "stdout",
     "output_type": "stream",
     "text": [
      "6\n",
      "Total time taken funct_2: 0.0009987354278564453\n"
     ]
    }
   ],
   "source": [
    "@cal_time\n",
    "def funct_2(n):\n",
    "    print(math.factorial(n))\n",
    "funct_2(3)\n",
    "\n",
    "    \n",
    "    "
   ]
  },
  {
   "cell_type": "code",
   "execution_count": 52,
   "id": "0510aebf-5063-4b13-a491-1584dddb0f42",
   "metadata": {
    "tags": []
   },
   "outputs": [
    {
     "name": "stdout",
     "output_type": "stream",
     "text": [
      "Total time taken example_function: 0.2391042709350586\n"
     ]
    }
   ],
   "source": [
    "@cal_time\n",
    "def example_function():\n",
    "    # Some code to measure execution time for\n",
    "    for _ in range(1000000):\n",
    "        math.sqrt(123456)\n",
    "\n",
    "# Call the decorated function\n",
    "example_function()\n"
   ]
  },
  {
   "cell_type": "code",
   "execution_count": 59,
   "id": "ccf28c16-46d7-4c35-9943-0afa39a160f9",
   "metadata": {
    "tags": []
   },
   "outputs": [],
   "source": [
    "def greetdeco(f):\n",
    "    def wrap(*args,**kwags):\n",
    "        print('Good morning')\n",
    "        res=f(*args,**kwags)\n",
    "        print('Hello world')\n",
    "        return res\n",
    "    return wrap"
   ]
  },
  {
   "cell_type": "code",
   "execution_count": 63,
   "id": "97f76fc3-a852-42ee-9aab-01946533c806",
   "metadata": {
    "tags": []
   },
   "outputs": [],
   "source": [
    "@greetdeco\n",
    "def sum3no(x,y,z):\n",
    "    print('Sum of three nos')\n",
    "    return x+y+z"
   ]
  },
  {
   "cell_type": "code",
   "execution_count": 64,
   "id": "14ad1114-7057-446d-a136-f7fcc41c348a",
   "metadata": {
    "tags": []
   },
   "outputs": [
    {
     "name": "stdout",
     "output_type": "stream",
     "text": [
      "Good morning\n",
      "Sum of three nos\n",
      "Hello world\n"
     ]
    },
    {
     "data": {
      "text/plain": [
       "13"
      ]
     },
     "execution_count": 64,
     "metadata": {},
     "output_type": "execute_result"
    }
   ],
   "source": [
    "x,y,z= 3,4,6\n",
    "sum3no(x,y,z)"
   ]
  },
  {
   "cell_type": "code",
   "execution_count": 77,
   "id": "2d4a70db-93b9-4867-af86-09ae79a9618f",
   "metadata": {
    "tags": []
   },
   "outputs": [],
   "source": [
    "def italics(f):\n",
    "    def rap():\n",
    "        return \"<i>\" + f() + \"</i>\"\n",
    "    return rap\n",
    "\n",
    "def strong(f):\n",
    "    def raps():\n",
    "        return \"<strong>\" + f() + \"</strong>\"\n",
    "    return raps       \n",
    "        "
   ]
  },
  {
   "cell_type": "code",
   "execution_count": 78,
   "id": "52556b27-b79b-462d-a688-bd4597650a56",
   "metadata": {
    "tags": []
   },
   "outputs": [
    {
     "data": {
      "text/plain": [
       "'<i><strong>dfg</strong></i>'"
      ]
     },
     "execution_count": 78,
     "metadata": {},
     "output_type": "execute_result"
    }
   ],
   "source": [
    "@italics\n",
    "@strong\n",
    "def abc():\n",
    "    return 'dfg'\n",
    "abc()"
   ]
  },
  {
   "cell_type": "code",
   "execution_count": 82,
   "id": "2add4f78-79af-4a1a-bfc5-4eaeaf672600",
   "metadata": {
    "tags": []
   },
   "outputs": [],
   "source": [
    "def suare(f):\n",
    "    def rapp(*args,**kwags):\n",
    "        res=f(*args,**kwags)\n",
    "        return res*res\n",
    "    return rapp\n",
    "def double(f):\n",
    "    def rapps(*args,**kwags):\n",
    "        res=f(*args,**kwags)\n",
    "        return res*2\n",
    "    return rapps"
   ]
  },
  {
   "cell_type": "code",
   "execution_count": 83,
   "id": "15ad7a76-92b6-4d49-be05-725ff5e006df",
   "metadata": {
    "tags": []
   },
   "outputs": [],
   "source": [
    "@suare\n",
    "@double\n",
    "\n",
    "def fun1():\n",
    "    return 5\n",
    "def fun2():\n",
    "    return 2\n",
    "def fun3():\n",
    "    return 3"
   ]
  },
  {
   "cell_type": "code",
   "execution_count": 84,
   "id": "063f908f-d48d-472d-ab30-2a70d733249f",
   "metadata": {
    "tags": []
   },
   "outputs": [
    {
     "data": {
      "text/plain": [
       "100"
      ]
     },
     "execution_count": 84,
     "metadata": {},
     "output_type": "execute_result"
    }
   ],
   "source": [
    "fun1()"
   ]
  },
  {
   "cell_type": "code",
   "execution_count": 88,
   "id": "7be3e40b-48a5-4582-8ac5-d2f55c106b1c",
   "metadata": {
    "tags": []
   },
   "outputs": [],
   "source": [
    "import time\n",
    "import random\n",
    "\n",
    "def retry_dec(max_dura, triger_excep):\n",
    "    def deco(f):\n",
    "        def wrapp(*args,**kwags):\n",
    "            ret_num = 0\n",
    "            while ret_num<max_dura:\n",
    "                try:\n",
    "                    res=f(*args,**kwags)\n",
    "                    return res\n",
    "                except triger_excep as e:\n",
    "                    print(f'retrying {f.__name__} connection {e}')\n",
    "                    ret_num+=1\n",
    "                    delay=random.uniform(0.1,1.0)\n",
    "                    time.sleep(delay)\n",
    "            raise ValueError(f'Maximum Attempt Reached')\n",
    "        return wrapp\n",
    "    return deco"
   ]
  },
  {
   "cell_type": "code",
   "execution_count": 91,
   "id": "8a301ecf-2b5e-4917-8af8-c62467cef6fd",
   "metadata": {
    "tags": []
   },
   "outputs": [
    {
     "name": "stdout",
     "output_type": "stream",
     "text": [
      "0.03114231503913456\n",
      "retrying AtmConnection connection ATM Connection Failed\n",
      "0.7210126346734822\n",
      "retrying AtmConnection connection ATM Connection Failed\n",
      "0.273604049517177\n",
      "retrying AtmConnection connection ATM Connection Failed\n",
      "0.7344024075404388\n",
      "retrying AtmConnection connection ATM Connection Failed\n"
     ]
    },
    {
     "ename": "ValueError",
     "evalue": "Maximum Attempt Reached",
     "output_type": "error",
     "traceback": [
      "\u001b[1;31m---------------------------------------------------------------------------\u001b[0m",
      "\u001b[1;31mValueError\u001b[0m                                Traceback (most recent call last)",
      "Cell \u001b[1;32mIn[91], line 8\u001b[0m\n\u001b[0;32m      6\u001b[0m         \u001b[38;5;28;01mraise\u001b[39;00m \u001b[38;5;167;01mConnectionError\u001b[39;00m(\u001b[38;5;124m'\u001b[39m\u001b[38;5;124mATM Connection Failed\u001b[39m\u001b[38;5;124m'\u001b[39m)\n\u001b[0;32m      7\u001b[0m     \u001b[38;5;28mprint\u001b[39m(\u001b[38;5;124m'\u001b[39m\u001b[38;5;124mFailed to Connect to ATM Server\u001b[39m\u001b[38;5;124m'\u001b[39m)\n\u001b[1;32m----> 8\u001b[0m AtmConnection()\n",
      "Cell \u001b[1;32mIn[88], line 17\u001b[0m, in \u001b[0;36mretry_dec.<locals>.deco.<locals>.wrapp\u001b[1;34m(*args, **kwags)\u001b[0m\n\u001b[0;32m     15\u001b[0m         delay\u001b[38;5;241m=\u001b[39mrandom\u001b[38;5;241m.\u001b[39muniform(\u001b[38;5;241m0.1\u001b[39m,\u001b[38;5;241m1.0\u001b[39m)\n\u001b[0;32m     16\u001b[0m         time\u001b[38;5;241m.\u001b[39msleep(delay)\n\u001b[1;32m---> 17\u001b[0m \u001b[38;5;28;01mraise\u001b[39;00m \u001b[38;5;167;01mValueError\u001b[39;00m(\u001b[38;5;124mf\u001b[39m\u001b[38;5;124m'\u001b[39m\u001b[38;5;124mMaximum Attempt Reached\u001b[39m\u001b[38;5;124m'\u001b[39m)\n",
      "\u001b[1;31mValueError\u001b[0m: Maximum Attempt Reached"
     ]
    }
   ],
   "source": [
    "@retry_dec(4,ConnectionError)\n",
    "def  AtmConnection():\n",
    "    x= random.random()\n",
    "    print(x)\n",
    "    if x<0.8:\n",
    "        raise ConnectionError('ATM Connection Failed')\n",
    "    print('Failed to Connect to ATM Server')\n",
    "AtmConnection()"
   ]
  },
  {
   "cell_type": "code",
   "execution_count": 105,
   "id": "3691dd06-0e4b-4bfe-88d7-720ba86d5873",
   "metadata": {
    "tags": []
   },
   "outputs": [],
   "source": [
    "def deco(f):\n",
    "    def wrapp(teacher,*args,**kwags):\n",
    "        if teacher=='Mathematics teacher':\n",
    "            print('Access Granted')\n",
    "            return f(*args,**kwags)\n",
    "            \n",
    "        else:\n",
    "            raise PermissionError('Sorry you are not a mathematics teacher')\n",
    "    return wrapp\n",
    "                      "
   ]
  },
  {
   "cell_type": "code",
   "execution_count": 106,
   "id": "bfd6395a-8b67-4ba6-82e5-a7a841523788",
   "metadata": {
    "tags": []
   },
   "outputs": [
    {
     "name": "stdout",
     "output_type": "stream",
     "text": [
      "Access Granted\n",
      "Mathematics function  is executed\n"
     ]
    }
   ],
   "source": [
    "@deco\n",
    "def mathfnc():\n",
    "    print('Mathematics function  is executed')\n",
    "    \n",
    "teacher=mathfnc\n",
    "\n",
    "teacher_pelumi ='Mathematics teacher'\n",
    "\n",
    "teacher_godwin ='Biology teacher'\n",
    "\n",
    "teacher(teacher_pelumi)"
   ]
  },
  {
   "cell_type": "code",
   "execution_count": 107,
   "id": "98bee7d1-8a4a-4cc1-a8bf-fd092cf9618c",
   "metadata": {
    "tags": []
   },
   "outputs": [
    {
     "name": "stdout",
     "output_type": "stream",
     "text": [
      "Sorry you are not a mathematics teacher\n"
     ]
    }
   ],
   "source": [
    "try:\n",
    "    teacher(teacher_godwin)\n",
    "except PermissionError as e:\n",
    "    print(e)"
   ]
  },
  {
   "cell_type": "code",
   "execution_count": 111,
   "id": "ef84134f-957e-4847-b612-1521cfc52972",
   "metadata": {
    "tags": []
   },
   "outputs": [],
   "source": [
    "def decorator(f):\n",
    "    def wra(*args,**kwags):\n",
    "        print(f'The log is calling {f.__name__} with args:{args} and kwags:{kwags}')\n",
    "        res=f(*args,**kwags)\n",
    "        return res\n",
    "    return wra"
   ]
  },
  {
   "cell_type": "code",
   "execution_count": 112,
   "id": "bcfff1d1-ee99-4e80-8893-d90f9eafac10",
   "metadata": {
    "tags": []
   },
   "outputs": [
    {
     "name": "stdout",
     "output_type": "stream",
     "text": [
      "The log is calling expone with args:(3, 2) and kwags:{}\n"
     ]
    },
    {
     "data": {
      "text/plain": [
       "9"
      ]
     },
     "execution_count": 112,
     "metadata": {},
     "output_type": "execute_result"
    }
   ],
   "source": [
    "@decorator\n",
    "def  expone(a,b):\n",
    "    return a**b\n",
    "call_expone=expone(3,2)\n",
    "call_expone"
   ]
  },
  {
   "cell_type": "code",
   "execution_count": null,
   "id": "a91cde40-9e78-485b-8ce3-30b1dc371348",
   "metadata": {},
   "outputs": [],
   "source": []
  }
 ],
 "metadata": {
  "kernelspec": {
   "display_name": "Python 3 (ipykernel)",
   "language": "python",
   "name": "python3"
  },
  "language_info": {
   "codemirror_mode": {
    "name": "ipython",
    "version": 3
   },
   "file_extension": ".py",
   "mimetype": "text/x-python",
   "name": "python",
   "nbconvert_exporter": "python",
   "pygments_lexer": "ipython3",
   "version": "3.11.5"
  }
 },
 "nbformat": 4,
 "nbformat_minor": 5
}
