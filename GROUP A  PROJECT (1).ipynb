{
 "cells": [
  {
   "cell_type": "code",
   "execution_count": 2,
   "id": "6d07be7c",
   "metadata": {
    "tags": []
   },
   "outputs": [
    {
     "name": "stdout",
     "output_type": "stream",
     "text": [
      "Welcome to the group A Shopping App!\n",
      "Available Products:\n",
      "Watermelon: $5.50, Quantity: 10\n",
      "Blackberry: $2.50, Quantity: 15\n",
      "Orange: $3.00, Quantity: 20\n",
      "Banana: $5.00, Quantity: 8\n",
      "Cherry: $7.50, Quantity: 12\n"
     ]
    },
    {
     "name": "stdin",
     "output_type": "stream",
     "text": [
      "Enter the product you want (or 'done' to finish shopping):  1\n"
     ]
    },
    {
     "name": "stdout",
     "output_type": "stream",
     "text": [
      "Product not available. Please choose from the list.\n",
      "Available Products:\n",
      "Watermelon: $5.50, Quantity: 10\n",
      "Blackberry: $2.50, Quantity: 15\n",
      "Orange: $3.00, Quantity: 20\n",
      "Banana: $5.00, Quantity: 8\n",
      "Cherry: $7.50, Quantity: 12\n"
     ]
    },
    {
     "name": "stdin",
     "output_type": "stream",
     "text": [
      "Enter the product you want (or 'done' to finish shopping):  Banana\n",
      "Enter the quantity you want:  1\n"
     ]
    },
    {
     "name": "stdout",
     "output_type": "stream",
     "text": [
      "1 banana(s) added to your cart.\n",
      "Available Products:\n",
      "Watermelon: $5.50, Quantity: 10\n",
      "Blackberry: $2.50, Quantity: 15\n",
      "Orange: $3.00, Quantity: 20\n",
      "Banana: $5.00, Quantity: 7\n",
      "Cherry: $7.50, Quantity: 12\n"
     ]
    },
    {
     "name": "stdin",
     "output_type": "stream",
     "text": [
      "Enter the product you want (or 'done' to finish shopping):  done\n"
     ]
    },
    {
     "name": "stdout",
     "output_type": "stream",
     "text": [
      "\n",
      "Items in Your Cart:\n",
      "🍌 Banana: 1 x $5.00 each\n",
      "\n",
      "Remaining Quantity in Inventory:\n",
      "🍉 Watermelon: 10\n",
      "🫐 Blackberry: 15\n",
      "🍊 Orange: 20\n",
      "🍌 Banana: 7\n",
      "🍒 Cherry: 12\n",
      "Total cost: $5.00\n",
      "Remaining account balance: $25.00\n",
      "Thank you for shopping with us!\n"
     ]
    }
   ],
   "source": [
    "# GROUP A PROJECT\n",
    "    \n",
    "# INSTRUCTION;    \n",
    "\n",
    "# A simulation of a user shopping list. Build a CLI (command line interface), that allows users to see different products with \n",
    "# prices. Users are to select what they want.\n",
    "\n",
    "# STEPS; \n",
    "\n",
    "# 1. Ask for the number of products the user want \n",
    "# 2. Check whether the product is in stock\n",
    "# 3. Show the user all the products picked \n",
    "# 4. Give the total cost\n",
    "# 5. You can assume a default account balance for the use.\n",
    "\n",
    "\n",
    "# ALGORITHM;\n",
    "\n",
    "# 1. Create a dictionary that contain product, quantity and price\n",
    "# 2. create a dictionary that contain the product and it emoji \n",
    "# 3. create a default account balance\n",
    "# 4. create an empty cart\n",
    "# 5. create a function to display available products and prices\n",
    "# 6. create a function to update the quantity of a product in the inventory after a purchase\n",
    "# 7. create a function to calculate the total cost of items in the cart\n",
    "    \n",
    "    \n",
    "    \n",
    "\n",
    "#products with prices\n",
    "products = {\n",
    "    \"watermelon\": {\"price\": 5.5, \"quantity\": 10},\n",
    "    \"blackberry\": {\"price\": 2.5, \"quantity\": 15},\n",
    "    \"orange\": {\"price\": 3.0, \"quantity\": 20},\n",
    "    \"banana\": {\"price\": 5.0, \"quantity\": 8},\n",
    "    \"cherry\": {\"price\": 7.5, \"quantity\": 12},\n",
    "}\n",
    "\n",
    "emojis = {\n",
    "    \"watermelon\": \"🍉\",\n",
    "    \"blackberry\": \"🫐\",\n",
    "    \"orange\": \"🍊\",\n",
    "    \"banana\": \"🍌\",\n",
    "    \"cherry\": \"🍒\",\n",
    "}\n",
    "\n",
    "# Default account balance\n",
    "account_balance = 30.0\n",
    "\n",
    "# Initializing the shopping cart\n",
    "shopping_cart = {}\n",
    "\n",
    "# Function to update the quantity of a product in the inventory after a purchase\n",
    "def update_inventory(product, quantity):\n",
    "    if product in products:\n",
    "        products[product][\"quantity\"] -= quantity\n",
    "        if products[product][\"quantity\"] < 0:\n",
    "            products[product][\"quantity\"] = 0\n",
    "\n",
    "# Function to display available products and prices\n",
    "def display_products():\n",
    "    print(\"Available Products:\")\n",
    "    for product, details in products.items():\n",
    "        print(f\"{product.capitalize()}: ${details['price']:.2f}, Quantity: {details['quantity']}\")\n",
    "\n",
    "# Function to calculate the total cost of items in the cart\n",
    "def calculate_total(cart):\n",
    "    total = sum(products[item][\"price\"] * quantity for item, quantity in cart.items())\n",
    "    return total\n",
    "\n",
    "# Main shopping process\n",
    "print(\"Welcome to the group A Shopping App!\")\n",
    "\n",
    "while True:\n",
    "    display_products()\n",
    "\n",
    "    # Get the user's input for product and quantity\n",
    "    product = input(\"Enter the product you want (or 'done' to finish shopping): \").lower()\n",
    "\n",
    "    if product == \"done\":\n",
    "        break\n",
    "\n",
    "    if product not in products:\n",
    "        print(\"Product not available. Please choose from the list.\")\n",
    "        continue\n",
    "\n",
    "    try:\n",
    "        quantity = int(input(\"Enter the quantity you want: \"))\n",
    "    except ValueError:\n",
    "        print(\"Invalid input. Please enter a valid quantity.\")\n",
    "        continue\n",
    "\n",
    "    # Check if the product is available\n",
    "    #if quantity > 0:\n",
    "    if quantity <= 0:\n",
    "            print(\"Quantity should be greater than 0.\")\n",
    "    elif quantity > products[product][\"quantity\"]:\n",
    "            print(f\"Sorry, there are only {products[product]['quantity']} {product}(s) available.\")\n",
    "    else:\n",
    "            # Add the selected product and quantity to the shopping cart\n",
    "            if product in shopping_cart:\n",
    "                shopping_cart[product] += quantity\n",
    "            else:\n",
    "                shopping_cart[product] = quantity\n",
    "            print(f\"{quantity} {product}(s) added to your cart.\")\n",
    "\n",
    "            # Update the inventory to reflect the purchased quantity\n",
    "            update_inventory(product, quantity)   \n",
    "\n",
    "# Display items in the cart\n",
    "print(\"\\nItems in Your Cart:\")\n",
    "for item, quantity in shopping_cart.items():\n",
    "    emoji = emojis.get(item, \"\")\n",
    "    print(f\"{emoji} {item.capitalize()}: {quantity} x ${products[item]['price']:.2f} each\")\n",
    "\n",
    "# Display the remaining quantity of each product in the inventory\n",
    "print(\"\\nRemaining Quantity in Inventory:\")\n",
    "for product, details in products.items():\n",
    "    print(f\"{emojis.get(product, '')} {product.capitalize()}: {details['quantity']}\")\n",
    "\n",
    "# Calculate and display the total cost\n",
    "total_cost = calculate_total(shopping_cart)\n",
    "print(f\"Total cost: ${total_cost:.2f}\")\n",
    "\n",
    "# Check if the user can afford the items\n",
    "if total_cost > account_balance:\n",
    "    print(\"Sorry, you do not have enough balance to purchase these items.\")\n",
    "else:\n",
    "    remaining_balance = account_balance - total_cost\n",
    "    print(f\"Remaining account balance: ${remaining_balance:.2f}\")\n",
    "\n",
    "print(\"Thank you for shopping with us!\")\n"
   ]
  },
  {
   "cell_type": "code",
   "execution_count": null,
   "id": "5fc10b86-06e7-45d0-836f-2a6779ce29a4",
   "metadata": {},
   "outputs": [],
   "source": []
  },
  {
   "cell_type": "code",
   "execution_count": null,
   "id": "783fcede-fb61-4f1a-800c-f10de6449444",
   "metadata": {},
   "outputs": [],
   "source": []
  },
  {
   "cell_type": "code",
   "execution_count": null,
   "id": "9e96d391",
   "metadata": {},
   "outputs": [],
   "source": []
  }
 ],
 "metadata": {
  "kernelspec": {
   "display_name": "Python 3 (ipykernel)",
   "language": "python",
   "name": "python3"
  },
  "language_info": {
   "codemirror_mode": {
    "name": "ipython",
    "version": 3
   },
   "file_extension": ".py",
   "mimetype": "text/x-python",
   "name": "python",
   "nbconvert_exporter": "python",
   "pygments_lexer": "ipython3",
   "version": "3.11.5"
  }
 },
 "nbformat": 4,
 "nbformat_minor": 5
}
