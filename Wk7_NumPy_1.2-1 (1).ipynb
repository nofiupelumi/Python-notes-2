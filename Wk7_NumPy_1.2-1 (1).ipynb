{
 "cells": [
  {
   "cell_type": "code",
   "execution_count": 1,
   "id": "59b31fea",
   "metadata": {},
   "outputs": [
    {
     "data": {
      "text/plain": [
       "array([[[20, 20, 20, 20, 20],\n",
       "        [20, 20, 20, 20, 20],\n",
       "        [20, 20, 20, 20, 20],\n",
       "        [20, 20, 20, 20, 20],\n",
       "        [20, 20, 20, 20, 20]],\n",
       "\n",
       "       [[20, 20, 20, 20, 20],\n",
       "        [20, 20, 20, 20, 20],\n",
       "        [20, 20, 20, 20, 20],\n",
       "        [20, 20, 20, 20, 20],\n",
       "        [20, 20, 20, 20, 20]],\n",
       "\n",
       "       [[20, 20, 20, 20, 20],\n",
       "        [20, 20, 20, 20, 20],\n",
       "        [20, 20, 20, 20, 20],\n",
       "        [20, 20, 20, 20, 20],\n",
       "        [20, 20, 20, 20, 20]],\n",
       "\n",
       "       [[20, 20, 20, 20, 20],\n",
       "        [20, 20, 20, 20, 20],\n",
       "        [20, 20, 20, 20, 20],\n",
       "        [20, 20, 20, 20, 20],\n",
       "        [20, 20, 20, 20, 20]]])"
      ]
     },
     "execution_count": 1,
     "metadata": {},
     "output_type": "execute_result"
    }
   ],
   "source": [
    "import numpy as np\n",
    "\n",
    "a = np.full((4,5,5),20)\n",
    "a"
   ]
  },
  {
   "cell_type": "code",
   "execution_count": 2,
   "id": "2c851df1",
   "metadata": {},
   "outputs": [
    {
     "data": {
      "text/plain": [
       "3"
      ]
     },
     "execution_count": 2,
     "metadata": {},
     "output_type": "execute_result"
    }
   ],
   "source": [
    "a.ndim"
   ]
  },
  {
   "cell_type": "code",
   "execution_count": 4,
   "id": "32fed1a4",
   "metadata": {},
   "outputs": [
    {
     "data": {
      "text/plain": [
       "array([[1., 1.],\n",
       "       [1., 1.],\n",
       "       [1., 1.]])"
      ]
     },
     "execution_count": 4,
     "metadata": {},
     "output_type": "execute_result"
    }
   ],
   "source": [
    "b = np.ones((3,2))\n",
    "b"
   ]
  },
  {
   "cell_type": "code",
   "execution_count": 5,
   "id": "9b14797c",
   "metadata": {},
   "outputs": [
    {
     "data": {
      "text/plain": [
       "array([0., 0., 0., 0., 0., 0.])"
      ]
     },
     "execution_count": 5,
     "metadata": {},
     "output_type": "execute_result"
    }
   ],
   "source": [
    "arr1 = np.zeros(6)\n",
    "arr1 # this is a vector"
   ]
  },
  {
   "cell_type": "code",
   "execution_count": 20,
   "id": "c8fdd402",
   "metadata": {},
   "outputs": [
    {
     "data": {
      "text/plain": [
       "array([ 0.93863919,  0.5694029 , -0.75817283])"
      ]
     },
     "execution_count": 20,
     "metadata": {},
     "output_type": "execute_result"
    }
   ],
   "source": [
    "arr2 = np.random.randn((3))\n",
    "arr2"
   ]
  },
  {
   "cell_type": "code",
   "execution_count": 18,
   "id": "96fc4abf",
   "metadata": {},
   "outputs": [
    {
     "data": {
      "text/plain": [
       "array([[0.53549025, 0.44640519, 0.46577415],\n",
       "       [0.54395889, 0.03599633, 0.47180149],\n",
       "       [0.25104807, 0.86789006, 0.55288054]])"
      ]
     },
     "execution_count": 18,
     "metadata": {},
     "output_type": "execute_result"
    }
   ],
   "source": [
    "arry3 = np.random.random((3, 3))\n",
    "arry3 # this is a matrix"
   ]
  },
  {
   "cell_type": "code",
   "execution_count": 21,
   "id": "7d93c5ef",
   "metadata": {},
   "outputs": [
    {
     "data": {
      "text/plain": [
       "9"
      ]
     },
     "execution_count": 21,
     "metadata": {},
     "output_type": "execute_result"
    }
   ],
   "source": [
    "arry3.size"
   ]
  },
  {
   "cell_type": "code",
   "execution_count": 22,
   "id": "be1dd222",
   "metadata": {},
   "outputs": [
    {
     "data": {
      "text/plain": [
       "3"
      ]
     },
     "execution_count": 22,
     "metadata": {},
     "output_type": "execute_result"
    }
   ],
   "source": [
    "arr2.size"
   ]
  },
  {
   "cell_type": "code",
   "execution_count": 23,
   "id": "9cf39d48",
   "metadata": {},
   "outputs": [
    {
     "data": {
      "text/plain": [
       "1"
      ]
     },
     "execution_count": 23,
     "metadata": {},
     "output_type": "execute_result"
    }
   ],
   "source": [
    "arr2.ndim"
   ]
  },
  {
   "cell_type": "markdown",
   "id": "47ad2bc9",
   "metadata": {},
   "source": [
    "#### NB\n",
    "\n",
    "\n",
    "- Arrays of 1 dim are vectors\n",
    "- Arrays of 2 dim are matrix\n",
    "- Arrays of 3 dim are tensor"
   ]
  },
  {
   "cell_type": "markdown",
   "id": "db8cd809",
   "metadata": {},
   "source": [
    "### Working With Special Values"
   ]
  },
  {
   "cell_type": "code",
   "execution_count": 25,
   "id": "c8fe65f8",
   "metadata": {},
   "outputs": [
    {
     "ename": "ZeroDivisionError",
     "evalue": "division by zero",
     "output_type": "error",
     "traceback": [
      "\u001b[0;31m---------------------------------------------------------------------------\u001b[0m",
      "\u001b[0;31mZeroDivisionError\u001b[0m                         Traceback (most recent call last)",
      "Cell \u001b[0;32mIn[25], line 1\u001b[0m\n\u001b[0;32m----> 1\u001b[0m x \u001b[38;5;241m=\u001b[39m \u001b[38;5;241;43m0\u001b[39;49m\u001b[38;5;241;43m/\u001b[39;49m\u001b[38;5;241;43m0\u001b[39;49m\n\u001b[1;32m      2\u001b[0m x\n",
      "\u001b[0;31mZeroDivisionError\u001b[0m: division by zero"
     ]
    }
   ],
   "source": [
    "x = 0/0\n",
    "x"
   ]
  },
  {
   "cell_type": "code",
   "execution_count": 26,
   "id": "5a5d1633",
   "metadata": {},
   "outputs": [
    {
     "data": {
      "text/plain": [
       "array([ 1., -1.,  0.], dtype=float16)"
      ]
     },
     "execution_count": 26,
     "metadata": {},
     "output_type": "execute_result"
    }
   ],
   "source": [
    "# two special values we'll be dealing with are nan & inf\n",
    "# NaN refers to a missing info or an undefined number.\n",
    "# inf refers to infinity\n",
    "# Nothing is equal to NaN, however something can be equivalent to NaN\n",
    "\n",
    "vec1 = np.array([1,-1,0], dtype=np.float16)\n",
    "vec1"
   ]
  },
  {
   "cell_type": "code",
   "execution_count": 27,
   "id": "84436a0c",
   "metadata": {},
   "outputs": [
    {
     "data": {
      "text/plain": [
       "1.0"
      ]
     },
     "execution_count": 27,
     "metadata": {},
     "output_type": "execute_result"
    }
   ],
   "source": [
    "# access the value of vec1\n",
    "vec1[0]"
   ]
  },
  {
   "cell_type": "code",
   "execution_count": 28,
   "id": "b4e6664a",
   "metadata": {},
   "outputs": [
    {
     "name": "stderr",
     "output_type": "stream",
     "text": [
      "/var/folders/4r/3_6gh8rj44g43v_wlyprm7h40000gn/T/ipykernel_14216/682713793.py:1: RuntimeWarning: divide by zero encountered in divide\n",
      "  vec2 = vec1 / 0 # divide vec1 by 0\n",
      "/var/folders/4r/3_6gh8rj44g43v_wlyprm7h40000gn/T/ipykernel_14216/682713793.py:1: RuntimeWarning: invalid value encountered in divide\n",
      "  vec2 = vec1 / 0 # divide vec1 by 0\n"
     ]
    },
    {
     "data": {
      "text/plain": [
       "array([ inf, -inf,  nan], dtype=float16)"
      ]
     },
     "execution_count": 28,
     "metadata": {},
     "output_type": "execute_result"
    }
   ],
   "source": [
    "vec2 = vec1 / 0 # divide vec1 by 0\n",
    "vec2"
   ]
  },
  {
   "cell_type": "code",
   "execution_count": 29,
   "id": "971cba64",
   "metadata": {},
   "outputs": [
    {
     "name": "stdout",
     "output_type": "stream",
     "text": [
      "Number to evaluate: inf\n",
      "########\n",
      "Inf: True\n",
      "Neg Inf: False\n",
      "NaN: False\n",
      "\n",
      "Number to evaluate: -inf\n",
      "########\n",
      "Inf: False\n",
      "Neg Inf: True\n",
      "NaN: False\n",
      "\n",
      "Number to evaluate: nan\n",
      "########\n",
      "Inf: False\n",
      "Neg Inf: False\n",
      "NaN: False\n",
      "\n"
     ]
    }
   ],
   "source": [
    "# Detecting the special values\n",
    "\n",
    "for i in vec2:\n",
    "    print(f\"Number to evaluate: {i}\")\n",
    "    print(\"########\")\n",
    "    print(f\"Inf: {str(i == np.inf)}\")\n",
    "    print(f\"Neg Inf: {str(i == -np.inf)}\")\n",
    "    print(f\"NaN: {str(i == np.nan)}\") # this is wrong!!!\n",
    "    print()"
   ]
  },
  {
   "cell_type": "code",
   "execution_count": 30,
   "id": "3cdbb1fc",
   "metadata": {},
   "outputs": [
    {
     "data": {
      "text/plain": [
       "''"
      ]
     },
     "execution_count": 30,
     "metadata": {},
     "output_type": "execute_result"
    }
   ],
   "source": [
    "# Nothing is equal to NaN, however something can be Equivalent to NaN\n",
    "\n",
    "x = ''\n",
    "x"
   ]
  },
  {
   "cell_type": "code",
   "execution_count": 33,
   "id": "0b6753e1",
   "metadata": {},
   "outputs": [
    {
     "ename": "NameError",
     "evalue": "name 'y' is not defined",
     "output_type": "error",
     "traceback": [
      "\u001b[0;31m---------------------------------------------------------------------------\u001b[0m",
      "\u001b[0;31mNameError\u001b[0m                                 Traceback (most recent call last)",
      "Cell \u001b[0;32mIn[33], line 1\u001b[0m\n\u001b[0;32m----> 1\u001b[0m \u001b[43my\u001b[49m \u001b[38;5;241m==\u001b[39m \u001b[38;5;124m'\u001b[39m\u001b[38;5;124m'\u001b[39m\n\u001b[1;32m      2\u001b[0m y\n",
      "\u001b[0;31mNameError\u001b[0m: name 'y' is not defined"
     ]
    }
   ],
   "source": [
    "y == ''\n",
    "y"
   ]
  },
  {
   "cell_type": "code",
   "execution_count": 37,
   "id": "d8ad8c78",
   "metadata": {},
   "outputs": [
    {
     "ename": "NameError",
     "evalue": "name 'y' is not defined",
     "output_type": "error",
     "traceback": [
      "\u001b[0;31m---------------------------------------------------------------------------\u001b[0m",
      "\u001b[0;31mNameError\u001b[0m                                 Traceback (most recent call last)",
      "Cell \u001b[0;32mIn[37], line 1\u001b[0m\n\u001b[0;32m----> 1\u001b[0m \u001b[38;5;28mtype\u001b[39m(\u001b[43my\u001b[49m)\n",
      "\u001b[0;31mNameError\u001b[0m: name 'y' is not defined"
     ]
    }
   ],
   "source": [
    "type(y)"
   ]
  },
  {
   "cell_type": "code",
   "execution_count": 38,
   "id": "ba025ac3",
   "metadata": {},
   "outputs": [
    {
     "data": {
      "text/plain": [
       "3"
      ]
     },
     "execution_count": 38,
     "metadata": {},
     "output_type": "execute_result"
    }
   ],
   "source": [
    "a = 3\n",
    "b == a\n",
    "b == 33\n",
    "\n",
    "a"
   ]
  },
  {
   "cell_type": "code",
   "execution_count": 39,
   "id": "69156ca0",
   "metadata": {},
   "outputs": [
    {
     "data": {
      "text/plain": [
       "array([[1., 1.],\n",
       "       [1., 1.],\n",
       "       [1., 1.]])"
      ]
     },
     "execution_count": 39,
     "metadata": {},
     "output_type": "execute_result"
    }
   ],
   "source": [
    "b"
   ]
  },
  {
   "cell_type": "code",
   "execution_count": 40,
   "id": "1dcdcb49",
   "metadata": {},
   "outputs": [
    {
     "data": {
      "text/plain": [
       "True"
      ]
     },
     "execution_count": 40,
     "metadata": {},
     "output_type": "execute_result"
    }
   ],
   "source": [
    "a == 3"
   ]
  },
  {
   "cell_type": "code",
   "execution_count": 41,
   "id": "07d3c84a",
   "metadata": {},
   "outputs": [
    {
     "data": {
      "text/plain": [
       "True"
      ]
     },
     "execution_count": 41,
     "metadata": {},
     "output_type": "execute_result"
    }
   ],
   "source": [
    "c = 6 - 3\n",
    "a == c"
   ]
  },
  {
   "cell_type": "code",
   "execution_count": 42,
   "id": "1609d0dc",
   "metadata": {},
   "outputs": [
    {
     "data": {
      "text/plain": [
       "1"
      ]
     },
     "execution_count": 42,
     "metadata": {},
     "output_type": "execute_result"
    }
   ],
   "source": [
    "nan = 1\n",
    "\n",
    "nan"
   ]
  },
  {
   "cell_type": "code",
   "execution_count": 43,
   "id": "55b14b49",
   "metadata": {},
   "outputs": [
    {
     "data": {
      "text/plain": [
       "False"
      ]
     },
     "execution_count": 43,
     "metadata": {},
     "output_type": "execute_result"
    }
   ],
   "source": [
    "h = 'nothing'\n",
    "i = 'something'\n",
    "\n",
    "h = nan\n",
    "i == nan"
   ]
  },
  {
   "cell_type": "code",
   "execution_count": 44,
   "id": "ea637158",
   "metadata": {},
   "outputs": [
    {
     "name": "stdout",
     "output_type": "stream",
     "text": [
      "Number to evaluate: inf\n",
      "########\n",
      "Inf: True\n",
      "Neg Inf: False\n",
      "NaN: False\n",
      "\n",
      "Number to evaluate: -inf\n",
      "########\n",
      "Inf: False\n",
      "Neg Inf: True\n",
      "NaN: False\n",
      "\n",
      "Number to evaluate: nan\n",
      "########\n",
      "Inf: False\n",
      "Neg Inf: False\n",
      "NaN: True\n",
      "\n"
     ]
    }
   ],
   "source": [
    "for i in vec2:\n",
    "    print(f\"Number to evaluate: {i}\")\n",
    "    print(\"########\")\n",
    "    print(f\"Inf: {str(i == np.inf)}\")\n",
    "    print(f\"Neg Inf: {str(i == -np.inf)}\")\n",
    "    print(f\"NaN: {str(np.isnan(i))}\") # this is correct syntax\n",
    "    print()"
   ]
  },
  {
   "cell_type": "code",
   "execution_count": 45,
   "id": "773e0f26",
   "metadata": {},
   "outputs": [
    {
     "name": "stdout",
     "output_type": "stream",
     "text": [
      "Number to evaluate: inf\n",
      "########\n",
      "Is Finite Value: False\n",
      "Is Infinite Value: True\n",
      "\n",
      "Number to evaluate: -inf\n",
      "########\n",
      "Is Finite Value: False\n",
      "Is Infinite Value: True\n",
      "\n",
      "Number to evaluate: nan\n",
      "########\n",
      "Is Finite Value: False\n",
      "Is Infinite Value: False\n",
      "\n"
     ]
    }
   ],
   "source": [
    "# detect infinite values \n",
    "for i in vec2:\n",
    "    print(f\"Number to evaluate: {i}\")\n",
    "    print(\"########\")\n",
    "    print(f\"Is Finite Value: {str(np.isfinite(i))}\") # checks if i is a finite value\n",
    "    print(f\"Is Infinite Value: {str(np.isinf(i))}\") # checks if i is an infinite value \n",
    "    print()"
   ]
  },
  {
   "cell_type": "code",
   "execution_count": 46,
   "id": "74c2a0a9",
   "metadata": {},
   "outputs": [
    {
     "data": {
      "text/plain": [
       "inf"
      ]
     },
     "execution_count": 46,
     "metadata": {},
     "output_type": "execute_result"
    }
   ],
   "source": [
    "vec2[0]"
   ]
  },
  {
   "cell_type": "code",
   "execution_count": 47,
   "id": "2bd5fae9",
   "metadata": {},
   "outputs": [
    {
     "data": {
      "text/plain": [
       "-inf"
      ]
     },
     "execution_count": 47,
     "metadata": {},
     "output_type": "execute_result"
    }
   ],
   "source": [
    "vec2[1]"
   ]
  },
  {
   "cell_type": "code",
   "execution_count": 48,
   "id": "0e3440ba",
   "metadata": {},
   "outputs": [
    {
     "data": {
      "text/plain": [
       "nan"
      ]
     },
     "execution_count": 48,
     "metadata": {},
     "output_type": "execute_result"
    }
   ],
   "source": [
    "vec2[2]"
   ]
  },
  {
   "cell_type": "code",
   "execution_count": 49,
   "id": "9baece85",
   "metadata": {},
   "outputs": [
    {
     "data": {
      "text/plain": [
       "inf"
      ]
     },
     "execution_count": 49,
     "metadata": {},
     "output_type": "execute_result"
    }
   ],
   "source": [
    "5 ** vec2[0]"
   ]
  },
  {
   "cell_type": "code",
   "execution_count": 50,
   "id": "4408f62e",
   "metadata": {},
   "outputs": [
    {
     "data": {
      "text/plain": [
       "0.0"
      ]
     },
     "execution_count": 50,
     "metadata": {},
     "output_type": "execute_result"
    }
   ],
   "source": [
    "5 ** vec2[1]"
   ]
  },
  {
   "cell_type": "code",
   "execution_count": 51,
   "id": "99bf298d",
   "metadata": {},
   "outputs": [
    {
     "data": {
      "text/plain": [
       "nan"
      ]
     },
     "execution_count": 51,
     "metadata": {},
     "output_type": "execute_result"
    }
   ],
   "source": [
    "5 ** vec2[2]"
   ]
  },
  {
   "cell_type": "code",
   "execution_count": 55,
   "id": "7dc6d00e",
   "metadata": {},
   "outputs": [
    {
     "data": {
      "text/plain": [
       "array([9999.])"
      ]
     },
     "execution_count": 55,
     "metadata": {},
     "output_type": "execute_result"
    }
   ],
   "source": [
    "vec3 = np.array([9999], dtype='float')\n",
    "vec3"
   ]
  },
  {
   "cell_type": "code",
   "execution_count": 56,
   "id": "08bbf5c2",
   "metadata": {},
   "outputs": [
    {
     "data": {
      "text/plain": [
       "9999.0"
      ]
     },
     "execution_count": 56,
     "metadata": {},
     "output_type": "execute_result"
    }
   ],
   "source": [
    "vec3[0]"
   ]
  },
  {
   "cell_type": "code",
   "execution_count": 57,
   "id": "217cc6f1",
   "metadata": {},
   "outputs": [
    {
     "name": "stderr",
     "output_type": "stream",
     "text": [
      "/var/folders/4r/3_6gh8rj44g43v_wlyprm7h40000gn/T/ipykernel_14216/3555918632.py:1: RuntimeWarning: overflow encountered in double_scalars\n",
      "  vec3[0] ** vec3[0]\n"
     ]
    },
    {
     "data": {
      "text/plain": [
       "inf"
      ]
     },
     "execution_count": 57,
     "metadata": {},
     "output_type": "execute_result"
    }
   ],
   "source": [
    "vec3[0] ** vec3[0] # we have an infinite value cos the program is very very large "
   ]
  },
  {
   "cell_type": "code",
   "execution_count": 58,
   "id": "ce42f271",
   "metadata": {},
   "outputs": [
    {
     "ename": "ValueError",
     "evalue": "Exceeds the limit (4300) for integer string conversion; use sys.set_int_max_str_digits() to increase the limit",
     "output_type": "error",
     "traceback": [
      "\u001b[0;31m---------------------------------------------------------------------------\u001b[0m",
      "\u001b[0;31mValueError\u001b[0m                                Traceback (most recent call last)",
      "File \u001b[0;32m~/anaconda3/lib/python3.10/site-packages/IPython/core/formatters.py:706\u001b[0m, in \u001b[0;36mPlainTextFormatter.__call__\u001b[0;34m(self, obj)\u001b[0m\n\u001b[1;32m    699\u001b[0m stream \u001b[38;5;241m=\u001b[39m StringIO()\n\u001b[1;32m    700\u001b[0m printer \u001b[38;5;241m=\u001b[39m pretty\u001b[38;5;241m.\u001b[39mRepresentationPrinter(stream, \u001b[38;5;28mself\u001b[39m\u001b[38;5;241m.\u001b[39mverbose,\n\u001b[1;32m    701\u001b[0m     \u001b[38;5;28mself\u001b[39m\u001b[38;5;241m.\u001b[39mmax_width, \u001b[38;5;28mself\u001b[39m\u001b[38;5;241m.\u001b[39mnewline,\n\u001b[1;32m    702\u001b[0m     max_seq_length\u001b[38;5;241m=\u001b[39m\u001b[38;5;28mself\u001b[39m\u001b[38;5;241m.\u001b[39mmax_seq_length,\n\u001b[1;32m    703\u001b[0m     singleton_pprinters\u001b[38;5;241m=\u001b[39m\u001b[38;5;28mself\u001b[39m\u001b[38;5;241m.\u001b[39msingleton_printers,\n\u001b[1;32m    704\u001b[0m     type_pprinters\u001b[38;5;241m=\u001b[39m\u001b[38;5;28mself\u001b[39m\u001b[38;5;241m.\u001b[39mtype_printers,\n\u001b[1;32m    705\u001b[0m     deferred_pprinters\u001b[38;5;241m=\u001b[39m\u001b[38;5;28mself\u001b[39m\u001b[38;5;241m.\u001b[39mdeferred_printers)\n\u001b[0;32m--> 706\u001b[0m \u001b[43mprinter\u001b[49m\u001b[38;5;241;43m.\u001b[39;49m\u001b[43mpretty\u001b[49m\u001b[43m(\u001b[49m\u001b[43mobj\u001b[49m\u001b[43m)\u001b[49m\n\u001b[1;32m    707\u001b[0m printer\u001b[38;5;241m.\u001b[39mflush()\n\u001b[1;32m    708\u001b[0m \u001b[38;5;28;01mreturn\u001b[39;00m stream\u001b[38;5;241m.\u001b[39mgetvalue()\n",
      "File \u001b[0;32m~/anaconda3/lib/python3.10/site-packages/IPython/lib/pretty.py:393\u001b[0m, in \u001b[0;36mRepresentationPrinter.pretty\u001b[0;34m(self, obj)\u001b[0m\n\u001b[1;32m    390\u001b[0m \u001b[38;5;28;01mfor\u001b[39;00m \u001b[38;5;28mcls\u001b[39m \u001b[38;5;129;01min\u001b[39;00m _get_mro(obj_class):\n\u001b[1;32m    391\u001b[0m     \u001b[38;5;28;01mif\u001b[39;00m \u001b[38;5;28mcls\u001b[39m \u001b[38;5;129;01min\u001b[39;00m \u001b[38;5;28mself\u001b[39m\u001b[38;5;241m.\u001b[39mtype_pprinters:\n\u001b[1;32m    392\u001b[0m         \u001b[38;5;66;03m# printer registered in self.type_pprinters\u001b[39;00m\n\u001b[0;32m--> 393\u001b[0m         \u001b[38;5;28;01mreturn\u001b[39;00m \u001b[38;5;28;43mself\u001b[39;49m\u001b[38;5;241;43m.\u001b[39;49m\u001b[43mtype_pprinters\u001b[49m\u001b[43m[\u001b[49m\u001b[38;5;28;43mcls\u001b[39;49m\u001b[43m]\u001b[49m\u001b[43m(\u001b[49m\u001b[43mobj\u001b[49m\u001b[43m,\u001b[49m\u001b[43m \u001b[49m\u001b[38;5;28;43mself\u001b[39;49m\u001b[43m,\u001b[49m\u001b[43m \u001b[49m\u001b[43mcycle\u001b[49m\u001b[43m)\u001b[49m\n\u001b[1;32m    394\u001b[0m     \u001b[38;5;28;01melse\u001b[39;00m:\n\u001b[1;32m    395\u001b[0m         \u001b[38;5;66;03m# deferred printer\u001b[39;00m\n\u001b[1;32m    396\u001b[0m         printer \u001b[38;5;241m=\u001b[39m \u001b[38;5;28mself\u001b[39m\u001b[38;5;241m.\u001b[39m_in_deferred_types(\u001b[38;5;28mcls\u001b[39m)\n",
      "File \u001b[0;32m~/anaconda3/lib/python3.10/site-packages/IPython/lib/pretty.py:778\u001b[0m, in \u001b[0;36m_repr_pprint\u001b[0;34m(obj, p, cycle)\u001b[0m\n\u001b[1;32m    776\u001b[0m \u001b[38;5;124;03m\"\"\"A pprint that just redirects to the normal repr function.\"\"\"\u001b[39;00m\n\u001b[1;32m    777\u001b[0m \u001b[38;5;66;03m# Find newlines and replace them with p.break_()\u001b[39;00m\n\u001b[0;32m--> 778\u001b[0m output \u001b[38;5;241m=\u001b[39m \u001b[38;5;28;43mrepr\u001b[39;49m\u001b[43m(\u001b[49m\u001b[43mobj\u001b[49m\u001b[43m)\u001b[49m\n\u001b[1;32m    779\u001b[0m lines \u001b[38;5;241m=\u001b[39m output\u001b[38;5;241m.\u001b[39msplitlines()\n\u001b[1;32m    780\u001b[0m \u001b[38;5;28;01mwith\u001b[39;00m p\u001b[38;5;241m.\u001b[39mgroup():\n",
      "\u001b[0;31mValueError\u001b[0m: Exceeds the limit (4300) for integer string conversion; use sys.set_int_max_str_digits() to increase the limit"
     ]
    }
   ],
   "source": [
    "a = 9999\n",
    "a ** a"
   ]
  },
  {
   "cell_type": "code",
   "execution_count": 59,
   "id": "7d3ef53d",
   "metadata": {},
   "outputs": [
    {
     "data": {
      "text/plain": [
       "array([1., 1., 1., 1., 1., 1., 1.])"
      ]
     },
     "execution_count": 59,
     "metadata": {},
     "output_type": "execute_result"
    }
   ],
   "source": [
    "vec4 = np.ones(7)\n",
    "vec4"
   ]
  },
  {
   "cell_type": "code",
   "execution_count": 60,
   "id": "cf23542c",
   "metadata": {},
   "outputs": [
    {
     "data": {
      "text/plain": [
       "dtype('float64')"
      ]
     },
     "execution_count": 60,
     "metadata": {},
     "output_type": "execute_result"
    }
   ],
   "source": [
    "vec4.dtype"
   ]
  },
  {
   "cell_type": "code",
   "execution_count": 63,
   "id": "63ba89e0",
   "metadata": {},
   "outputs": [
    {
     "data": {
      "text/plain": [
       "dtype('int64')"
      ]
     },
     "execution_count": 63,
     "metadata": {},
     "output_type": "execute_result"
    }
   ],
   "source": [
    "vec4.dtype = 'int64' # or vec4.dtype = int ; this is a wrong way of casting/converting \n",
    "# your np data types. you'll have garbage values i.e. random values from memory.\n",
    "vec4.dtype"
   ]
  },
  {
   "cell_type": "code",
   "execution_count": 64,
   "id": "977fb5cf",
   "metadata": {},
   "outputs": [
    {
     "data": {
      "text/plain": [
       "array([4607182418800017408, 4607182418800017408, 4607182418800017408,\n",
       "       4607182418800017408, 4607182418800017408, 4607182418800017408,\n",
       "       4607182418800017408])"
      ]
     },
     "execution_count": 64,
     "metadata": {},
     "output_type": "execute_result"
    }
   ],
   "source": [
    "vec4"
   ]
  },
  {
   "cell_type": "code",
   "execution_count": 65,
   "id": "beea76e9",
   "metadata": {},
   "outputs": [
    {
     "data": {
      "text/plain": [
       "array([4607182418800017408, 4607182418800017408, 4607182418800017408,\n",
       "       4607182418800017408, 4607182418800017408, 4607182418800017408,\n",
       "       4607182418800017408])"
      ]
     },
     "execution_count": 65,
     "metadata": {},
     "output_type": "execute_result"
    }
   ],
   "source": [
    "vec4"
   ]
  },
  {
   "cell_type": "code",
   "execution_count": 68,
   "id": "f14bb1b3",
   "metadata": {},
   "outputs": [
    {
     "data": {
      "text/plain": [
       "array([1., 1., 1., 1., 1., 1., 1.])"
      ]
     },
     "execution_count": 68,
     "metadata": {},
     "output_type": "execute_result"
    }
   ],
   "source": [
    "vec4 = np.ones(7)\n",
    "vec4"
   ]
  },
  {
   "cell_type": "code",
   "execution_count": 69,
   "id": "f6f56cbf",
   "metadata": {},
   "outputs": [
    {
     "data": {
      "text/plain": [
       "dtype('int64')"
      ]
     },
     "execution_count": 69,
     "metadata": {},
     "output_type": "execute_result"
    }
   ],
   "source": [
    "# this is the right/appropriate way to do it\n",
    "vec4 = np.array(vec4, dtype='int64')\n",
    "vec4.dtype"
   ]
  },
  {
   "cell_type": "code",
   "execution_count": 70,
   "id": "885be624",
   "metadata": {},
   "outputs": [
    {
     "data": {
      "text/plain": [
       "array([1, 1, 1, 1, 1, 1, 1])"
      ]
     },
     "execution_count": 70,
     "metadata": {},
     "output_type": "execute_result"
    }
   ],
   "source": [
    "vec4"
   ]
  },
  {
   "cell_type": "code",
   "execution_count": 72,
   "id": "27328189",
   "metadata": {},
   "outputs": [
    {
     "data": {
      "text/plain": [
       "array([ 1., nan,  1.,  1.,  1.,  1.,  1.])"
      ]
     },
     "execution_count": 72,
     "metadata": {},
     "output_type": "execute_result"
    }
   ],
   "source": [
    "# assign a nan to the array\n",
    "vec4 = np.ones(7)\n",
    "vec4[1] = np.nan\n",
    "vec4"
   ]
  },
  {
   "cell_type": "code",
   "execution_count": 73,
   "id": "b7e2b186",
   "metadata": {},
   "outputs": [
    {
     "data": {
      "text/plain": [
       "nan"
      ]
     },
     "execution_count": 73,
     "metadata": {},
     "output_type": "execute_result"
    }
   ],
   "source": [
    "np.sum(vec4) # sum everything together"
   ]
  },
  {
   "cell_type": "code",
   "execution_count": 74,
   "id": "6061f87a",
   "metadata": {},
   "outputs": [
    {
     "data": {
      "text/plain": [
       "6.0"
      ]
     },
     "execution_count": 74,
     "metadata": {},
     "output_type": "execute_result"
    }
   ],
   "source": [
    "np.nansum(vec4) # this removes the nan then sums the elements "
   ]
  },
  {
   "cell_type": "code",
   "execution_count": 75,
   "id": "78e07300",
   "metadata": {},
   "outputs": [
    {
     "data": {
      "text/plain": [
       "dtype('<U8')"
      ]
     },
     "execution_count": 75,
     "metadata": {},
     "output_type": "execute_result"
    }
   ],
   "source": [
    "str_vec = np.array([['Judge', 'Goat', 'Saudi'], ['Spurs', 'Bottlers', 'Reds']])\n",
    "str_vec.dtype"
   ]
  },
  {
   "cell_type": "code",
   "execution_count": 76,
   "id": "246cc2f2",
   "metadata": {},
   "outputs": [
    {
     "data": {
      "text/plain": [
       "6"
      ]
     },
     "execution_count": 76,
     "metadata": {},
     "output_type": "execute_result"
    }
   ],
   "source": [
    "str_vec.size"
   ]
  },
  {
   "cell_type": "code",
   "execution_count": 77,
   "id": "e0f6f5bd",
   "metadata": {},
   "outputs": [
    {
     "data": {
      "text/plain": [
       "(2, 3)"
      ]
     },
     "execution_count": 77,
     "metadata": {},
     "output_type": "execute_result"
    }
   ],
   "source": [
    "str_vec.shape"
   ]
  },
  {
   "cell_type": "code",
   "execution_count": 78,
   "id": "d84ff3ea",
   "metadata": {},
   "outputs": [
    {
     "data": {
      "text/plain": [
       "2"
      ]
     },
     "execution_count": 78,
     "metadata": {},
     "output_type": "execute_result"
    }
   ],
   "source": [
    "str_vec.ndim"
   ]
  },
  {
   "cell_type": "code",
   "execution_count": 79,
   "id": "84d164d7",
   "metadata": {},
   "outputs": [
    {
     "data": {
      "text/plain": [
       "array([['Judge', 'Goat', 'Saudi'],\n",
       "       ['Spurs', 'Bottlers', 'Reds']], dtype='<U8')"
      ]
     },
     "execution_count": 79,
     "metadata": {},
     "output_type": "execute_result"
    }
   ],
   "source": [
    "str_vec"
   ]
  },
  {
   "cell_type": "code",
   "execution_count": 80,
   "id": "0a079a9a",
   "metadata": {},
   "outputs": [
    {
     "data": {
      "text/plain": [
       "'Reds'"
      ]
     },
     "execution_count": 80,
     "metadata": {},
     "output_type": "execute_result"
    }
   ],
   "source": [
    "str_vec[1][2]"
   ]
  },
  {
   "cell_type": "code",
   "execution_count": 81,
   "id": "9c3aba77",
   "metadata": {},
   "outputs": [
    {
     "data": {
      "text/plain": [
       "'a'"
      ]
     },
     "execution_count": 81,
     "metadata": {},
     "output_type": "execute_result"
    }
   ],
   "source": [
    "str_vec[0][1][2]"
   ]
  },
  {
   "cell_type": "code",
   "execution_count": 82,
   "id": "5711dabf",
   "metadata": {},
   "outputs": [
    {
     "data": {
      "text/plain": [
       "array(['Judge', 'Goat', 'Saudi'], dtype='<U8')"
      ]
     },
     "execution_count": 82,
     "metadata": {},
     "output_type": "execute_result"
    }
   ],
   "source": [
    "str_vec[0]"
   ]
  },
  {
   "cell_type": "code",
   "execution_count": 83,
   "id": "9ff0136f",
   "metadata": {},
   "outputs": [
    {
     "ename": "IndexError",
     "evalue": "string index out of range",
     "output_type": "error",
     "traceback": [
      "\u001b[0;31m---------------------------------------------------------------------------\u001b[0m",
      "\u001b[0;31mIndexError\u001b[0m                                Traceback (most recent call last)",
      "Cell \u001b[0;32mIn[83], line 1\u001b[0m\n\u001b[0;32m----> 1\u001b[0m \u001b[43mstr_vec\u001b[49m\u001b[43m[\u001b[49m\u001b[38;5;241;43m0\u001b[39;49m\u001b[43m]\u001b[49m\u001b[43m[\u001b[49m\u001b[38;5;241;43m1\u001b[39;49m\u001b[43m]\u001b[49m\u001b[43m[\u001b[49m\u001b[38;5;241;43m2\u001b[39;49m\u001b[43m]\u001b[49m\u001b[43m[\u001b[49m\u001b[38;5;241;43m3\u001b[39;49m\u001b[43m]\u001b[49m\n",
      "\u001b[0;31mIndexError\u001b[0m: string index out of range"
     ]
    }
   ],
   "source": [
    "str_vec[0][1][2][3]"
   ]
  },
  {
   "cell_type": "code",
   "execution_count": 84,
   "id": "7de8fc1b",
   "metadata": {},
   "outputs": [
    {
     "data": {
      "text/plain": [
       "array([['Judge', 'Goat', 'Saudi'],\n",
       "       ['Spurs', 'Bottlers', 'Reds']], dtype='<U8')"
      ]
     },
     "execution_count": 84,
     "metadata": {},
     "output_type": "execute_result"
    }
   ],
   "source": [
    "# what does the dtype mean and how to work with it?\n",
    "str_vec"
   ]
  },
  {
   "cell_type": "code",
   "execution_count": 85,
   "id": "0aada1eb",
   "metadata": {},
   "outputs": [
    {
     "data": {
      "text/plain": [
       "array(['Judge', 'Goat', 'Saudi'], dtype='<U8')"
      ]
     },
     "execution_count": 85,
     "metadata": {},
     "output_type": "execute_result"
    }
   ],
   "source": [
    "str_vec[0]"
   ]
  },
  {
   "cell_type": "code",
   "execution_count": 86,
   "id": "ba3ef815",
   "metadata": {},
   "outputs": [
    {
     "data": {
      "text/plain": [
       "array(['Spurs', 'Bottlers', 'Reds'], dtype='<U8')"
      ]
     },
     "execution_count": 86,
     "metadata": {},
     "output_type": "execute_result"
    }
   ],
   "source": [
    "str_vec[1]"
   ]
  },
  {
   "cell_type": "code",
   "execution_count": 87,
   "id": "7244e7ad",
   "metadata": {},
   "outputs": [
    {
     "data": {
      "text/plain": [
       "'Judge'"
      ]
     },
     "execution_count": 87,
     "metadata": {},
     "output_type": "execute_result"
    }
   ],
   "source": [
    "str_vec[0][0]"
   ]
  },
  {
   "cell_type": "code",
   "execution_count": 88,
   "id": "99a7c1fe",
   "metadata": {},
   "outputs": [
    {
     "data": {
      "text/plain": [
       "'d'"
      ]
     },
     "execution_count": 88,
     "metadata": {},
     "output_type": "execute_result"
    }
   ],
   "source": [
    "str_vec[0][0][2]"
   ]
  },
  {
   "cell_type": "code",
   "execution_count": 89,
   "id": "b58a4e2d",
   "metadata": {},
   "outputs": [
    {
     "data": {
      "text/plain": [
       "dtype('<U8')"
      ]
     },
     "execution_count": 89,
     "metadata": {},
     "output_type": "execute_result"
    }
   ],
   "source": [
    "str_vec.dtype"
   ]
  },
  {
   "cell_type": "code",
   "execution_count": 90,
   "id": "3bef5213",
   "metadata": {},
   "outputs": [
    {
     "data": {
      "text/plain": [
       "array([['Judge', 'Goat', 'Burkinaf'],\n",
       "       ['Spurs', 'Bottlers', 'Reds']], dtype='<U8')"
      ]
     },
     "execution_count": 90,
     "metadata": {},
     "output_type": "execute_result"
    }
   ],
   "source": [
    "str_vec[0][2] =  'Burkinafaso'\n",
    "str_vec"
   ]
  },
  {
   "cell_type": "code",
   "execution_count": 91,
   "id": "bf603896",
   "metadata": {},
   "outputs": [
    {
     "data": {
      "text/plain": [
       "array([['Judge', 'Goat', 'Burkinaf'],\n",
       "       ['Spurs', 'Bottlers', 'Reds']], dtype='<U16')"
      ]
     },
     "execution_count": 91,
     "metadata": {},
     "output_type": "execute_result"
    }
   ],
   "source": [
    "str_vec = np.array(str_vec, dtype='<U16')\n",
    "str_vec"
   ]
  },
  {
   "cell_type": "code",
   "execution_count": 92,
   "id": "e734fd5b",
   "metadata": {},
   "outputs": [
    {
     "data": {
      "text/plain": [
       "array([['Judge', 'Goat', 'Burkinafaso'],\n",
       "       ['Spurs', 'Bottlers', 'Reds']], dtype='<U16')"
      ]
     },
     "execution_count": 92,
     "metadata": {},
     "output_type": "execute_result"
    }
   ],
   "source": [
    "str_vec[0][2] =  'Burkinafaso'\n",
    "str_vec"
   ]
  },
  {
   "cell_type": "code",
   "execution_count": 93,
   "id": "be593443",
   "metadata": {},
   "outputs": [
    {
     "data": {
      "text/plain": [
       "array([['Judge', 'Goat', 'Burkinafaso'],\n",
       "       ['Spurs', 'Bottlers', 'Reds']], dtype='<U16')"
      ]
     },
     "execution_count": 93,
     "metadata": {},
     "output_type": "execute_result"
    }
   ],
   "source": [
    "str_vec"
   ]
  },
  {
   "cell_type": "markdown",
   "id": "92e5a20b",
   "metadata": {},
   "source": [
    "### Copy the array obj "
   ]
  },
  {
   "cell_type": "code",
   "execution_count": 95,
   "id": "74fd19fc",
   "metadata": {},
   "outputs": [],
   "source": [
    "# copy the array\n",
    "new_str_vec = str_vec"
   ]
  },
  {
   "cell_type": "code",
   "execution_count": 96,
   "id": "d89a9ad4",
   "metadata": {},
   "outputs": [
    {
     "data": {
      "text/plain": [
       "array([['Judge', 'Goat', 'Burkinafaso'],\n",
       "       ['Spurs', 'Bottlers', 'Reds']], dtype='<U16')"
      ]
     },
     "execution_count": 96,
     "metadata": {},
     "output_type": "execute_result"
    }
   ],
   "source": [
    "new_str_vec"
   ]
  },
  {
   "cell_type": "code",
   "execution_count": 97,
   "id": "d9446a9a",
   "metadata": {},
   "outputs": [
    {
     "data": {
      "text/plain": [
       "array([['Judge', 'nan', 'Burkinafaso'],\n",
       "       ['Spurs', 'Bottlers', 'Reds']], dtype='<U16')"
      ]
     },
     "execution_count": 97,
     "metadata": {},
     "output_type": "execute_result"
    }
   ],
   "source": [
    "str_vec[0][1] = np.nan\n",
    "str_vec"
   ]
  },
  {
   "cell_type": "code",
   "execution_count": 98,
   "id": "5e6dd277",
   "metadata": {},
   "outputs": [
    {
     "data": {
      "text/plain": [
       "array([['Judge', 'nan', 'Burkinafaso'],\n",
       "       ['Spurs', 'Bottlers', 'Reds']], dtype='<U16')"
      ]
     },
     "execution_count": 98,
     "metadata": {},
     "output_type": "execute_result"
    }
   ],
   "source": [
    "new_str_vec"
   ]
  },
  {
   "cell_type": "code",
   "execution_count": 100,
   "id": "c3a95c88",
   "metadata": {},
   "outputs": [
    {
     "data": {
      "text/plain": [
       "array([['Judge', 'nan', 'Burkinafaso'],\n",
       "       ['Spurs', 'Bottlers', 'Reds']], dtype='<U16')"
      ]
     },
     "execution_count": 100,
     "metadata": {},
     "output_type": "execute_result"
    }
   ],
   "source": [
    "new_arry = str_vec.copy() # the copy mtd creates a new instance independent of the parent array\n",
    "new_arry"
   ]
  },
  {
   "cell_type": "code",
   "execution_count": 101,
   "id": "ebf3eb9f",
   "metadata": {},
   "outputs": [
    {
     "data": {
      "text/plain": [
       "array([['Judge', 'nan', 'Burkinafaso'],\n",
       "       ['Spurs', 'Bottlers', 'nan']], dtype='<U16')"
      ]
     },
     "execution_count": 101,
     "metadata": {},
     "output_type": "execute_result"
    }
   ],
   "source": [
    "str_vec[1][2] = np.nan\n",
    "str_vec"
   ]
  },
  {
   "cell_type": "code",
   "execution_count": 102,
   "id": "03210764",
   "metadata": {},
   "outputs": [
    {
     "data": {
      "text/plain": [
       "array([['Judge', 'nan', 'Burkinafaso'],\n",
       "       ['Spurs', 'Bottlers', 'Reds']], dtype='<U16')"
      ]
     },
     "execution_count": 102,
     "metadata": {},
     "output_type": "execute_result"
    }
   ],
   "source": [
    "new_arry"
   ]
  },
  {
   "cell_type": "markdown",
   "id": "3c552a48",
   "metadata": {},
   "source": [
    "### Save the array obj"
   ]
  },
  {
   "cell_type": "code",
   "execution_count": 105,
   "id": "82408cba",
   "metadata": {},
   "outputs": [
    {
     "data": {
      "text/plain": [
       "array([['Judge', 'nan', 'Burkinafaso'],\n",
       "       ['Spurs', 'Bottlers', 'Reds']], dtype='<U16')"
      ]
     },
     "execution_count": 105,
     "metadata": {},
     "output_type": "execute_result"
    }
   ],
   "source": [
    "# To save the array obj  \n",
    "'''\n",
    "The ffg syntax are used to save an array in np\n",
    "save(file, arr), saves in a npy format.\n",
    "savez(file, arr), saves in npz format i.e. a compressed file\n",
    "savetxt(file, arr, delimeter), saves in a text file or csv file (when using the delimeter arg)\n",
    "arr.tofile(file, sep), saves in a file with the arr elements separated by comma\n",
    "'''\n",
    "\n",
    "file = '/Users/damilare/Documents/ingryd/datasets/numpy_data/new_array.npy'\n",
    "\n",
    "\n",
    "new_arry"
   ]
  },
  {
   "cell_type": "code",
   "execution_count": 106,
   "id": "82276dca",
   "metadata": {},
   "outputs": [],
   "source": [
    "np.save(file, new_arry)"
   ]
  },
  {
   "cell_type": "code",
   "execution_count": 107,
   "id": "e82ac63c",
   "metadata": {},
   "outputs": [
    {
     "data": {
      "text/plain": [
       "array([['Judge', 'nan', 'Burkinafaso'],\n",
       "       ['Spurs', 'Bottlers', 'Reds']], dtype='<U16')"
      ]
     },
     "execution_count": 107,
     "metadata": {},
     "output_type": "execute_result"
    }
   ],
   "source": [
    "# load the array from the npy file in np\n",
    "get_arry = np.load(file)\n",
    "get_arry"
   ]
  },
  {
   "cell_type": "code",
   "execution_count": 109,
   "id": "a9c29be6",
   "metadata": {},
   "outputs": [],
   "source": [
    "# using the savetxt mtd\n",
    "\n",
    "# declare file path\n",
    "file2 = '/Users/damilare/Documents/ingryd/datasets/numpy_data/another_array.csv'\n"
   ]
  },
  {
   "cell_type": "code",
   "execution_count": 117,
   "id": "aada3311",
   "metadata": {},
   "outputs": [
    {
     "ename": "TypeError",
     "evalue": "Mismatch between array dtype ('<U16') and format specifier ('%.18e,%.18e,%.18e')",
     "output_type": "error",
     "traceback": [
      "\u001b[0;31m---------------------------------------------------------------------------\u001b[0m",
      "\u001b[0;31mTypeError\u001b[0m                                 Traceback (most recent call last)",
      "File \u001b[0;32m~/anaconda3/lib/python3.10/site-packages/numpy/lib/npyio.py:1590\u001b[0m, in \u001b[0;36msavetxt\u001b[0;34m(fname, X, fmt, delimiter, newline, header, footer, comments, encoding)\u001b[0m\n\u001b[1;32m   1589\u001b[0m \u001b[38;5;28;01mtry\u001b[39;00m:\n\u001b[0;32m-> 1590\u001b[0m     v \u001b[38;5;241m=\u001b[39m \u001b[38;5;28;43mformat\u001b[39;49m\u001b[43m \u001b[49m\u001b[38;5;241;43m%\u001b[39;49m\u001b[43m \u001b[49m\u001b[38;5;28;43mtuple\u001b[39;49m\u001b[43m(\u001b[49m\u001b[43mrow\u001b[49m\u001b[43m)\u001b[49m \u001b[38;5;241m+\u001b[39m newline\n\u001b[1;32m   1591\u001b[0m \u001b[38;5;28;01mexcept\u001b[39;00m \u001b[38;5;167;01mTypeError\u001b[39;00m \u001b[38;5;28;01mas\u001b[39;00m e:\n",
      "\u001b[0;31mTypeError\u001b[0m: must be real number, not numpy.str_",
      "\nThe above exception was the direct cause of the following exception:\n",
      "\u001b[0;31mTypeError\u001b[0m                                 Traceback (most recent call last)",
      "Cell \u001b[0;32mIn[117], line 1\u001b[0m\n\u001b[0;32m----> 1\u001b[0m \u001b[43mnp\u001b[49m\u001b[38;5;241;43m.\u001b[39;49m\u001b[43msavetxt\u001b[49m\u001b[43m(\u001b[49m\u001b[43mfile2\u001b[49m\u001b[43m,\u001b[49m\u001b[43m \u001b[49m\u001b[43mnew_arry\u001b[49m\u001b[43m,\u001b[49m\u001b[43m \u001b[49m\u001b[43mdelimiter\u001b[49m\u001b[38;5;241;43m=\u001b[39;49m\u001b[38;5;124;43m\"\u001b[39;49m\u001b[38;5;124;43m,\u001b[39;49m\u001b[38;5;124;43m\"\u001b[39;49m\u001b[43m)\u001b[49m\n",
      "File \u001b[0;32m<__array_function__ internals>:180\u001b[0m, in \u001b[0;36msavetxt\u001b[0;34m(*args, **kwargs)\u001b[0m\n",
      "File \u001b[0;32m~/anaconda3/lib/python3.10/site-packages/numpy/lib/npyio.py:1592\u001b[0m, in \u001b[0;36msavetxt\u001b[0;34m(fname, X, fmt, delimiter, newline, header, footer, comments, encoding)\u001b[0m\n\u001b[1;32m   1590\u001b[0m             v \u001b[38;5;241m=\u001b[39m \u001b[38;5;28mformat\u001b[39m \u001b[38;5;241m%\u001b[39m \u001b[38;5;28mtuple\u001b[39m(row) \u001b[38;5;241m+\u001b[39m newline\n\u001b[1;32m   1591\u001b[0m         \u001b[38;5;28;01mexcept\u001b[39;00m \u001b[38;5;167;01mTypeError\u001b[39;00m \u001b[38;5;28;01mas\u001b[39;00m e:\n\u001b[0;32m-> 1592\u001b[0m             \u001b[38;5;28;01mraise\u001b[39;00m \u001b[38;5;167;01mTypeError\u001b[39;00m(\u001b[38;5;124m\"\u001b[39m\u001b[38;5;124mMismatch between array dtype (\u001b[39m\u001b[38;5;124m'\u001b[39m\u001b[38;5;132;01m%s\u001b[39;00m\u001b[38;5;124m'\u001b[39m\u001b[38;5;124m) and \u001b[39m\u001b[38;5;124m\"\u001b[39m\n\u001b[1;32m   1593\u001b[0m                             \u001b[38;5;124m\"\u001b[39m\u001b[38;5;124mformat specifier (\u001b[39m\u001b[38;5;124m'\u001b[39m\u001b[38;5;132;01m%s\u001b[39;00m\u001b[38;5;124m'\u001b[39m\u001b[38;5;124m)\u001b[39m\u001b[38;5;124m\"\u001b[39m\n\u001b[1;32m   1594\u001b[0m                             \u001b[38;5;241m%\u001b[39m (\u001b[38;5;28mstr\u001b[39m(X\u001b[38;5;241m.\u001b[39mdtype), \u001b[38;5;28mformat\u001b[39m)) \u001b[38;5;28;01mfrom\u001b[39;00m \u001b[38;5;21;01me\u001b[39;00m\n\u001b[1;32m   1595\u001b[0m         fh\u001b[38;5;241m.\u001b[39mwrite(v)\n\u001b[1;32m   1597\u001b[0m \u001b[38;5;28;01mif\u001b[39;00m \u001b[38;5;28mlen\u001b[39m(footer) \u001b[38;5;241m>\u001b[39m \u001b[38;5;241m0\u001b[39m:\n",
      "\u001b[0;31mTypeError\u001b[0m: Mismatch between array dtype ('<U16') and format specifier ('%.18e,%.18e,%.18e')"
     ]
    }
   ],
   "source": [
    "np.savetxt(file2, new_arry, delimiter=\",\") # separate the values by comma"
   ]
  },
  {
   "cell_type": "code",
   "execution_count": 113,
   "id": "98d413c1",
   "metadata": {},
   "outputs": [
    {
     "data": {
      "text/plain": [
       "2"
      ]
     },
     "execution_count": 113,
     "metadata": {},
     "output_type": "execute_result"
    }
   ],
   "source": [
    "new_arry.ndim"
   ]
  },
  {
   "cell_type": "code",
   "execution_count": 119,
   "id": "5b4625e6",
   "metadata": {},
   "outputs": [],
   "source": [
    "new_arry2 = np.random.random((3,4)) # the savetxt mtd works with real numbers and not strings"
   ]
  },
  {
   "cell_type": "code",
   "execution_count": 120,
   "id": "ccb629ec",
   "metadata": {},
   "outputs": [
    {
     "data": {
      "text/plain": [
       "array([[0.01842995, 0.16727138, 0.52458089, 0.95673066],\n",
       "       [0.82820891, 0.05670513, 0.59104059, 0.90642109],\n",
       "       [0.806815  , 0.30562813, 0.15095961, 0.91586111]])"
      ]
     },
     "execution_count": 120,
     "metadata": {},
     "output_type": "execute_result"
    }
   ],
   "source": [
    "new_arry2"
   ]
  },
  {
   "cell_type": "code",
   "execution_count": 121,
   "id": "c170b402",
   "metadata": {},
   "outputs": [],
   "source": [
    "np.savetxt(file2, new_arry2, delimiter=\",\")"
   ]
  },
  {
   "cell_type": "code",
   "execution_count": 122,
   "id": "0c0803f4",
   "metadata": {},
   "outputs": [
    {
     "ename": "ValueError",
     "evalue": "Cannot load file containing pickled data when allow_pickle=False",
     "output_type": "error",
     "traceback": [
      "\u001b[0;31m---------------------------------------------------------------------------\u001b[0m",
      "\u001b[0;31mValueError\u001b[0m                                Traceback (most recent call last)",
      "Cell \u001b[0;32mIn[122], line 3\u001b[0m\n\u001b[1;32m      1\u001b[0m \u001b[38;5;66;03m# read the another_array.csv file\u001b[39;00m\n\u001b[0;32m----> 3\u001b[0m get_csv_file \u001b[38;5;241m=\u001b[39m \u001b[43mnp\u001b[49m\u001b[38;5;241;43m.\u001b[39;49m\u001b[43mload\u001b[49m\u001b[43m(\u001b[49m\u001b[43mfile2\u001b[49m\u001b[43m)\u001b[49m\n\u001b[1;32m      4\u001b[0m get_csv_file\n",
      "File \u001b[0;32m~/anaconda3/lib/python3.10/site-packages/numpy/lib/npyio.py:438\u001b[0m, in \u001b[0;36mload\u001b[0;34m(file, mmap_mode, allow_pickle, fix_imports, encoding, max_header_size)\u001b[0m\n\u001b[1;32m    435\u001b[0m \u001b[38;5;28;01melse\u001b[39;00m:\n\u001b[1;32m    436\u001b[0m     \u001b[38;5;66;03m# Try a pickle\u001b[39;00m\n\u001b[1;32m    437\u001b[0m     \u001b[38;5;28;01mif\u001b[39;00m \u001b[38;5;129;01mnot\u001b[39;00m allow_pickle:\n\u001b[0;32m--> 438\u001b[0m         \u001b[38;5;28;01mraise\u001b[39;00m \u001b[38;5;167;01mValueError\u001b[39;00m(\u001b[38;5;124m\"\u001b[39m\u001b[38;5;124mCannot load file containing pickled data \u001b[39m\u001b[38;5;124m\"\u001b[39m\n\u001b[1;32m    439\u001b[0m                          \u001b[38;5;124m\"\u001b[39m\u001b[38;5;124mwhen allow_pickle=False\u001b[39m\u001b[38;5;124m\"\u001b[39m)\n\u001b[1;32m    440\u001b[0m     \u001b[38;5;28;01mtry\u001b[39;00m:\n\u001b[1;32m    441\u001b[0m         \u001b[38;5;28;01mreturn\u001b[39;00m pickle\u001b[38;5;241m.\u001b[39mload(fid, \u001b[38;5;241m*\u001b[39m\u001b[38;5;241m*\u001b[39mpickle_kwargs)\n",
      "\u001b[0;31mValueError\u001b[0m: Cannot load file containing pickled data when allow_pickle=False"
     ]
    }
   ],
   "source": [
    "# read the another_array.csv file\n",
    "\n",
    "get_csv_file = np.load(file2)\n",
    "get_csv_file"
   ]
  },
  {
   "cell_type": "code",
   "execution_count": 123,
   "id": "5f7d4872",
   "metadata": {},
   "outputs": [
    {
     "ename": "UnpicklingError",
     "evalue": "Failed to interpret file '/Users/damilare/Documents/ingryd/datasets/numpy_data/another_array.csv' as a pickle",
     "output_type": "error",
     "traceback": [
      "\u001b[0;31m---------------------------------------------------------------------------\u001b[0m",
      "\u001b[0;31mUnpicklingError\u001b[0m                           Traceback (most recent call last)",
      "File \u001b[0;32m~/anaconda3/lib/python3.10/site-packages/numpy/lib/npyio.py:441\u001b[0m, in \u001b[0;36mload\u001b[0;34m(file, mmap_mode, allow_pickle, fix_imports, encoding, max_header_size)\u001b[0m\n\u001b[1;32m    440\u001b[0m \u001b[38;5;28;01mtry\u001b[39;00m:\n\u001b[0;32m--> 441\u001b[0m     \u001b[38;5;28;01mreturn\u001b[39;00m \u001b[43mpickle\u001b[49m\u001b[38;5;241;43m.\u001b[39;49m\u001b[43mload\u001b[49m\u001b[43m(\u001b[49m\u001b[43mfid\u001b[49m\u001b[43m,\u001b[49m\u001b[43m \u001b[49m\u001b[38;5;241;43m*\u001b[39;49m\u001b[38;5;241;43m*\u001b[39;49m\u001b[43mpickle_kwargs\u001b[49m\u001b[43m)\u001b[49m\n\u001b[1;32m    442\u001b[0m \u001b[38;5;28;01mexcept\u001b[39;00m \u001b[38;5;167;01mException\u001b[39;00m \u001b[38;5;28;01mas\u001b[39;00m e:\n",
      "\u001b[0;31mUnpicklingError\u001b[0m: could not find MARK",
      "\nThe above exception was the direct cause of the following exception:\n",
      "\u001b[0;31mUnpicklingError\u001b[0m                           Traceback (most recent call last)",
      "Cell \u001b[0;32mIn[123], line 1\u001b[0m\n\u001b[0;32m----> 1\u001b[0m get_csv_file \u001b[38;5;241m=\u001b[39m \u001b[43mnp\u001b[49m\u001b[38;5;241;43m.\u001b[39;49m\u001b[43mload\u001b[49m\u001b[43m(\u001b[49m\u001b[43mfile2\u001b[49m\u001b[43m,\u001b[49m\u001b[43m \u001b[49m\u001b[43mallow_pickle\u001b[49m\u001b[38;5;241;43m=\u001b[39;49m\u001b[38;5;28;43;01mTrue\u001b[39;49;00m\u001b[43m)\u001b[49m\n\u001b[1;32m      2\u001b[0m get_csv_file\n",
      "File \u001b[0;32m~/anaconda3/lib/python3.10/site-packages/numpy/lib/npyio.py:443\u001b[0m, in \u001b[0;36mload\u001b[0;34m(file, mmap_mode, allow_pickle, fix_imports, encoding, max_header_size)\u001b[0m\n\u001b[1;32m    441\u001b[0m     \u001b[38;5;28;01mreturn\u001b[39;00m pickle\u001b[38;5;241m.\u001b[39mload(fid, \u001b[38;5;241m*\u001b[39m\u001b[38;5;241m*\u001b[39mpickle_kwargs)\n\u001b[1;32m    442\u001b[0m \u001b[38;5;28;01mexcept\u001b[39;00m \u001b[38;5;167;01mException\u001b[39;00m \u001b[38;5;28;01mas\u001b[39;00m e:\n\u001b[0;32m--> 443\u001b[0m     \u001b[38;5;28;01mraise\u001b[39;00m pickle\u001b[38;5;241m.\u001b[39mUnpicklingError(\n\u001b[1;32m    444\u001b[0m         \u001b[38;5;124mf\u001b[39m\u001b[38;5;124m\"\u001b[39m\u001b[38;5;124mFailed to interpret file \u001b[39m\u001b[38;5;132;01m{\u001b[39;00mfile\u001b[38;5;132;01m!r}\u001b[39;00m\u001b[38;5;124m as a pickle\u001b[39m\u001b[38;5;124m\"\u001b[39m) \u001b[38;5;28;01mfrom\u001b[39;00m \u001b[38;5;21;01me\u001b[39;00m\n",
      "\u001b[0;31mUnpicklingError\u001b[0m: Failed to interpret file '/Users/damilare/Documents/ingryd/datasets/numpy_data/another_array.csv' as a pickle"
     ]
    }
   ],
   "source": [
    "get_csv_file = np.load(file2, allow_pickle=True)\n",
    "get_csv_file # we can't use the load mtd to open a csv/txt file"
   ]
  },
  {
   "cell_type": "code",
   "execution_count": 124,
   "id": "1d8fa2f2",
   "metadata": {},
   "outputs": [
    {
     "data": {
      "text/plain": [
       "<_io.TextIOWrapper name='/Users/damilare/Documents/ingryd/datasets/numpy_data/another_array.csv' mode='r' encoding='UTF-8'>"
      ]
     },
     "execution_count": 124,
     "metadata": {},
     "output_type": "execute_result"
    }
   ],
   "source": [
    "# let's use the open func to read the csv file\n",
    "get_csv_file = open(file2, 'r')\n",
    "get_csv_file"
   ]
  },
  {
   "cell_type": "code",
   "execution_count": 125,
   "id": "09d3f191",
   "metadata": {},
   "outputs": [
    {
     "data": {
      "text/plain": [
       "'1.842995381228673679e-02,1.672713832088749131e-01,5.245808899561253957e-01,9.567306592828144218e-01\\n8.282089075405481005e-01,5.670513082269779126e-02,5.910405949723169794e-01,9.064210937126564449e-01\\n8.068149984836069377e-01,3.056281348720055746e-01,1.509596063551595924e-01,9.158611103135182452e-01\\n'"
      ]
     },
     "execution_count": 125,
     "metadata": {},
     "output_type": "execute_result"
    }
   ],
   "source": [
    "get_csv_file.read()"
   ]
  },
  {
   "cell_type": "code",
   "execution_count": 126,
   "id": "0e9c4f11",
   "metadata": {},
   "outputs": [
    {
     "data": {
      "text/plain": [
       "[]"
      ]
     },
     "execution_count": 126,
     "metadata": {},
     "output_type": "execute_result"
    }
   ],
   "source": [
    "get_csv_file.readlines()"
   ]
  },
  {
   "cell_type": "code",
   "execution_count": 127,
   "id": "4b0b07d6",
   "metadata": {},
   "outputs": [],
   "source": [
    "get_csv_file.close()"
   ]
  },
  {
   "cell_type": "code",
   "execution_count": 129,
   "id": "abbe6f2d",
   "metadata": {},
   "outputs": [
    {
     "ename": "ValueError",
     "evalue": "could not convert string '1.842995381228673679e-02,1.672713832088749131e-01,5.245808899561253957e-01,9.567306592828144218e-01 to float64 at row 0, column 1.",
     "output_type": "error",
     "traceback": [
      "\u001b[0;31m---------------------------------------------------------------------------\u001b[0m",
      "\u001b[0;31mValueError\u001b[0m                                Traceback (most recent call last)",
      "Cell \u001b[0;32mIn[129], line 1\u001b[0m\n\u001b[0;32m----> 1\u001b[0m get_csv_file2 \u001b[38;5;241m=\u001b[39m \u001b[43mnp\u001b[49m\u001b[38;5;241;43m.\u001b[39;49m\u001b[43mloadtxt\u001b[49m\u001b[43m(\u001b[49m\u001b[43mfile2\u001b[49m\u001b[43m)\u001b[49m\n\u001b[1;32m      2\u001b[0m get_csv_file2\n",
      "File \u001b[0;32m~/anaconda3/lib/python3.10/site-packages/numpy/lib/npyio.py:1338\u001b[0m, in \u001b[0;36mloadtxt\u001b[0;34m(fname, dtype, comments, delimiter, converters, skiprows, usecols, unpack, ndmin, encoding, max_rows, quotechar, like)\u001b[0m\n\u001b[1;32m   1335\u001b[0m \u001b[38;5;28;01mif\u001b[39;00m \u001b[38;5;28misinstance\u001b[39m(delimiter, \u001b[38;5;28mbytes\u001b[39m):\n\u001b[1;32m   1336\u001b[0m     delimiter \u001b[38;5;241m=\u001b[39m delimiter\u001b[38;5;241m.\u001b[39mdecode(\u001b[38;5;124m'\u001b[39m\u001b[38;5;124mlatin1\u001b[39m\u001b[38;5;124m'\u001b[39m)\n\u001b[0;32m-> 1338\u001b[0m arr \u001b[38;5;241m=\u001b[39m \u001b[43m_read\u001b[49m\u001b[43m(\u001b[49m\u001b[43mfname\u001b[49m\u001b[43m,\u001b[49m\u001b[43m \u001b[49m\u001b[43mdtype\u001b[49m\u001b[38;5;241;43m=\u001b[39;49m\u001b[43mdtype\u001b[49m\u001b[43m,\u001b[49m\u001b[43m \u001b[49m\u001b[43mcomment\u001b[49m\u001b[38;5;241;43m=\u001b[39;49m\u001b[43mcomment\u001b[49m\u001b[43m,\u001b[49m\u001b[43m \u001b[49m\u001b[43mdelimiter\u001b[49m\u001b[38;5;241;43m=\u001b[39;49m\u001b[43mdelimiter\u001b[49m\u001b[43m,\u001b[49m\n\u001b[1;32m   1339\u001b[0m \u001b[43m            \u001b[49m\u001b[43mconverters\u001b[49m\u001b[38;5;241;43m=\u001b[39;49m\u001b[43mconverters\u001b[49m\u001b[43m,\u001b[49m\u001b[43m \u001b[49m\u001b[43mskiplines\u001b[49m\u001b[38;5;241;43m=\u001b[39;49m\u001b[43mskiprows\u001b[49m\u001b[43m,\u001b[49m\u001b[43m \u001b[49m\u001b[43musecols\u001b[49m\u001b[38;5;241;43m=\u001b[39;49m\u001b[43musecols\u001b[49m\u001b[43m,\u001b[49m\n\u001b[1;32m   1340\u001b[0m \u001b[43m            \u001b[49m\u001b[43munpack\u001b[49m\u001b[38;5;241;43m=\u001b[39;49m\u001b[43munpack\u001b[49m\u001b[43m,\u001b[49m\u001b[43m \u001b[49m\u001b[43mndmin\u001b[49m\u001b[38;5;241;43m=\u001b[39;49m\u001b[43mndmin\u001b[49m\u001b[43m,\u001b[49m\u001b[43m \u001b[49m\u001b[43mencoding\u001b[49m\u001b[38;5;241;43m=\u001b[39;49m\u001b[43mencoding\u001b[49m\u001b[43m,\u001b[49m\n\u001b[1;32m   1341\u001b[0m \u001b[43m            \u001b[49m\u001b[43mmax_rows\u001b[49m\u001b[38;5;241;43m=\u001b[39;49m\u001b[43mmax_rows\u001b[49m\u001b[43m,\u001b[49m\u001b[43m \u001b[49m\u001b[43mquote\u001b[49m\u001b[38;5;241;43m=\u001b[39;49m\u001b[43mquotechar\u001b[49m\u001b[43m)\u001b[49m\n\u001b[1;32m   1343\u001b[0m \u001b[38;5;28;01mreturn\u001b[39;00m arr\n",
      "File \u001b[0;32m~/anaconda3/lib/python3.10/site-packages/numpy/lib/npyio.py:999\u001b[0m, in \u001b[0;36m_read\u001b[0;34m(fname, delimiter, comment, quote, imaginary_unit, usecols, skiplines, max_rows, converters, ndmin, unpack, dtype, encoding)\u001b[0m\n\u001b[1;32m    996\u001b[0m     data \u001b[38;5;241m=\u001b[39m _preprocess_comments(data, comments, encoding)\n\u001b[1;32m    998\u001b[0m \u001b[38;5;28;01mif\u001b[39;00m read_dtype_via_object_chunks \u001b[38;5;129;01mis\u001b[39;00m \u001b[38;5;28;01mNone\u001b[39;00m:\n\u001b[0;32m--> 999\u001b[0m     arr \u001b[38;5;241m=\u001b[39m \u001b[43m_load_from_filelike\u001b[49m\u001b[43m(\u001b[49m\n\u001b[1;32m   1000\u001b[0m \u001b[43m        \u001b[49m\u001b[43mdata\u001b[49m\u001b[43m,\u001b[49m\u001b[43m \u001b[49m\u001b[43mdelimiter\u001b[49m\u001b[38;5;241;43m=\u001b[39;49m\u001b[43mdelimiter\u001b[49m\u001b[43m,\u001b[49m\u001b[43m \u001b[49m\u001b[43mcomment\u001b[49m\u001b[38;5;241;43m=\u001b[39;49m\u001b[43mcomment\u001b[49m\u001b[43m,\u001b[49m\u001b[43m \u001b[49m\u001b[43mquote\u001b[49m\u001b[38;5;241;43m=\u001b[39;49m\u001b[43mquote\u001b[49m\u001b[43m,\u001b[49m\n\u001b[1;32m   1001\u001b[0m \u001b[43m        \u001b[49m\u001b[43mimaginary_unit\u001b[49m\u001b[38;5;241;43m=\u001b[39;49m\u001b[43mimaginary_unit\u001b[49m\u001b[43m,\u001b[49m\n\u001b[1;32m   1002\u001b[0m \u001b[43m        \u001b[49m\u001b[43musecols\u001b[49m\u001b[38;5;241;43m=\u001b[39;49m\u001b[43musecols\u001b[49m\u001b[43m,\u001b[49m\u001b[43m \u001b[49m\u001b[43mskiplines\u001b[49m\u001b[38;5;241;43m=\u001b[39;49m\u001b[43mskiplines\u001b[49m\u001b[43m,\u001b[49m\u001b[43m \u001b[49m\u001b[43mmax_rows\u001b[49m\u001b[38;5;241;43m=\u001b[39;49m\u001b[43mmax_rows\u001b[49m\u001b[43m,\u001b[49m\n\u001b[1;32m   1003\u001b[0m \u001b[43m        \u001b[49m\u001b[43mconverters\u001b[49m\u001b[38;5;241;43m=\u001b[39;49m\u001b[43mconverters\u001b[49m\u001b[43m,\u001b[49m\u001b[43m \u001b[49m\u001b[43mdtype\u001b[49m\u001b[38;5;241;43m=\u001b[39;49m\u001b[43mdtype\u001b[49m\u001b[43m,\u001b[49m\n\u001b[1;32m   1004\u001b[0m \u001b[43m        \u001b[49m\u001b[43mencoding\u001b[49m\u001b[38;5;241;43m=\u001b[39;49m\u001b[43mencoding\u001b[49m\u001b[43m,\u001b[49m\u001b[43m \u001b[49m\u001b[43mfilelike\u001b[49m\u001b[38;5;241;43m=\u001b[39;49m\u001b[43mfilelike\u001b[49m\u001b[43m,\u001b[49m\n\u001b[1;32m   1005\u001b[0m \u001b[43m        \u001b[49m\u001b[43mbyte_converters\u001b[49m\u001b[38;5;241;43m=\u001b[39;49m\u001b[43mbyte_converters\u001b[49m\u001b[43m)\u001b[49m\n\u001b[1;32m   1007\u001b[0m \u001b[38;5;28;01melse\u001b[39;00m:\n\u001b[1;32m   1008\u001b[0m     \u001b[38;5;66;03m# This branch reads the file into chunks of object arrays and then\u001b[39;00m\n\u001b[1;32m   1009\u001b[0m     \u001b[38;5;66;03m# casts them to the desired actual dtype.  This ensures correct\u001b[39;00m\n\u001b[1;32m   1010\u001b[0m     \u001b[38;5;66;03m# string-length and datetime-unit discovery (like `arr.astype()`).\u001b[39;00m\n\u001b[1;32m   1011\u001b[0m     \u001b[38;5;66;03m# Due to chunking, certain error reports are less clear, currently.\u001b[39;00m\n\u001b[1;32m   1012\u001b[0m     \u001b[38;5;28;01mif\u001b[39;00m filelike:\n",
      "\u001b[0;31mValueError\u001b[0m: could not convert string '1.842995381228673679e-02,1.672713832088749131e-01,5.245808899561253957e-01,9.567306592828144218e-01 to float64 at row 0, column 1."
     ]
    }
   ],
   "source": [
    "get_csv_file2 = np.loadtxt(file2)\n",
    "get_csv_file2"
   ]
  },
  {
   "cell_type": "code",
   "execution_count": 130,
   "id": "dffec94e",
   "metadata": {},
   "outputs": [
    {
     "data": {
      "text/plain": [
       "<_io.TextIOWrapper name='/Users/damilare/Documents/ingryd/datasets/numpy_data/another_array.csv' mode='r' encoding='UTF-8'>"
      ]
     },
     "execution_count": 130,
     "metadata": {},
     "output_type": "execute_result"
    }
   ],
   "source": [
    "get_csv_file = open(file2, 'r')\n",
    "get_csv_file"
   ]
  },
  {
   "cell_type": "code",
   "execution_count": 131,
   "id": "a4d804d2",
   "metadata": {},
   "outputs": [
    {
     "data": {
      "text/plain": [
       "['1.842995381228673679e-02,1.672713832088749131e-01,5.245808899561253957e-01,9.567306592828144218e-01\\n',\n",
       " '8.282089075405481005e-01,5.670513082269779126e-02,5.910405949723169794e-01,9.064210937126564449e-01\\n',\n",
       " '8.068149984836069377e-01,3.056281348720055746e-01,1.509596063551595924e-01,9.158611103135182452e-01\\n']"
      ]
     },
     "execution_count": 131,
     "metadata": {},
     "output_type": "execute_result"
    }
   ],
   "source": [
    "[data for data in get_csv_file]"
   ]
  },
  {
   "cell_type": "code",
   "execution_count": 133,
   "id": "fb8c4034",
   "metadata": {},
   "outputs": [
    {
     "name": "stdout",
     "output_type": "stream",
     "text": [
      "1.842995381228673679e-02,1.672713832088749131e-01,5.245808899561253957e-01,9.567306592828144218e-01\n",
      " => <class 'str'>\n",
      "8.282089075405481005e-01,5.670513082269779126e-02,5.910405949723169794e-01,9.064210937126564449e-01\n",
      " => <class 'str'>\n",
      "8.068149984836069377e-01,3.056281348720055746e-01,1.509596063551595924e-01,9.158611103135182452e-01\n",
      " => <class 'str'>\n"
     ]
    }
   ],
   "source": [
    "get_csv_file = open(file2, 'r')\n",
    "get_csv_file\n",
    "\n",
    "for data in get_csv_file:\n",
    "    print(data, '=>', type(data))"
   ]
  },
  {
   "cell_type": "code",
   "execution_count": 134,
   "id": "0900c5c5",
   "metadata": {},
   "outputs": [
    {
     "data": {
      "text/plain": [
       "array([[0.01842995, 0.16727138, 0.52458089, 0.95673066],\n",
       "       [0.82820891, 0.05670513, 0.59104059, 0.90642109],\n",
       "       [0.806815  , 0.30562813, 0.15095961, 0.91586111]])"
      ]
     },
     "execution_count": 134,
     "metadata": {},
     "output_type": "execute_result"
    }
   ],
   "source": [
    "get_csv_file2 = np.loadtxt(file2, delimiter=',')\n",
    "get_csv_file2"
   ]
  },
  {
   "cell_type": "markdown",
   "id": "329e9f43",
   "metadata": {},
   "source": [
    "### Array Slicing\n",
    "\n",
    "The following notes should be remembered when working with NP array slicing\n",
    "\n",
    "- The colon works with arrays just like with Lists, however, we're dealing with at least 1d array.\n",
    "- Select all rows from a to b and all columns from c to d for a 2d array 'arry' with arry[a:b, c:d].\n",
    "- Select every row in a dimension with : e.g. arry[a:b, :].\n",
    "- Select all rows up to b with arry[:b, :].\n",
    "- Select all rows after and including row a with arry[a:]\n",
    "- A second colon can be used to go by increment/step e.g. arry[a:b:i, :] or arry[a:b:(-1), :] for a\n",
    "-ve slicing or to go in the reverse direction."
   ]
  },
  {
   "cell_type": "code",
   "execution_count": 145,
   "id": "2aa50695",
   "metadata": {},
   "outputs": [
    {
     "data": {
      "text/plain": [
       "array([[['John', 'Doe', 'Tobe'],\n",
       "        ['Franca', 'Funsho', 'Gideon'],\n",
       "        ['Ire', 'Yemi', 'Wakil']],\n",
       "\n",
       "       [['Dara', 'Joe', 'Dona'],\n",
       "        ['Feranmi', 'Abubakar', 'Sulaimon'],\n",
       "        ['Franklin', 'Bola', 'Peter']],\n",
       "\n",
       "       [['Rasheed', 'Semande', 'Caleb'],\n",
       "        ['Tunde', 'Timson', 'Kunle'],\n",
       "        ['Joan', 'Jamiu', 'Patrick']]], dtype='<U8')"
      ]
     },
     "execution_count": 145,
     "metadata": {},
     "output_type": "execute_result"
    }
   ],
   "source": [
    "# ex\n",
    "\n",
    "arry1 = np.array([\n",
    "    [\n",
    "        ['John', 'Doe', 'Tobe'],\n",
    "        ['Franca', 'Funsho', 'Gideon'],\n",
    "        ['Ire', 'Yemi', 'Wakil']\n",
    "    ],\n",
    "    [\n",
    "        ['Dara', 'Joe', 'Dona'],\n",
    "        ['Feranmi', 'Abubakar', 'Sulaimon'],\n",
    "        ['Franklin', 'Bola', 'Peter']\n",
    "    ],\n",
    "    [\n",
    "        ['Rasheed', 'Semande', 'Caleb'],\n",
    "        ['Tunde', 'Timson', 'Kunle'],\n",
    "        ['Joan', 'Jamiu', 'Patrick']\n",
    "    ]\n",
    "    \n",
    "])\n",
    "\n",
    "arry1"
   ]
  },
  {
   "cell_type": "code",
   "execution_count": 136,
   "id": "da7bb08a",
   "metadata": {},
   "outputs": [
    {
     "data": {
      "text/plain": [
       "(3, 3, 3)"
      ]
     },
     "execution_count": 136,
     "metadata": {},
     "output_type": "execute_result"
    }
   ],
   "source": [
    "arry1.shape"
   ]
  },
  {
   "cell_type": "code",
   "execution_count": 137,
   "id": "acfb34ee",
   "metadata": {},
   "outputs": [
    {
     "data": {
      "text/plain": [
       "27"
      ]
     },
     "execution_count": 137,
     "metadata": {},
     "output_type": "execute_result"
    }
   ],
   "source": [
    "arry1.size"
   ]
  },
  {
   "cell_type": "code",
   "execution_count": 138,
   "id": "e809afd8",
   "metadata": {},
   "outputs": [
    {
     "data": {
      "text/plain": [
       "3"
      ]
     },
     "execution_count": 138,
     "metadata": {},
     "output_type": "execute_result"
    }
   ],
   "source": [
    "arry1.ndim"
   ]
  },
  {
   "cell_type": "code",
   "execution_count": 139,
   "id": "fabb680b",
   "metadata": {},
   "outputs": [
    {
     "data": {
      "text/plain": [
       "array([['John', 'Franca', 'Ire'],\n",
       "       ['Dara', 'Feranmi', 'Franklin'],\n",
       "       ['Rasheed', 'Tunde', 'Joan']], dtype='<U8')"
      ]
     },
     "execution_count": 139,
     "metadata": {},
     "output_type": "execute_result"
    }
   ],
   "source": [
    "# copy the array\n",
    "arry2 = arry1[:, :,0].copy()\n",
    "arry2"
   ]
  },
  {
   "cell_type": "code",
   "execution_count": null,
   "id": "5e98efd6",
   "metadata": {},
   "outputs": [],
   "source": [
    "# what did we copy?\n",
    "'''\n",
    "loop thru the rows, go thru the columns  \n",
    "'''"
   ]
  },
  {
   "cell_type": "code",
   "execution_count": 141,
   "id": "8d46cc4a",
   "metadata": {},
   "outputs": [
    {
     "data": {
      "text/plain": [
       "array([['John', 'Doe', 'Tobe'],\n",
       "       ['Franca', 'Funsho', 'Gideon'],\n",
       "       ['Ire', 'Yemi', 'Wakil']], dtype='<U8')"
      ]
     },
     "execution_count": 141,
     "metadata": {},
     "output_type": "execute_result"
    }
   ],
   "source": [
    "arry1[0]"
   ]
  },
  {
   "cell_type": "code",
   "execution_count": 143,
   "id": "6c200e32",
   "metadata": {},
   "outputs": [
    {
     "data": {
      "text/plain": [
       "array([['Dara', 'Joe', 'Dona'],\n",
       "       ['Feranmi', 'Abubakar', 'Sulaimon'],\n",
       "       ['Franklin', 'Bola', 'Peter']], dtype='<U8')"
      ]
     },
     "execution_count": 143,
     "metadata": {},
     "output_type": "execute_result"
    }
   ],
   "source": [
    "arry1[1]"
   ]
  },
  {
   "cell_type": "code",
   "execution_count": 144,
   "id": "7373b9e9",
   "metadata": {},
   "outputs": [
    {
     "data": {
      "text/plain": [
       "array([['Rasheed', 'Semande', 'Caleb'],\n",
       "       ['Tunde', 'Timson', 'Kunle'],\n",
       "       ['Joan', 'Jamiu', 'Patrick']], dtype='<U8')"
      ]
     },
     "execution_count": 144,
     "metadata": {},
     "output_type": "execute_result"
    }
   ],
   "source": [
    "arry1[2]"
   ]
  },
  {
   "cell_type": "markdown",
   "id": "52b86e1a",
   "metadata": {},
   "source": [
    "### Wk7_1.3 - Slicing & Indexing Cont"
   ]
  },
  {
   "cell_type": "code",
   "execution_count": 146,
   "id": "bcf0a7ac",
   "metadata": {},
   "outputs": [
    {
     "data": {
      "text/plain": [
       "array([[['John', 'Doe', 'Tobe'],\n",
       "        ['Franca', 'Funsho', 'Gideon'],\n",
       "        ['Ire', 'Yemi', 'Wakil']],\n",
       "\n",
       "       [['Dara', 'Joe', 'Dona'],\n",
       "        ['Feranmi', 'Abubakar', 'Sulaimon'],\n",
       "        ['Franklin', 'Bola', 'Peter']]], dtype='<U8')"
      ]
     },
     "execution_count": 146,
     "metadata": {},
     "output_type": "execute_result"
    }
   ],
   "source": [
    "arry1[:2]"
   ]
  },
  {
   "cell_type": "code",
   "execution_count": 147,
   "id": "f07cd872",
   "metadata": {},
   "outputs": [
    {
     "data": {
      "text/plain": [
       "array([[['John', 'Doe', 'Tobe'],\n",
       "        ['Franca', 'Funsho', 'Gideon']],\n",
       "\n",
       "       [['Dara', 'Joe', 'Dona'],\n",
       "        ['Feranmi', 'Abubakar', 'Sulaimon']]], dtype='<U8')"
      ]
     },
     "execution_count": 147,
     "metadata": {},
     "output_type": "execute_result"
    }
   ],
   "source": [
    "arry1[:2, :2]"
   ]
  },
  {
   "cell_type": "code",
   "execution_count": 148,
   "id": "172d6e6e",
   "metadata": {},
   "outputs": [
    {
     "data": {
      "text/plain": [
       "array([[['John', 'Doe'],\n",
       "        ['Franca', 'Funsho']],\n",
       "\n",
       "       [['Dara', 'Joe'],\n",
       "        ['Feranmi', 'Abubakar']]], dtype='<U8')"
      ]
     },
     "execution_count": 148,
     "metadata": {},
     "output_type": "execute_result"
    }
   ],
   "source": [
    "arry1[:2, :2, :2]"
   ]
  },
  {
   "cell_type": "code",
   "execution_count": 149,
   "id": "22b87b05",
   "metadata": {},
   "outputs": [
    {
     "data": {
      "text/plain": [
       "array([], shape=(0, 1, 2), dtype='<U8')"
      ]
     },
     "execution_count": 149,
     "metadata": {},
     "output_type": "execute_result"
    }
   ],
   "source": [
    "arry1[:0, :1, :2]"
   ]
  },
  {
   "cell_type": "code",
   "execution_count": 150,
   "id": "44a4b56f",
   "metadata": {},
   "outputs": [
    {
     "data": {
      "text/plain": [
       "array([[['John', 'Doe']],\n",
       "\n",
       "       [['Dara', 'Joe']],\n",
       "\n",
       "       [['Rasheed', 'Semande']]], dtype='<U8')"
      ]
     },
     "execution_count": 150,
     "metadata": {},
     "output_type": "execute_result"
    }
   ],
   "source": [
    "arry1[0:, :1, :2]"
   ]
  },
  {
   "cell_type": "code",
   "execution_count": 151,
   "id": "fc873720",
   "metadata": {},
   "outputs": [
    {
     "data": {
      "text/plain": [
       "array([[['Rasheed', 'Semande', 'Caleb'],\n",
       "        ['Tunde', 'Timson', 'Kunle'],\n",
       "        ['Joan', 'Jamiu', 'Patrick']],\n",
       "\n",
       "       [['Dara', 'Joe', 'Dona'],\n",
       "        ['Feranmi', 'Abubakar', 'Sulaimon'],\n",
       "        ['Franklin', 'Bola', 'Peter']],\n",
       "\n",
       "       [['John', 'Doe', 'Tobe'],\n",
       "        ['Franca', 'Funsho', 'Gideon'],\n",
       "        ['Ire', 'Yemi', 'Wakil']]], dtype='<U8')"
      ]
     },
     "execution_count": 151,
     "metadata": {},
     "output_type": "execute_result"
    }
   ],
   "source": [
    "arry1[::-1, :]"
   ]
  },
  {
   "cell_type": "code",
   "execution_count": 152,
   "id": "e98073f6",
   "metadata": {},
   "outputs": [
    {
     "data": {
      "text/plain": [
       "array([[['Rasheed', 'Semande', 'Caleb'],\n",
       "        ['Tunde', 'Timson', 'Kunle']],\n",
       "\n",
       "       [['Dara', 'Joe', 'Dona'],\n",
       "        ['Feranmi', 'Abubakar', 'Sulaimon']],\n",
       "\n",
       "       [['John', 'Doe', 'Tobe'],\n",
       "        ['Franca', 'Funsho', 'Gideon']]], dtype='<U8')"
      ]
     },
     "execution_count": 152,
     "metadata": {},
     "output_type": "execute_result"
    }
   ],
   "source": [
    "arry1[::-1, :2]"
   ]
  },
  {
   "cell_type": "markdown",
   "id": "45c8652e",
   "metadata": {},
   "source": [
    "### Advanced Indexing"
   ]
  },
  {
   "cell_type": "code",
   "execution_count": 153,
   "id": "5391faff",
   "metadata": {},
   "outputs": [
    {
     "data": {
      "text/plain": [
       "array([[['John', 'Doe', 'Tobe'],\n",
       "        ['Franca', 'Funsho', 'Gideon'],\n",
       "        ['Ire', 'Yemi', 'Wakil']],\n",
       "\n",
       "       [['Dara', 'Joe', 'Dona'],\n",
       "        ['Feranmi', 'Abubakar', 'Sulaimon'],\n",
       "        ['Franklin', 'Bola', 'Peter']],\n",
       "\n",
       "       [['Rasheed', 'Semande', 'Caleb'],\n",
       "        ['Tunde', 'Timson', 'Kunle'],\n",
       "        ['Joan', 'Jamiu', 'Patrick']]], dtype='<U8')"
      ]
     },
     "execution_count": 153,
     "metadata": {},
     "output_type": "execute_result"
    }
   ],
   "source": [
    "arry1 # this returns the whole array"
   ]
  },
  {
   "cell_type": "code",
   "execution_count": 154,
   "id": "f5523288",
   "metadata": {},
   "outputs": [
    {
     "name": "stdout",
     "output_type": "stream",
     "text": [
      "['John' 'Doe' 'Tobe' 'Franca' 'Funsho' 'Gideon' 'Ire' 'Yemi' 'Wakil'\n",
      " 'Dara' 'Joe' 'Dona' 'Feranmi' 'Abubakar' 'Sulaimon' 'Franklin' 'Bola'\n",
      " 'Peter' 'Rasheed' 'Semande' 'Tunde' 'Timson' 'Kunle' 'Joan' 'Jamiu'\n",
      " 'Patrick']\n"
     ]
    }
   ],
   "source": [
    "# get all the data that are not Caleb\n",
    "print(arry1[arry1 != 'Caleb'])"
   ]
  },
  {
   "cell_type": "code",
   "execution_count": 155,
   "id": "e9646515",
   "metadata": {},
   "outputs": [
    {
     "name": "stdout",
     "output_type": "stream",
     "text": [
      "[[[ True  True  True]\n",
      "  [ True  True  True]\n",
      "  [ True  True  True]]\n",
      "\n",
      " [[ True  True  True]\n",
      "  [ True  True  True]\n",
      "  [ True  True  True]]\n",
      "\n",
      " [[ True  True False]\n",
      "  [ True  True  True]\n",
      "  [ True  True  True]]]\n"
     ]
    }
   ],
   "source": [
    "print(arry1 != 'Caleb') # this returned a list of lists"
   ]
  },
  {
   "cell_type": "code",
   "execution_count": 156,
   "id": "7c40d60e",
   "metadata": {},
   "outputs": [
    {
     "data": {
      "text/plain": [
       "array([[[ True,  True,  True],\n",
       "        [ True,  True,  True],\n",
       "        [ True,  True,  True]],\n",
       "\n",
       "       [[ True,  True,  True],\n",
       "        [ True,  True,  True],\n",
       "        [ True,  True,  True]],\n",
       "\n",
       "       [[ True,  True, False],\n",
       "        [ True,  True,  True],\n",
       "        [ True,  True,  True]]])"
      ]
     },
     "execution_count": 156,
     "metadata": {},
     "output_type": "execute_result"
    }
   ],
   "source": [
    "arry1 != 'Caleb' # this returned an array of list of lists"
   ]
  },
  {
   "cell_type": "code",
   "execution_count": 169,
   "id": "89c665f6",
   "metadata": {},
   "outputs": [
    {
     "data": {
      "text/plain": [
       "array([[[0, 0],\n",
       "        [0, 0]],\n",
       "\n",
       "       [[2, 2],\n",
       "        [2, 2]]])"
      ]
     },
     "execution_count": 169,
     "metadata": {},
     "output_type": "execute_result"
    }
   ],
   "source": [
    "# get the data via an array of index\n",
    "\n",
    "# Row indices\n",
    "idx0 = np.array([\n",
    "            [\n",
    "                [0,0],[0,0]\n",
    "            ], \n",
    "            [\n",
    "                [2,2], [2,2]\n",
    "            ]\n",
    "        ])\n",
    "idx0"
   ]
  },
  {
   "cell_type": "code",
   "execution_count": 170,
   "id": "0777f512",
   "metadata": {},
   "outputs": [
    {
     "data": {
      "text/plain": [
       "array([[[0, 2],\n",
       "        [0, 2]],\n",
       "\n",
       "       [[0, 2],\n",
       "        [0, 2]]])"
      ]
     },
     "execution_count": 170,
     "metadata": {},
     "output_type": "execute_result"
    }
   ],
   "source": [
    "# Column indices\n",
    "idx1 = np.array([\n",
    "            [\n",
    "                [0,2],[0,2]\n",
    "            ],\n",
    "            [\n",
    "                [0,2],[0,2]\n",
    "            ]\n",
    "        ])\n",
    "idx1"
   ]
  },
  {
   "cell_type": "code",
   "execution_count": 171,
   "id": "653b54c3",
   "metadata": {},
   "outputs": [
    {
     "data": {
      "text/plain": [
       "array([[[0, 0],\n",
       "        [2, 2]],\n",
       "\n",
       "       [[0, 0],\n",
       "        [2, 2]]])"
      ]
     },
     "execution_count": 171,
     "metadata": {},
     "output_type": "execute_result"
    }
   ],
   "source": [
    "# Depth indices\n",
    "idx2 = np.array([\n",
    "            [\n",
    "                [0,0],[2,2]\n",
    "            ],\n",
    "            [\n",
    "                [0,0],[2,2]\n",
    "            ]\n",
    "        ])\n",
    "idx2"
   ]
  },
  {
   "cell_type": "code",
   "execution_count": 192,
   "id": "c1c57315",
   "metadata": {},
   "outputs": [
    {
     "data": {
      "text/plain": [
       "array([[['John', 'Ire'],\n",
       "        ['Tobe', 'Wakil']],\n",
       "\n",
       "       [['Rasheed', 'Joan'],\n",
       "        ['Caleb', 'Patrick']]], dtype='<U8')"
      ]
     },
     "execution_count": 192,
     "metadata": {},
     "output_type": "execute_result"
    }
   ],
   "source": [
    "arry1[idx0, idx1, idx2]"
   ]
  },
  {
   "cell_type": "code",
   "execution_count": 168,
   "id": "245cc732",
   "metadata": {},
   "outputs": [
    {
     "data": {
      "text/plain": [
       "array([[['John', 'Doe', 'Tobe'],\n",
       "        ['Franca', 'Funsho', 'Gideon'],\n",
       "        ['Ire', 'Yemi', 'Wakil']],\n",
       "\n",
       "       [['Dara', 'Joe', 'Dona'],\n",
       "        ['Feranmi', 'Abubakar', 'Sulaimon'],\n",
       "        ['Franklin', 'Bola', 'Peter']],\n",
       "\n",
       "       [['Rasheed', 'Semande', 'Caleb'],\n",
       "        ['Tunde', 'Timson', 'Kunle'],\n",
       "        ['Joan', 'Jamiu', 'Patrick']]], dtype='<U8')"
      ]
     },
     "execution_count": 168,
     "metadata": {},
     "output_type": "execute_result"
    }
   ],
   "source": [
    "arry1"
   ]
  },
  {
   "cell_type": "code",
   "execution_count": 185,
   "id": "04fec121",
   "metadata": {},
   "outputs": [
    {
     "data": {
      "text/plain": [
       "3"
      ]
     },
     "execution_count": 185,
     "metadata": {},
     "output_type": "execute_result"
    }
   ],
   "source": [
    "arry1.ndim"
   ]
  },
  {
   "cell_type": "markdown",
   "id": "dfa60c5a",
   "metadata": {},
   "source": [
    "### Array Expansion"
   ]
  },
  {
   "cell_type": "code",
   "execution_count": 195,
   "id": "75d1ba6a",
   "metadata": {},
   "outputs": [
    {
     "data": {
      "text/plain": [
       "array([[['John', 'Doe', 'Tobe'],\n",
       "        ['Franca', 'Funsho', 'Gideon'],\n",
       "        ['Ire', 'Yemi', 'Wakil']],\n",
       "\n",
       "       [['Dara', 'Joe', 'Dona'],\n",
       "        ['Feranmi', 'Abubakar', 'Sulaimon'],\n",
       "        ['Franklin', 'Bola', 'Peter']],\n",
       "\n",
       "       [['Rasheed', 'Semande', 'Caleb'],\n",
       "        ['Tunde', 'Timson', 'Kunle'],\n",
       "        ['Joan', 'Jamiu', 'Patrick']]], dtype='<U8')"
      ]
     },
     "execution_count": 195,
     "metadata": {},
     "output_type": "execute_result"
    }
   ],
   "source": [
    "# you can use the concatenate mtd to join two arrays together\n",
    "arry1"
   ]
  },
  {
   "cell_type": "code",
   "execution_count": 199,
   "id": "36670c06",
   "metadata": {},
   "outputs": [
    {
     "data": {
      "text/plain": [
       "array([['John', 'Doe', 'Tobe'],\n",
       "       ['Franca', 'Funsho', 'Gideon'],\n",
       "       ['Ire', 'Yemi', 'Wakil']], dtype='<U8')"
      ]
     },
     "execution_count": 199,
     "metadata": {},
     "output_type": "execute_result"
    }
   ],
   "source": [
    "new_arry1 = arry1[0]\n",
    "new_arry1"
   ]
  },
  {
   "cell_type": "code",
   "execution_count": 200,
   "id": "dac29d4b",
   "metadata": {},
   "outputs": [
    {
     "data": {
      "text/plain": [
       "2"
      ]
     },
     "execution_count": 200,
     "metadata": {},
     "output_type": "execute_result"
    }
   ],
   "source": [
    "new_arry1.ndim"
   ]
  },
  {
   "cell_type": "code",
   "execution_count": 202,
   "id": "ca569552",
   "metadata": {},
   "outputs": [
    {
     "data": {
      "text/plain": [
       "array([['Dara', 'Joe', 'Dona'],\n",
       "       ['Feranmi', 'Abubakar', 'Sulaimon'],\n",
       "       ['Franklin', 'Bola', 'Peter']], dtype='<U8')"
      ]
     },
     "execution_count": 202,
     "metadata": {},
     "output_type": "execute_result"
    }
   ],
   "source": [
    "new_arry2 = arry1[1]\n",
    "new_arry2"
   ]
  },
  {
   "cell_type": "code",
   "execution_count": 203,
   "id": "72eb8036",
   "metadata": {},
   "outputs": [
    {
     "data": {
      "text/plain": [
       "(3, 3)"
      ]
     },
     "execution_count": 203,
     "metadata": {},
     "output_type": "execute_result"
    }
   ],
   "source": [
    "new_arry2.shape"
   ]
  },
  {
   "cell_type": "code",
   "execution_count": 204,
   "id": "6834f826",
   "metadata": {},
   "outputs": [
    {
     "data": {
      "text/plain": [
       "(3, 3)"
      ]
     },
     "execution_count": 204,
     "metadata": {},
     "output_type": "execute_result"
    }
   ],
   "source": [
    "new_arry1.shape"
   ]
  },
  {
   "cell_type": "code",
   "execution_count": 205,
   "id": "4a47d2f7",
   "metadata": {},
   "outputs": [
    {
     "data": {
      "text/plain": [
       "array([['John', 'Doe', 'Tobe'],\n",
       "       ['Franca', 'Funsho', 'Gideon'],\n",
       "       ['Ire', 'Yemi', 'Wakil'],\n",
       "       ['Dara', 'Joe', 'Dona'],\n",
       "       ['Feranmi', 'Abubakar', 'Sulaimon'],\n",
       "       ['Franklin', 'Bola', 'Peter']], dtype='<U8')"
      ]
     },
     "execution_count": 205,
     "metadata": {},
     "output_type": "execute_result"
    }
   ],
   "source": [
    "joined_arrys = np.concatenate((new_arry1, new_arry2))\n",
    "joined_arrys"
   ]
  },
  {
   "cell_type": "code",
   "execution_count": 207,
   "id": "121b2d64",
   "metadata": {},
   "outputs": [
    {
     "data": {
      "text/plain": [
       "(6, 3)"
      ]
     },
     "execution_count": 207,
     "metadata": {},
     "output_type": "execute_result"
    }
   ],
   "source": [
    "joined_arrys.shape"
   ]
  },
  {
   "cell_type": "code",
   "execution_count": 208,
   "id": "2b04bf30",
   "metadata": {},
   "outputs": [
    {
     "data": {
      "text/plain": [
       "2"
      ]
     },
     "execution_count": 208,
     "metadata": {},
     "output_type": "execute_result"
    }
   ],
   "source": [
    "joined_arrys.ndim"
   ]
  },
  {
   "cell_type": "code",
   "execution_count": 215,
   "id": "6a26ecd7",
   "metadata": {},
   "outputs": [
    {
     "data": {
      "text/plain": [
       "(2, 2)"
      ]
     },
     "execution_count": 215,
     "metadata": {},
     "output_type": "execute_result"
    }
   ],
   "source": [
    "# the syntax for the concatenate is np.concatenate((arr1, arr2), axis=n) where n = the dimensions\n",
    "first_arry = np.array([[1,3], [5,7]])\n",
    "sec_arry = np.array([[2,4]]) # the extra sq brac makes it a 2d\n",
    "\n",
    "first_arry.shape"
   ]
  },
  {
   "cell_type": "code",
   "execution_count": 216,
   "id": "5faec061",
   "metadata": {},
   "outputs": [
    {
     "data": {
      "text/plain": [
       "(1, 2)"
      ]
     },
     "execution_count": 216,
     "metadata": {},
     "output_type": "execute_result"
    }
   ],
   "source": [
    "sec_arry.shape"
   ]
  },
  {
   "cell_type": "code",
   "execution_count": 217,
   "id": "4bdea38d",
   "metadata": {},
   "outputs": [
    {
     "name": "stdout",
     "output_type": "stream",
     "text": [
      "first array dim => 2\n",
      "second array dim => 2\n"
     ]
    }
   ],
   "source": [
    "print(f'first array dim => {first_arry.ndim}')\n",
    "print(f'second array dim => {sec_arry.ndim}')"
   ]
  },
  {
   "cell_type": "code",
   "execution_count": 218,
   "id": "231790ca",
   "metadata": {},
   "outputs": [
    {
     "data": {
      "text/plain": [
       "array([[1, 3],\n",
       "       [5, 7],\n",
       "       [2, 4]])"
      ]
     },
     "execution_count": 218,
     "metadata": {},
     "output_type": "execute_result"
    }
   ],
   "source": [
    "combined_arrys = np.concatenate((first_arry, sec_arry))\n",
    "combined_arrys"
   ]
  },
  {
   "cell_type": "code",
   "execution_count": 220,
   "id": "97ecf531",
   "metadata": {},
   "outputs": [
    {
     "data": {
      "text/plain": [
       "array([[1, 3],\n",
       "       [5, 7],\n",
       "       [2, 4]])"
      ]
     },
     "execution_count": 220,
     "metadata": {},
     "output_type": "execute_result"
    }
   ],
   "source": [
    "combined_arrys_axis_0 = np.concatenate((first_arry, sec_arry), axis=0)\n",
    "combined_arrys_axis_0 # the axis are zero by default"
   ]
  },
  {
   "cell_type": "code",
   "execution_count": 221,
   "id": "9702516e",
   "metadata": {},
   "outputs": [
    {
     "ename": "ValueError",
     "evalue": "all the input array dimensions for the concatenation axis must match exactly, but along dimension 0, the array at index 0 has size 2 and the array at index 1 has size 1",
     "output_type": "error",
     "traceback": [
      "\u001b[0;31m---------------------------------------------------------------------------\u001b[0m",
      "\u001b[0;31mValueError\u001b[0m                                Traceback (most recent call last)",
      "Cell \u001b[0;32mIn[221], line 1\u001b[0m\n\u001b[0;32m----> 1\u001b[0m combined_arrys_axis_1 \u001b[38;5;241m=\u001b[39m \u001b[43mnp\u001b[49m\u001b[38;5;241;43m.\u001b[39;49m\u001b[43mconcatenate\u001b[49m\u001b[43m(\u001b[49m\u001b[43m(\u001b[49m\u001b[43mfirst_arry\u001b[49m\u001b[43m,\u001b[49m\u001b[43m \u001b[49m\u001b[43msec_arry\u001b[49m\u001b[43m)\u001b[49m\u001b[43m,\u001b[49m\u001b[43m \u001b[49m\u001b[43maxis\u001b[49m\u001b[38;5;241;43m=\u001b[39;49m\u001b[38;5;241;43m1\u001b[39;49m\u001b[43m)\u001b[49m\n\u001b[1;32m      2\u001b[0m combined_arrys_axis_1\n",
      "File \u001b[0;32m<__array_function__ internals>:180\u001b[0m, in \u001b[0;36mconcatenate\u001b[0;34m(*args, **kwargs)\u001b[0m\n",
      "\u001b[0;31mValueError\u001b[0m: all the input array dimensions for the concatenation axis must match exactly, but along dimension 0, the array at index 0 has size 2 and the array at index 1 has size 1"
     ]
    }
   ],
   "source": [
    "combined_arrys_axis_1 = np.concatenate((first_arry, sec_arry), axis=1)\n",
    "combined_arrys_axis_1"
   ]
  },
  {
   "cell_type": "code",
   "execution_count": 223,
   "id": "83c449ac",
   "metadata": {},
   "outputs": [
    {
     "name": "stdout",
     "output_type": "stream",
     "text": [
      "Getting the arrays...\n",
      "\n",
      "X ARRAYS\n",
      "[[[0 1]\n",
      "  [2 3]]\n",
      "\n",
      " [[4 5]\n",
      "  [6 7]]]\n",
      "\n",
      "Y ARRAYS\n",
      "[[[10 11]\n",
      "  [12 13]]\n",
      "\n",
      " [[14 15]\n",
      "  [16 17]]]\n"
     ]
    }
   ],
   "source": [
    "# Ex2 on Concatenation\n",
    "xarry = np.array([\n",
    "    [\n",
    "        [0,1],\n",
    "        [2,3]\n",
    "    ],\n",
    "    [\n",
    "        [4,5],\n",
    "        [6,7]\n",
    "    ]\n",
    "])\n",
    "\n",
    "\n",
    "yarry = np.array([\n",
    "    [\n",
    "        [10,11],\n",
    "        [12,13]\n",
    "    ],\n",
    "    [\n",
    "        [14,15],\n",
    "        [16,17]\n",
    "    ]\n",
    "])\n",
    "\n",
    "print('Getting the arrays...\\n')\n",
    "print('X ARRAYS')\n",
    "print(xarry)\n",
    "print('\\nY ARRAYS')\n",
    "print(yarry)"
   ]
  },
  {
   "cell_type": "code",
   "execution_count": 224,
   "id": "95cbdafc",
   "metadata": {},
   "outputs": [
    {
     "name": "stdout",
     "output_type": "stream",
     "text": [
      "x array dim => 3\n",
      "y array dim => 3\n"
     ]
    }
   ],
   "source": [
    "print(f'x array dim => {xarry.ndim}')\n",
    "print(f'y array dim => {yarry.ndim}')"
   ]
  },
  {
   "cell_type": "code",
   "execution_count": 225,
   "id": "8aedc81c",
   "metadata": {},
   "outputs": [
    {
     "name": "stdout",
     "output_type": "stream",
     "text": [
      "x array shapes => (2, 2, 2)\n",
      "y array shapes => (2, 2, 2)\n"
     ]
    }
   ],
   "source": [
    "print(f'x array shapes => {xarry.shape}')\n",
    "print(f'y array shapes => {yarry.shape}')"
   ]
  },
  {
   "cell_type": "code",
   "execution_count": 226,
   "id": "c7990524",
   "metadata": {},
   "outputs": [
    {
     "data": {
      "text/plain": [
       "array([[[ 0,  1],\n",
       "        [ 2,  3]],\n",
       "\n",
       "       [[ 4,  5],\n",
       "        [ 6,  7]],\n",
       "\n",
       "       [[10, 11],\n",
       "        [12, 13]],\n",
       "\n",
       "       [[14, 15],\n",
       "        [16, 17]]])"
      ]
     },
     "execution_count": 226,
     "metadata": {},
     "output_type": "execute_result"
    }
   ],
   "source": [
    "# Start with axis 0\n",
    "axes0arrys = np.concatenate((xarry, yarry), 0) # putting the arg 0 == saying axis = 0\n",
    "axes0arrys"
   ]
  },
  {
   "cell_type": "code",
   "execution_count": 227,
   "id": "9a25f3a0",
   "metadata": {},
   "outputs": [
    {
     "data": {
      "text/plain": [
       "array([[[ 0,  1],\n",
       "        [ 2,  3],\n",
       "        [10, 11],\n",
       "        [12, 13]],\n",
       "\n",
       "       [[ 4,  5],\n",
       "        [ 6,  7],\n",
       "        [14, 15],\n",
       "        [16, 17]]])"
      ]
     },
     "execution_count": 227,
     "metadata": {},
     "output_type": "execute_result"
    }
   ],
   "source": [
    "# Try for axis = 1\n",
    "axes1arrys = np.concatenate((xarry, yarry), 1) # putting the arg 1 == saying axis = 1\n",
    "axes1arrys"
   ]
  },
  {
   "cell_type": "code",
   "execution_count": 230,
   "id": "f80fa412",
   "metadata": {},
   "outputs": [],
   "source": [
    "# ([x0,x1],[y0,y1]) => axis = 0\n",
    "# ([x0,y0], [x1,y1]) => axis = 1"
   ]
  },
  {
   "cell_type": "code",
   "execution_count": 228,
   "id": "90b64273",
   "metadata": {},
   "outputs": [
    {
     "name": "stdout",
     "output_type": "stream",
     "text": [
      "axis 0 array shapes => (4, 2, 2)\n",
      "axis 1 array shapes => (2, 4, 2)\n"
     ]
    }
   ],
   "source": [
    "print(f'axis 0 array shapes => {axes0arrys.shape}')\n",
    "print(f'axis 1 array shapes => {axes1arrys.shape}')"
   ]
  },
  {
   "cell_type": "code",
   "execution_count": 229,
   "id": "243a534d",
   "metadata": {},
   "outputs": [
    {
     "name": "stdout",
     "output_type": "stream",
     "text": [
      "axis 0 array dim => 3\n",
      "axis 1 array dim => 3\n"
     ]
    }
   ],
   "source": [
    "print(f'axis 0 array dim => {axes0arrys.ndim}')\n",
    "print(f'axis 1 array dim => {axes1arrys.ndim}')"
   ]
  },
  {
   "cell_type": "code",
   "execution_count": 231,
   "id": "92dcb922",
   "metadata": {},
   "outputs": [
    {
     "data": {
      "text/plain": [
       "array([[[ 0,  1, 10, 11],\n",
       "        [ 2,  3, 12, 13]],\n",
       "\n",
       "       [[ 4,  5, 14, 15],\n",
       "        [ 6,  7, 16, 17]]])"
      ]
     },
     "execution_count": 231,
     "metadata": {},
     "output_type": "execute_result"
    }
   ],
   "source": [
    "# Try fo axis = 2\n",
    "axes2arrys = np.concatenate((xarry, yarry), axis=2) # putting the arg 2 == saying axis = 2\n",
    "axes2arrys"
   ]
  },
  {
   "cell_type": "code",
   "execution_count": 232,
   "id": "8883749a",
   "metadata": {},
   "outputs": [
    {
     "data": {
      "text/plain": [
       "array([[[ 0,  1],\n",
       "        [ 2,  3]],\n",
       "\n",
       "       [[ 4,  5],\n",
       "        [ 6,  7]],\n",
       "\n",
       "       [[10, 11],\n",
       "        [12, 13]],\n",
       "\n",
       "       [[14, 15],\n",
       "        [16, 17]]])"
      ]
     },
     "execution_count": 232,
     "metadata": {},
     "output_type": "execute_result"
    }
   ],
   "source": [
    "axes0arrys # to compare with the default concatenation"
   ]
  },
  {
   "cell_type": "code",
   "execution_count": 233,
   "id": "c9349509",
   "metadata": {},
   "outputs": [
    {
     "data": {
      "text/plain": [
       "(2, 2, 4)"
      ]
     },
     "execution_count": 233,
     "metadata": {},
     "output_type": "execute_result"
    }
   ],
   "source": [
    "axes2arrys.shape"
   ]
  },
  {
   "cell_type": "code",
   "execution_count": 234,
   "id": "ce0f3af7",
   "metadata": {},
   "outputs": [
    {
     "data": {
      "text/plain": [
       "array([ 0,  1,  2,  3,  4,  5,  6,  7, 10, 11, 12, 13, 14, 15, 16, 17])"
      ]
     },
     "execution_count": 234,
     "metadata": {},
     "output_type": "execute_result"
    }
   ],
   "source": [
    "# Try fo axis = None\n",
    "axes2arrys = np.concatenate((xarry, yarry), axis= None) # putting the arg None == saying axis = None\n",
    "axes2arrys # this flattens the array."
   ]
  },
  {
   "cell_type": "code",
   "execution_count": null,
   "id": "e69190f0",
   "metadata": {},
   "outputs": [],
   "source": []
  }
 ],
 "metadata": {
  "kernelspec": {
   "display_name": "Python 3 (ipykernel)",
   "language": "python",
   "name": "python3"
  },
  "language_info": {
   "codemirror_mode": {
    "name": "ipython",
    "version": 3
   },
   "file_extension": ".py",
   "mimetype": "text/x-python",
   "name": "python",
   "nbconvert_exporter": "python",
   "pygments_lexer": "ipython3",
   "version": "3.11.5"
  }
 },
 "nbformat": 4,
 "nbformat_minor": 5
}
