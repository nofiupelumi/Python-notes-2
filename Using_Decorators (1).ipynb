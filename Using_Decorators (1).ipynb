{
 "cells": [
  {
   "cell_type": "code",
   "execution_count": 1,
   "metadata": {
    "id": "0kYJc1q6WZE0"
   },
   "outputs": [],
   "source": [
    "# Decorators are finctions that act upon another function to modify the behaviour(output) of theat function\n",
    "\n",
    "def greet():\n",
    "  print('Hello guys')\n",
    "\n"
   ]
  },
  {
   "cell_type": "code",
   "execution_count": 2,
   "metadata": {
    "colab": {
     "base_uri": "https://localhost:8080/"
    },
    "id": "In8VjtWzXDQe",
    "outputId": "2d419c23-bb8c-46d9-8dbc-5a142f988828"
   },
   "outputs": [
    {
     "name": "stdout",
     "output_type": "stream",
     "text": [
      "Hello guys\n"
     ]
    }
   ],
   "source": [
    "greet()"
   ]
  },
  {
   "cell_type": "code",
   "execution_count": 40,
   "metadata": {
    "id": "NO8WKz4-XO0v"
   },
   "outputs": [],
   "source": [
    "def first_decorator(f):\n",
    "  #print(\"Sweet Jesus!\")\n",
    "  def inner_func(): #inner_func is a wrapper function\n",
    "    print('Finish Line')\n",
    "    f()\n",
    "    print(\"I am great\")\n",
    "  return inner_func"
   ]
  },
  {
   "cell_type": "code",
   "execution_count": 41,
   "metadata": {
    "colab": {
     "base_uri": "https://localhost:8080/"
    },
    "id": "NOvyQ7UfXNec",
    "outputId": "efabc76d-1745-405e-8f88-6100d1a8832d"
   },
   "outputs": [
    {
     "name": "stdout",
     "output_type": "stream",
     "text": [
      "Sweet Jesus!\n",
      "Finish Line\n",
      "Hello guys\n",
      "I am great\n"
     ]
    }
   ],
   "source": [
    "x = first_decorator(greet)\n",
    "x()"
   ]
  },
  {
   "cell_type": "code",
   "execution_count": 11,
   "metadata": {
    "colab": {
     "base_uri": "https://localhost:8080/"
    },
    "id": "1gnX5V80Ziij",
    "outputId": "439c55d1-ee6a-432e-80ae-0e855cd5e1c4"
   },
   "outputs": [
    {
     "name": "stdout",
     "output_type": "stream",
     "text": [
      "Hello guys\n"
     ]
    }
   ],
   "source": [
    "greet()"
   ]
  },
  {
   "cell_type": "code",
   "execution_count": 3,
   "metadata": {
    "id": "kgyIpAdvaaX1",
    "tags": []
   },
   "outputs": [],
   "source": [
    "import time\n",
    "import math\n",
    "\n",
    "#Let's a create a decorator that would find the time of execution of any function\n",
    "\n",
    "def calc_time(f):\n",
    "  def wrapper_func(*args, **kwags):\n",
    "    start_time = time.time()\n",
    "    f(*args, **kwags)\n",
    "    end_time = time.time()\n",
    "    print(f\"Total execution time for {f.__name__} : {end_time - start_time} \")\n",
    "  return wrapper_func"
   ]
  },
  {
   "cell_type": "code",
   "execution_count": 10,
   "metadata": {
    "colab": {
     "base_uri": "https://localhost:8080/",
     "height": 401
    },
    "id": "ttPSWaf4aiBJ",
    "outputId": "adecba36-2e16-426b-d661-56c838d84a63",
    "tags": []
   },
   "outputs": [
    {
     "name": "stdout",
     "output_type": "stream",
     "text": [
      "Total execution time for fact_1 : 0.0 \n"
     ]
    },
    {
     "ename": "TypeError",
     "evalue": "unsupported operand type(s) for *: 'int' and 'NoneType'",
     "output_type": "error",
     "traceback": [
      "\u001b[1;31m---------------------------------------------------------------------------\u001b[0m",
      "\u001b[1;31mTypeError\u001b[0m                                 Traceback (most recent call last)",
      "Cell \u001b[1;32mIn[10], line 8\u001b[0m\n\u001b[0;32m      5\u001b[0m     \u001b[38;5;28;01melse\u001b[39;00m:\n\u001b[0;32m      6\u001b[0m         \u001b[38;5;28;01mreturn\u001b[39;00m n \u001b[38;5;241m*\u001b[39m fact_1(n\u001b[38;5;241m-\u001b[39m\u001b[38;5;241m1\u001b[39m)\n\u001b[1;32m----> 8\u001b[0m b\u001b[38;5;241m=\u001b[39mfact_1(\u001b[38;5;241m50\u001b[39m)\n\u001b[0;32m      9\u001b[0m b\n",
      "Cell \u001b[1;32mIn[3], line 9\u001b[0m, in \u001b[0;36mcalc_time.<locals>.wrapper_func\u001b[1;34m(*args, **kwags)\u001b[0m\n\u001b[0;32m      7\u001b[0m \u001b[38;5;28;01mdef\u001b[39;00m \u001b[38;5;21mwrapper_func\u001b[39m(\u001b[38;5;241m*\u001b[39margs, \u001b[38;5;241m*\u001b[39m\u001b[38;5;241m*\u001b[39mkwags):\n\u001b[0;32m      8\u001b[0m   start_time \u001b[38;5;241m=\u001b[39m time\u001b[38;5;241m.\u001b[39mtime()\n\u001b[1;32m----> 9\u001b[0m   f(\u001b[38;5;241m*\u001b[39margs, \u001b[38;5;241m*\u001b[39m\u001b[38;5;241m*\u001b[39mkwags)\n\u001b[0;32m     10\u001b[0m   end_time \u001b[38;5;241m=\u001b[39m time\u001b[38;5;241m.\u001b[39mtime()\n\u001b[0;32m     11\u001b[0m   \u001b[38;5;28mprint\u001b[39m(\u001b[38;5;124mf\u001b[39m\u001b[38;5;124m\"\u001b[39m\u001b[38;5;124mTotal execution time for \u001b[39m\u001b[38;5;132;01m{\u001b[39;00mf\u001b[38;5;241m.\u001b[39m\u001b[38;5;18m__name__\u001b[39m\u001b[38;5;132;01m}\u001b[39;00m\u001b[38;5;124m : \u001b[39m\u001b[38;5;132;01m{\u001b[39;00mend_time\u001b[38;5;250m \u001b[39m\u001b[38;5;241m-\u001b[39m\u001b[38;5;250m \u001b[39mstart_time\u001b[38;5;132;01m}\u001b[39;00m\u001b[38;5;124m \u001b[39m\u001b[38;5;124m\"\u001b[39m)\n",
      "Cell \u001b[1;32mIn[10], line 6\u001b[0m, in \u001b[0;36mfact_1\u001b[1;34m(n)\u001b[0m\n\u001b[0;32m      4\u001b[0m     \u001b[38;5;28;01mreturn\u001b[39;00m \u001b[38;5;241m1\u001b[39m\n\u001b[0;32m      5\u001b[0m \u001b[38;5;28;01melse\u001b[39;00m:\n\u001b[1;32m----> 6\u001b[0m     \u001b[38;5;28;01mreturn\u001b[39;00m n \u001b[38;5;241m*\u001b[39m fact_1(n\u001b[38;5;241m-\u001b[39m\u001b[38;5;241m1\u001b[39m)\n",
      "Cell \u001b[1;32mIn[3], line 9\u001b[0m, in \u001b[0;36mcalc_time.<locals>.wrapper_func\u001b[1;34m(*args, **kwags)\u001b[0m\n\u001b[0;32m      7\u001b[0m \u001b[38;5;28;01mdef\u001b[39;00m \u001b[38;5;21mwrapper_func\u001b[39m(\u001b[38;5;241m*\u001b[39margs, \u001b[38;5;241m*\u001b[39m\u001b[38;5;241m*\u001b[39mkwags):\n\u001b[0;32m      8\u001b[0m   start_time \u001b[38;5;241m=\u001b[39m time\u001b[38;5;241m.\u001b[39mtime()\n\u001b[1;32m----> 9\u001b[0m   f(\u001b[38;5;241m*\u001b[39margs, \u001b[38;5;241m*\u001b[39m\u001b[38;5;241m*\u001b[39mkwags)\n\u001b[0;32m     10\u001b[0m   end_time \u001b[38;5;241m=\u001b[39m time\u001b[38;5;241m.\u001b[39mtime()\n\u001b[0;32m     11\u001b[0m   \u001b[38;5;28mprint\u001b[39m(\u001b[38;5;124mf\u001b[39m\u001b[38;5;124m\"\u001b[39m\u001b[38;5;124mTotal execution time for \u001b[39m\u001b[38;5;132;01m{\u001b[39;00mf\u001b[38;5;241m.\u001b[39m\u001b[38;5;18m__name__\u001b[39m\u001b[38;5;132;01m}\u001b[39;00m\u001b[38;5;124m : \u001b[39m\u001b[38;5;132;01m{\u001b[39;00mend_time\u001b[38;5;250m \u001b[39m\u001b[38;5;241m-\u001b[39m\u001b[38;5;250m \u001b[39mstart_time\u001b[38;5;132;01m}\u001b[39;00m\u001b[38;5;124m \u001b[39m\u001b[38;5;124m\"\u001b[39m)\n",
      "Cell \u001b[1;32mIn[10], line 6\u001b[0m, in \u001b[0;36mfact_1\u001b[1;34m(n)\u001b[0m\n\u001b[0;32m      4\u001b[0m     \u001b[38;5;28;01mreturn\u001b[39;00m \u001b[38;5;241m1\u001b[39m\n\u001b[0;32m      5\u001b[0m \u001b[38;5;28;01melse\u001b[39;00m:\n\u001b[1;32m----> 6\u001b[0m     \u001b[38;5;28;01mreturn\u001b[39;00m n \u001b[38;5;241m*\u001b[39m fact_1(n\u001b[38;5;241m-\u001b[39m\u001b[38;5;241m1\u001b[39m)\n",
      "    \u001b[1;31m[... skipping similar frames: fact_1 at line 6 (46 times), calc_time.<locals>.wrapper_func at line 9 (46 times)]\u001b[0m\n",
      "Cell \u001b[1;32mIn[3], line 9\u001b[0m, in \u001b[0;36mcalc_time.<locals>.wrapper_func\u001b[1;34m(*args, **kwags)\u001b[0m\n\u001b[0;32m      7\u001b[0m \u001b[38;5;28;01mdef\u001b[39;00m \u001b[38;5;21mwrapper_func\u001b[39m(\u001b[38;5;241m*\u001b[39margs, \u001b[38;5;241m*\u001b[39m\u001b[38;5;241m*\u001b[39mkwags):\n\u001b[0;32m      8\u001b[0m   start_time \u001b[38;5;241m=\u001b[39m time\u001b[38;5;241m.\u001b[39mtime()\n\u001b[1;32m----> 9\u001b[0m   f(\u001b[38;5;241m*\u001b[39margs, \u001b[38;5;241m*\u001b[39m\u001b[38;5;241m*\u001b[39mkwags)\n\u001b[0;32m     10\u001b[0m   end_time \u001b[38;5;241m=\u001b[39m time\u001b[38;5;241m.\u001b[39mtime()\n\u001b[0;32m     11\u001b[0m   \u001b[38;5;28mprint\u001b[39m(\u001b[38;5;124mf\u001b[39m\u001b[38;5;124m\"\u001b[39m\u001b[38;5;124mTotal execution time for \u001b[39m\u001b[38;5;132;01m{\u001b[39;00mf\u001b[38;5;241m.\u001b[39m\u001b[38;5;18m__name__\u001b[39m\u001b[38;5;132;01m}\u001b[39;00m\u001b[38;5;124m : \u001b[39m\u001b[38;5;132;01m{\u001b[39;00mend_time\u001b[38;5;250m \u001b[39m\u001b[38;5;241m-\u001b[39m\u001b[38;5;250m \u001b[39mstart_time\u001b[38;5;132;01m}\u001b[39;00m\u001b[38;5;124m \u001b[39m\u001b[38;5;124m\"\u001b[39m)\n",
      "Cell \u001b[1;32mIn[10], line 6\u001b[0m, in \u001b[0;36mfact_1\u001b[1;34m(n)\u001b[0m\n\u001b[0;32m      4\u001b[0m     \u001b[38;5;28;01mreturn\u001b[39;00m \u001b[38;5;241m1\u001b[39m\n\u001b[0;32m      5\u001b[0m \u001b[38;5;28;01melse\u001b[39;00m:\n\u001b[1;32m----> 6\u001b[0m     \u001b[38;5;28;01mreturn\u001b[39;00m n \u001b[38;5;241m*\u001b[39m fact_1(n\u001b[38;5;241m-\u001b[39m\u001b[38;5;241m1\u001b[39m)\n",
      "\u001b[1;31mTypeError\u001b[0m: unsupported operand type(s) for *: 'int' and 'NoneType'"
     ]
    }
   ],
   "source": [
    "@calc_time\n",
    "def fact_1(n):\n",
    "    if n in [0,1]:\n",
    "        return 1\n",
    "    else:\n",
    "        return n * fact_1(n-1)\n",
    "\n",
    "b=fact_1(50)\n",
    "b\n"
   ]
  },
  {
   "cell_type": "code",
   "execution_count": 22,
   "metadata": {
    "colab": {
     "base_uri": "https://localhost:8080/",
     "height": 339
    },
    "id": "2RBX0C_ZfWV0",
    "outputId": "c08a83d7-065d-4bd3-d58e-b96c86b353f6"
   },
   "outputs": [
    {
     "ename": "TypeError",
     "evalue": "ignored",
     "output_type": "error",
     "traceback": [
      "\u001b[0;31m---------------------------------------------------------------------------\u001b[0m",
      "\u001b[0;31mTypeError\u001b[0m                                 Traceback (most recent call last)",
      "\u001b[0;32m<ipython-input-22-7655ec5646eb>\u001b[0m in \u001b[0;36m<cell line: 2>\u001b[0;34m()\u001b[0m\n\u001b[1;32m      1\u001b[0m \u001b[0mb\u001b[0m \u001b[0;34m=\u001b[0m \u001b[0mcalc_time\u001b[0m\u001b[0;34m(\u001b[0m\u001b[0mfact_1\u001b[0m\u001b[0;34m(\u001b[0m\u001b[0;36m5\u001b[0m\u001b[0;34m)\u001b[0m\u001b[0;34m)\u001b[0m\u001b[0;34m\u001b[0m\u001b[0;34m\u001b[0m\u001b[0m\n\u001b[0;32m----> 2\u001b[0;31m \u001b[0mb\u001b[0m\u001b[0;34m(\u001b[0m\u001b[0;36m5\u001b[0m\u001b[0;34m)\u001b[0m\u001b[0;34m\u001b[0m\u001b[0;34m\u001b[0m\u001b[0m\n\u001b[0m",
      "\u001b[0;32m<ipython-input-12-e5bdf32a9064>\u001b[0m in \u001b[0;36mwrapper_func\u001b[0;34m(*args, **kwags)\u001b[0m\n\u001b[1;32m      7\u001b[0m   \u001b[0;32mdef\u001b[0m \u001b[0mwrapper_func\u001b[0m\u001b[0;34m(\u001b[0m\u001b[0;34m*\u001b[0m\u001b[0margs\u001b[0m\u001b[0;34m,\u001b[0m \u001b[0;34m**\u001b[0m\u001b[0mkwags\u001b[0m\u001b[0;34m)\u001b[0m\u001b[0;34m:\u001b[0m\u001b[0;34m\u001b[0m\u001b[0;34m\u001b[0m\u001b[0m\n\u001b[1;32m      8\u001b[0m     \u001b[0mstart_time\u001b[0m \u001b[0;34m=\u001b[0m \u001b[0mtime\u001b[0m\u001b[0;34m.\u001b[0m\u001b[0mtime\u001b[0m\u001b[0;34m(\u001b[0m\u001b[0;34m)\u001b[0m\u001b[0;34m\u001b[0m\u001b[0;34m\u001b[0m\u001b[0m\n\u001b[0;32m----> 9\u001b[0;31m     \u001b[0mf\u001b[0m\u001b[0;34m(\u001b[0m\u001b[0;34m)\u001b[0m\u001b[0;34m\u001b[0m\u001b[0;34m\u001b[0m\u001b[0m\n\u001b[0m\u001b[1;32m     10\u001b[0m     \u001b[0mend_time\u001b[0m \u001b[0;34m=\u001b[0m \u001b[0mtime\u001b[0m\u001b[0;34m.\u001b[0m\u001b[0mtime\u001b[0m\u001b[0;34m(\u001b[0m\u001b[0;34m)\u001b[0m\u001b[0;34m\u001b[0m\u001b[0;34m\u001b[0m\u001b[0m\n\u001b[1;32m     11\u001b[0m     \u001b[0mprint\u001b[0m\u001b[0;34m(\u001b[0m\u001b[0;34mf\"Total execution time for {f.__name__} : {end_time - start_time} \"\u001b[0m\u001b[0;34m)\u001b[0m\u001b[0;34m\u001b[0m\u001b[0;34m\u001b[0m\u001b[0m\n",
      "\u001b[0;31mTypeError\u001b[0m: 'int' object is not callable"
     ]
    }
   ],
   "source": [
    "b = calc_time(fact_1(5))\n",
    "b(5)"
   ]
  },
  {
   "cell_type": "code",
   "execution_count": 29,
   "metadata": {
    "colab": {
     "base_uri": "https://localhost:8080/"
    },
    "id": "51Aq-FRQgXkF",
    "outputId": "ffad87e8-24d0-45df-c5bd-47199c4a4bef"
   },
   "outputs": [
    {
     "name": "stdout",
     "output_type": "stream",
     "text": [
      "120\n",
      "Total execution time for fact_2 : 0.0009455680847167969 \n"
     ]
    }
   ],
   "source": [
    "@calc_time\n",
    "def fact_2(n):\n",
    "  print(math.factorial(n))\n",
    "\n",
    "fact_2(5)\n",
    "\n"
   ]
  },
  {
   "cell_type": "code",
   "execution_count": 30,
   "metadata": {
    "colab": {
     "base_uri": "https://localhost:8080/"
    },
    "id": "mQRGn_tei8u9",
    "outputId": "94240748-3b0f-4fad-a2f8-d302ca74e6d4"
   },
   "outputs": [
    {
     "name": "stdout",
     "output_type": "stream",
     "text": [
      "30414093201713378043612608166064768844377641568960512000000000000\n",
      "Total execution time for fact_2 : 0.00043964385986328125 \n"
     ]
    }
   ],
   "source": [
    "fact_2(50)\n"
   ]
  },
  {
   "cell_type": "code",
   "execution_count": 31,
   "metadata": {
    "colab": {
     "base_uri": "https://localhost:8080/"
    },
    "id": "cejsqUZojXkL",
    "outputId": "a1430cbc-d16e-4fc6-8861-20c95710d777"
   },
   "outputs": [
    {
     "name": "stdout",
     "output_type": "stream",
     "text": [
      "30414093201713378043612608166064768844377641568960512000000000000\n"
     ]
    }
   ],
   "source": [
    "def fact_2(n):\n",
    "  print(math.factorial(n))\n",
    "\n",
    "fact_2()\n"
   ]
  },
  {
   "cell_type": "code",
   "execution_count": 36,
   "metadata": {
    "id": "xzWgDWfUlU5h"
   },
   "outputs": [],
   "source": [
    "def greet_dec(f):\n",
    "  def wrapper_func2(*args, **kwags):\n",
    "    print('Good Morning, Greeting before execution')\n",
    "    res = f(*args, **kwags)\n",
    "    print('Good Evening,Greeting after execution')\n",
    "    return res\n",
    "  return wrapper_func2\n",
    "\n"
   ]
  },
  {
   "cell_type": "code",
   "execution_count": 38,
   "metadata": {
    "id": "6rf8hf6HnNA6"
   },
   "outputs": [],
   "source": [
    "\n",
    "@greet_dec\n",
    "def sum_3nos(x, y, z):\n",
    "  print('Inside house....')\n",
    "  return x + y + z"
   ]
  },
  {
   "cell_type": "code",
   "execution_count": 39,
   "metadata": {
    "colab": {
     "base_uri": "https://localhost:8080/"
    },
    "id": "UeSaMTmFnuDw",
    "outputId": "0508ac46-5930-4b0a-adc0-55c4c930c74b"
   },
   "outputs": [
    {
     "name": "stdout",
     "output_type": "stream",
     "text": [
      "Good Morning, Greeting before execution\n",
      "Inside house....\n",
      "Good Evening,Greeting after execution\n"
     ]
    },
    {
     "data": {
      "text/plain": [
       "19"
      ]
     },
     "execution_count": 39,
     "metadata": {},
     "output_type": "execute_result"
    }
   ],
   "source": [
    "x,y,z = 3, 7, 9\n",
    "\n",
    "sum_3nos(x,y,z)\n"
   ]
  },
  {
   "cell_type": "code",
   "execution_count": 44,
   "metadata": {
    "id": "a7ls8Lx5GorR"
   },
   "outputs": [],
   "source": [
    "#Working With Nested Decorators\n",
    "\n",
    "def italics(f):\n",
    "  def wrapper_func():\n",
    "    return \"<i>\" + f() + \"</i>\"\n",
    "  return wrapper_func\n",
    "\n",
    "def strong(f):\n",
    "  def wrapper_func():\n",
    "    return \"<strong>\" + f() + \"</strong>\"\n",
    "  return wrapper_func"
   ]
  },
  {
   "cell_type": "code",
   "execution_count": 46,
   "metadata": {
    "colab": {
     "base_uri": "https://localhost:8080/",
     "height": 37
    },
    "id": "cnsY4SwZI2Tg",
    "outputId": "163b0903-7e38-4b2f-baab-760bd7f4d9b0"
   },
   "outputs": [
    {
     "data": {
      "application/vnd.google.colaboratory.intrinsic+json": {
       "type": "string"
      },
      "text/plain": [
       "'<i><strong>defg</strong></i>'"
      ]
     },
     "execution_count": 46,
     "metadata": {},
     "output_type": "execute_result"
    }
   ],
   "source": [
    "# NOTE: The python interpreter does not read nested decorators from top to botoom but reads them from bottom to top\n",
    "@italics\n",
    "@strong\n",
    "def abc():\n",
    "  return \"defg\"\n",
    "\n",
    "abc()"
   ]
  },
  {
   "cell_type": "code",
   "execution_count": 48,
   "metadata": {
    "id": "OuLjy7VsK59j"
   },
   "outputs": [],
   "source": [
    "def sqr_dec(f):\n",
    "  def wrapper_func():\n",
    "    res = f()\n",
    "    return res * res\n",
    "  return wrapper_func\n",
    "\n",
    "def double_dec(f):\n",
    "  def wrapper_func():\n",
    "    res = f()\n",
    "    return res * 2\n",
    "  return wrapper_func"
   ]
  },
  {
   "cell_type": "code",
   "execution_count": 49,
   "metadata": {
    "id": "c0lUUhf4MQQp"
   },
   "outputs": [],
   "source": [
    "@sqr_dec\n",
    "@double_dec\n",
    "def first_no():\n",
    "  return 5\n",
    "\n",
    "@sqr_dec\n",
    "@double_dec\n",
    "def second_no():\n",
    "  return 28\n",
    "\n",
    "@sqr_dec\n",
    "@double_dec\n",
    "def third_no():\n",
    "  return 3\n"
   ]
  },
  {
   "cell_type": "code",
   "execution_count": 51,
   "metadata": {
    "colab": {
     "base_uri": "https://localhost:8080/"
    },
    "id": "pwcviyPmNHAW",
    "outputId": "5cad8e74-00ae-4d2e-b4e3-b8ab6d77fdbc"
   },
   "outputs": [
    {
     "data": {
      "text/plain": [
       "100"
      ]
     },
     "execution_count": 51,
     "metadata": {},
     "output_type": "execute_result"
    }
   ],
   "source": [
    "first_no()"
   ]
  },
  {
   "cell_type": "code",
   "execution_count": 52,
   "metadata": {
    "colab": {
     "base_uri": "https://localhost:8080/"
    },
    "id": "1J1CDG7HNO2X",
    "outputId": "9a4fef9e-e868-4067-82da-74e34302f7a0"
   },
   "outputs": [
    {
     "data": {
      "text/plain": [
       "3136"
      ]
     },
     "execution_count": 52,
     "metadata": {},
     "output_type": "execute_result"
    }
   ],
   "source": [
    "second_no()"
   ]
  },
  {
   "cell_type": "code",
   "execution_count": 53,
   "metadata": {
    "colab": {
     "base_uri": "https://localhost:8080/"
    },
    "id": "dE5tntuiNSeA",
    "outputId": "cdf33d00-0988-4e34-9631-209a258a04b7"
   },
   "outputs": [
    {
     "data": {
      "text/plain": [
       "36"
      ]
     },
     "execution_count": 53,
     "metadata": {},
     "output_type": "execute_result"
    }
   ],
   "source": [
    "third_no()"
   ]
  },
  {
   "cell_type": "code",
   "execution_count": null,
   "metadata": {
    "id": "2v1qXEoONqZU"
   },
   "outputs": [],
   "source": [
    "#Built-in decorators in python\n",
    "\n",
    "'''\n",
    "1. @staticmethod\n",
    "2. @abstractmethod\n",
    "3. @classmethod\n",
    "4. @typing\n",
    "5. @property\n",
    "6. @unique\n",
    "'''\n",
    "\n",
    "#Using the @abstractmethod decorator\n",
    "from abc import ABC.abstractmethod\n",
    "class"
   ]
  },
  {
   "cell_type": "code",
   "execution_count": null,
   "metadata": {},
   "outputs": [],
   "source": [
    "# @staticmethod:\n",
    "\n",
    "# Explanation: It is used to define a static method in a class. Static methods are bound to a class rather than an instance of the class.\n",
    "# Example:\n",
    "\n",
    "class MathOperations:\n",
    "    @staticmethod\n",
    "    def add(x, y):\n",
    "        return x + y\n",
    "\n",
    "result = MathOperations.add(3, 5)\n",
    "print(result)  # Output: 8\n"
   ]
  },
  {
   "cell_type": "code",
   "execution_count": null,
   "metadata": {},
   "outputs": [],
   "source": [
    "# @abstractmethod:\n",
    "\n",
    "# Explanation: It is used to declare abstract methods in abstract classes. Abstract methods must be implemented by concrete subclasses.\n",
    "# Example:\n",
    "\n",
    "from abc import ABC, abstractmethod\n",
    "\n",
    "class Shape(ABC):\n",
    "    @abstractmethod\n",
    "    def area(self):\n",
    "        pass\n",
    "\n",
    "class Circle(Shape):\n",
    "    def __init__(self, radius):\n",
    "        self.radius = radius\n",
    "\n",
    "    def area(self):\n",
    "        return 3.14 * self.radius * self.radius\n",
    "\n",
    "circle = Circle(5)\n",
    "print(circle.area())  # Output: 78.5\n"
   ]
  },
  {
   "cell_type": "code",
   "execution_count": 12,
   "metadata": {
    "tags": []
   },
   "outputs": [
    {
     "name": "stdout",
     "output_type": "stream",
     "text": [
      "10\n"
     ]
    }
   ],
   "source": [
    "# @classmethod:\n",
    "\n",
    "# Explanation: It is used to define a class method in a class. Class methods take the class itself as the first argument.\n",
    "# Example:\n",
    "class MyClass:\n",
    "    class_variable = 10\n",
    "\n",
    "    @classmethod\n",
    "    def get_class_variable(cls):\n",
    "        return cls.class_variable\n",
    "\n",
    "result = MyClass.get_class_variable()\n",
    "print(result)  # Output: 10\n",
    "\n"
   ]
  },
  {
   "cell_type": "code",
   "execution_count": null,
   "metadata": {},
   "outputs": [],
   "source": [
    "# @typing:\n",
    "\n",
    "# Explanation: There is no specific @typing decorator in Python. However, you can use type hints to specify the expected types of function parameters and return values.\n",
    "# Example:\n",
    "def add_numbers(x: int, y: int) -> int:\n",
    "    return x + y\n",
    "\n",
    "result = add_numbers(3, 5)\n",
    "print(result)  # Output: 8\n"
   ]
  },
  {
   "cell_type": "code",
   "execution_count": null,
   "metadata": {},
   "outputs": [],
   "source": [
    "# @property:\n",
    "\n",
    "# Explanation: It is used to create read-only properties in a class. It allows you to access a method like an attribute.\n",
    "# Example:\n",
    "class Circle:\n",
    "    def __init__(self, radius):\n",
    "        self._radius = radius\n",
    "\n",
    "    @property\n",
    "    def radius(self):\n",
    "        return self._radius\n",
    "\n",
    "circle = Circle(5)\n",
    "print(circle.radius)  # Output: 5\n",
    "\n"
   ]
  },
  {
   "cell_type": "code",
   "execution_count": 11,
   "metadata": {
    "tags": []
   },
   "outputs": [
    {
     "name": "stdout",
     "output_type": "stream",
     "text": [
      "Weekday.MONDAY\n"
     ]
    }
   ],
   "source": [
    "# @unique:\n",
    "\n",
    "# Explanation: There is no built-in @unique decorator in Python. You might be referring to using the enum module for creating enumerations with unique values.\n",
    "# Example:\n",
    "\n",
    "from enum import Enum, unique\n",
    "\n",
    "@unique\n",
    "class Weekday(Enum):\n",
    "    MONDAY = 1\n",
    "    TUESDAY = 2\n",
    "    WEDNESDAY = 3\n",
    "    THURSDAY = 4\n",
    "    FRIDAY = 5\n",
    "\n",
    "print(Weekday.MONDAY)  # Output: Weekday.MONDAY\n"
   ]
  },
  {
   "cell_type": "code",
   "execution_count": null,
   "metadata": {},
   "outputs": [],
   "source": [
    "# create an authorization decorator that checks if a user is authorized a  function\n",
    "# write a program about a retry decorator that retries a function for  a given duration, \n",
    "#if  it raises a specific exception"
   ]
  },
  {
   "cell_type": "code",
   "execution_count": 17,
   "metadata": {
    "tags": []
   },
   "outputs": [],
   "source": [
    "import random\n",
    "import time\n",
    "def retry_decorator(max_duration , trigger_exception):\n",
    "    def decorator(f):\n",
    "        def wrapper(*arg,**kwargs):\n",
    "            num_retry = 0\n",
    "            while num_retry < max_duration:\n",
    "                try:\n",
    "                    response= f(*arg,**kwargs)\n",
    "                    return response\n",
    "                except trigger_exception as e:\n",
    "                    print(f'retrying {f.__name__} as a result of {e}')\n",
    "                    num_retry += 1\n",
    "                    #introduce a random delay before retrying\n",
    "                    delay= random.uniform(0.1,1.0)\n",
    "                    time.sleep(delay)\n",
    "            raise Exception(f'maximum attempt{max_duration}reached for{f.__name__}') \n",
    "        return wrapper\n",
    "    return decorator\n",
    "   "
   ]
  },
  {
   "cell_type": "code",
   "execution_count": 18,
   "metadata": {
    "tags": []
   },
   "outputs": [
    {
     "name": "stdout",
     "output_type": "stream",
     "text": [
      "0.9507013573106645\n",
      "fail to connect to ATM server\n"
     ]
    }
   ],
   "source": [
    "@retry_decorator(3,ConnectionError)\n",
    "def atm_connection():\n",
    "    x=random.random () \n",
    "    print(x)\n",
    "    if x< 0.8: \n",
    "        raise ConnectionError(\"ATM connection fail\")\n",
    "    print(\"fail to connect to ATM server\")\n",
    "b=atm_connection()   \n",
    "b"
   ]
  },
  {
   "cell_type": "code",
   "execution_count": 16,
   "metadata": {
    "tags": []
   },
   "outputs": [
    {
     "name": "stdout",
     "output_type": "stream",
     "text": [
      "admin is performing a sensitive operation.\n",
      "Unauthorized! guest does not have permission to access this function.\n"
     ]
    }
   ],
   "source": [
    "import functools\n",
    "\n",
    "# Simulating user roles (you can replace this with your actual authorization logic)\n",
    "AUTHORIZED_USERS = {\"admin\", \"manager\"}\n",
    "\n",
    "def authorization_decorator(func):\n",
    "    @functools.wraps(func)\n",
    "    def wrapper(user, *args, **kwargs):\n",
    "        if user in AUTHORIZED_USERS:\n",
    "            # User is authorized, execute the function\n",
    "            result = func(user, *args, **kwargs)\n",
    "            return result\n",
    "        else:\n",
    "            # User is not authorized\n",
    "            print(f\"Unauthorized! {user} does not have permission to access this function.\")\n",
    "            # You can raise an exception, return a specific value, or handle it as needed\n",
    "            return None\n",
    "    \n",
    "    return wrapper\n",
    "\n",
    "# Example usage of the decorator\n",
    "@authorization_decorator\n",
    "def sensitive_operation(user):\n",
    "    print(f\"{user} is performing a sensitive operation.\")\n",
    "\n",
    "# Example: Authorized user\n",
    "authorized_user = \"admin\"\n",
    "sensitive_operation(authorized_user)\n",
    "\n",
    "# Example: Unauthorized user\n",
    "unauthorized_user = \"guest\"\n",
    "sensitive_operation(unauthorized_user)\n"
   ]
  },
  {
   "cell_type": "code",
   "execution_count": null,
   "metadata": {},
   "outputs": [],
   "source": []
  }
 ],
 "metadata": {
  "colab": {
   "provenance": []
  },
  "kernelspec": {
   "display_name": "Python 3 (ipykernel)",
   "language": "python",
   "name": "python3"
  },
  "language_info": {
   "codemirror_mode": {
    "name": "ipython",
    "version": 3
   },
   "file_extension": ".py",
   "mimetype": "text/x-python",
   "name": "python",
   "nbconvert_exporter": "python",
   "pygments_lexer": "ipython3",
   "version": "3.11.5"
  }
 },
 "nbformat": 4,
 "nbformat_minor": 4
}
