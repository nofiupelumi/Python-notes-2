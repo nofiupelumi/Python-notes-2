{
 "cells": [
  {
   "cell_type": "markdown",
   "id": "e6856b8d",
   "metadata": {},
   "source": [
    "### What is NumPy?\n",
    "\n",
    "- It's a library for numerical and scientific computations in Python.\n",
    "\n",
    "#### Characteristics of NumPy\n",
    "\n",
    "- It consists of ndarrays i.e. n-dimensional arrays\n",
    "- It can be used for some advanced mathematical operations such as statistical operation, algebra, matrices, etc\n",
    "- The elements in a np array should be a homogeneous data type\n",
    "- The sizes of an np array is static unlike lists data structure\n"
   ]
  },
  {
   "cell_type": "code",
   "execution_count": 86,
   "id": "c57a880a",
   "metadata": {},
   "outputs": [
    {
     "data": {
      "text/plain": [
       "array([ 1,  2,  3,  4,  5,  6,  7,  8,  9, 10])"
      ]
     },
     "execution_count": 86,
     "metadata": {},
     "output_type": "execute_result"
    }
   ],
   "source": [
    "import numpy as np\n",
    "\n",
    "# create an array obj\n",
    "array = np.array([1,2,3,4,5,6,7,8,9,10])\n",
    "array"
   ]
  },
  {
   "cell_type": "code",
   "execution_count": 87,
   "id": "33c16340",
   "metadata": {},
   "outputs": [
    {
     "data": {
      "text/plain": [
       "numpy.ndarray"
      ]
     },
     "execution_count": 87,
     "metadata": {},
     "output_type": "execute_result"
    }
   ],
   "source": [
    "# get the type of the array obj\n",
    "type(array)"
   ]
  },
  {
   "cell_type": "code",
   "execution_count": 4,
   "id": "90bde99e",
   "metadata": {},
   "outputs": [
    {
     "data": {
      "text/plain": [
       "1"
      ]
     },
     "execution_count": 4,
     "metadata": {},
     "output_type": "execute_result"
    }
   ],
   "source": [
    "# get the dimension of the array obj\n",
    "array.ndim"
   ]
  },
  {
   "cell_type": "code",
   "execution_count": 6,
   "id": "5539e45d",
   "metadata": {},
   "outputs": [
    {
     "data": {
      "text/plain": [
       "(10,)"
      ]
     },
     "execution_count": 6,
     "metadata": {},
     "output_type": "execute_result"
    }
   ],
   "source": [
    "# get the shape of the array obj\n",
    "array.shape"
   ]
  },
  {
   "cell_type": "code",
   "execution_count": 7,
   "id": "720146e3",
   "metadata": {},
   "outputs": [
    {
     "data": {
      "text/plain": [
       "10"
      ]
     },
     "execution_count": 7,
     "metadata": {},
     "output_type": "execute_result"
    }
   ],
   "source": [
    "# get the size of the array obj\n",
    "array.size"
   ]
  },
  {
   "cell_type": "code",
   "execution_count": 8,
   "id": "d5c3030c",
   "metadata": {},
   "outputs": [
    {
     "data": {
      "text/plain": [
       "dtype('int64')"
      ]
     },
     "execution_count": 8,
     "metadata": {},
     "output_type": "execute_result"
    }
   ],
   "source": [
    "# get the type of elements in the array obj\n",
    "array.dtype"
   ]
  },
  {
   "cell_type": "code",
   "execution_count": 10,
   "id": "902a26c8",
   "metadata": {},
   "outputs": [
    {
     "data": {
      "text/plain": [
       "array([[ 1,  2,  3,  4,  5],\n",
       "       [ 6,  7,  8,  9, 10]])"
      ]
     },
     "execution_count": 10,
     "metadata": {},
     "output_type": "execute_result"
    }
   ],
   "source": [
    "# create a 2d array \n",
    "array_2 = np.array([[1,2,3,4,5], [6,7,8,9,10]])\n",
    "array_2"
   ]
  },
  {
   "cell_type": "code",
   "execution_count": 11,
   "id": "54030813",
   "metadata": {},
   "outputs": [
    {
     "data": {
      "text/plain": [
       "numpy.ndarray"
      ]
     },
     "execution_count": 11,
     "metadata": {},
     "output_type": "execute_result"
    }
   ],
   "source": [
    "# get the type of the array obj\n",
    "type(array_2)"
   ]
  },
  {
   "cell_type": "code",
   "execution_count": 12,
   "id": "35e664cf",
   "metadata": {},
   "outputs": [
    {
     "data": {
      "text/plain": [
       "2"
      ]
     },
     "execution_count": 12,
     "metadata": {},
     "output_type": "execute_result"
    }
   ],
   "source": [
    "# get the dimension of the array obj\n",
    "array_2.ndim"
   ]
  },
  {
   "cell_type": "code",
   "execution_count": 13,
   "id": "8b5e272e",
   "metadata": {},
   "outputs": [
    {
     "data": {
      "text/plain": [
       "(2, 5)"
      ]
     },
     "execution_count": 13,
     "metadata": {},
     "output_type": "execute_result"
    }
   ],
   "source": [
    "# get the shape of the array obj\n",
    "array_2.shape"
   ]
  },
  {
   "cell_type": "code",
   "execution_count": 14,
   "id": "e35958d5",
   "metadata": {},
   "outputs": [
    {
     "data": {
      "text/plain": [
       "10"
      ]
     },
     "execution_count": 14,
     "metadata": {},
     "output_type": "execute_result"
    }
   ],
   "source": [
    "# get the size of the array obj\n",
    "array_2.size"
   ]
  },
  {
   "cell_type": "code",
   "execution_count": 29,
   "id": "3fe1fe33",
   "metadata": {},
   "outputs": [
    {
     "data": {
      "text/plain": [
       "array([[ 1.,  3.,  5.,  7.],\n",
       "       [ 9., 11., 13., 15.],\n",
       "       [17., 19., 21., 23.]])"
      ]
     },
     "execution_count": 29,
     "metadata": {},
     "output_type": "execute_result"
    }
   ],
   "source": [
    "array_3 = np.array([[1,3,5,7], [9,11,13,15], [17,19,21,23]], dtype='float')\n",
    "array_3"
   ]
  },
  {
   "cell_type": "code",
   "execution_count": 30,
   "id": "bea6e307",
   "metadata": {},
   "outputs": [
    {
     "data": {
      "text/plain": [
       "dtype('float64')"
      ]
     },
     "execution_count": 30,
     "metadata": {},
     "output_type": "execute_result"
    }
   ],
   "source": [
    "# get the type of elements in the array obj\n",
    "array_3.dtype"
   ]
  },
  {
   "cell_type": "code",
   "execution_count": 31,
   "id": "8b694629",
   "metadata": {},
   "outputs": [
    {
     "data": {
      "text/plain": [
       "(3, 4)"
      ]
     },
     "execution_count": 31,
     "metadata": {},
     "output_type": "execute_result"
    }
   ],
   "source": [
    "# get the shape of the array obj\n",
    "array_3.shape"
   ]
  },
  {
   "cell_type": "code",
   "execution_count": 32,
   "id": "c6a66d19",
   "metadata": {},
   "outputs": [
    {
     "data": {
      "text/plain": [
       "2"
      ]
     },
     "execution_count": 32,
     "metadata": {},
     "output_type": "execute_result"
    }
   ],
   "source": [
    "# get the dimension of the array obj\n",
    "array_3.ndim"
   ]
  },
  {
   "cell_type": "code",
   "execution_count": 3,
   "id": "5c0e2650",
   "metadata": {
    "tags": []
   },
   "outputs": [],
   "source": [
    "import numpy as np\n",
    "# Create a 3D array obj\n",
    "array_4 = np.array([\n",
    "    [\n",
    "        [1,2,3,1],\n",
    "        [4,5,6,2]\n",
    "    ],\n",
    "    [\n",
    "        [7,8,9,3],\n",
    "        [10,11,12,4]\n",
    "    ],\n",
    "    [\n",
    "        [17,18,19,5],\n",
    "        [110,111,112,6]\n",
    "    ],\n",
    "    [\n",
    "        [170,180,190,50],\n",
    "        [1100,1110,1120,60]\n",
    "    ]\n",
    "])"
   ]
  },
  {
   "cell_type": "code",
   "execution_count": 4,
   "id": "a8059e18",
   "metadata": {
    "tags": []
   },
   "outputs": [
    {
     "data": {
      "text/plain": [
       "(4, 2, 4)"
      ]
     },
     "execution_count": 4,
     "metadata": {},
     "output_type": "execute_result"
    }
   ],
   "source": [
    "# get the shape of the array obj\n",
    "array_4.shape"
   ]
  },
  {
   "cell_type": "code",
   "execution_count": 47,
   "id": "ab22428e",
   "metadata": {},
   "outputs": [
    {
     "data": {
      "text/plain": [
       "3"
      ]
     },
     "execution_count": 47,
     "metadata": {},
     "output_type": "execute_result"
    }
   ],
   "source": [
    "# get the dimension of the array obj\n",
    "array_4.ndim"
   ]
  },
  {
   "cell_type": "code",
   "execution_count": 48,
   "id": "4b3802f1",
   "metadata": {},
   "outputs": [
    {
     "data": {
      "text/plain": [
       "32"
      ]
     },
     "execution_count": 48,
     "metadata": {},
     "output_type": "execute_result"
    }
   ],
   "source": [
    "array_4.size"
   ]
  },
  {
   "cell_type": "code",
   "execution_count": 50,
   "id": "2b2b2c35",
   "metadata": {},
   "outputs": [
    {
     "data": {
      "text/plain": [
       "array([0., 0., 0., 0., 0.])"
      ]
     },
     "execution_count": 50,
     "metadata": {},
     "output_type": "execute_result"
    }
   ],
   "source": [
    "# You can create your np arrays without explicitly putting the numbers there\n",
    "array_z = np.zeros(5)\n",
    "array_z"
   ]
  },
  {
   "cell_type": "code",
   "execution_count": 52,
   "id": "b8edb7ae",
   "metadata": {},
   "outputs": [
    {
     "data": {
      "text/plain": [
       "dtype('float64')"
      ]
     },
     "execution_count": 52,
     "metadata": {},
     "output_type": "execute_result"
    }
   ],
   "source": [
    "array_z.dtype"
   ]
  },
  {
   "cell_type": "code",
   "execution_count": 53,
   "id": "215151d0",
   "metadata": {},
   "outputs": [
    {
     "data": {
      "text/plain": [
       "1"
      ]
     },
     "execution_count": 53,
     "metadata": {},
     "output_type": "execute_result"
    }
   ],
   "source": [
    "array_z.ndim"
   ]
  },
  {
   "cell_type": "code",
   "execution_count": 69,
   "id": "d8d26b90",
   "metadata": {},
   "outputs": [
    {
     "data": {
      "text/plain": [
       "(5, 6)"
      ]
     },
     "execution_count": 69,
     "metadata": {},
     "output_type": "execute_result"
    }
   ],
   "source": [
    "array_zx = np.zeros((5,6), dtype=\"int\")\n",
    "array_zx.shape"
   ]
  },
  {
   "cell_type": "code",
   "execution_count": 70,
   "id": "401cc70d",
   "metadata": {},
   "outputs": [
    {
     "data": {
      "text/plain": [
       "array([[0, 0, 0, 0, 0, 0],\n",
       "       [0, 0, 0, 0, 0, 0],\n",
       "       [0, 0, 0, 0, 0, 0],\n",
       "       [0, 0, 0, 0, 0, 0],\n",
       "       [0, 0, 0, 0, 0, 0]])"
      ]
     },
     "execution_count": 70,
     "metadata": {},
     "output_type": "execute_result"
    }
   ],
   "source": [
    "array_zx"
   ]
  },
  {
   "cell_type": "code",
   "execution_count": 71,
   "id": "915499d0",
   "metadata": {},
   "outputs": [
    {
     "data": {
      "text/plain": [
       "dtype('int64')"
      ]
     },
     "execution_count": 71,
     "metadata": {},
     "output_type": "execute_result"
    }
   ],
   "source": [
    "array_zx.dtype"
   ]
  },
  {
   "cell_type": "code",
   "execution_count": 73,
   "id": "0f558761",
   "metadata": {},
   "outputs": [
    {
     "data": {
      "text/plain": [
       "array([1., 1., 1., 1., 1.])"
      ]
     },
     "execution_count": 73,
     "metadata": {},
     "output_type": "execute_result"
    }
   ],
   "source": [
    "array_o = np.ones(5)\n",
    "array_o"
   ]
  },
  {
   "cell_type": "code",
   "execution_count": 74,
   "id": "3f400e7c",
   "metadata": {},
   "outputs": [
    {
     "data": {
      "text/plain": [
       "array([[[1, 1, 1, 1],\n",
       "        [1, 1, 1, 1],\n",
       "        [1, 1, 1, 1]],\n",
       "\n",
       "       [[1, 1, 1, 1],\n",
       "        [1, 1, 1, 1],\n",
       "        [1, 1, 1, 1]],\n",
       "\n",
       "       [[1, 1, 1, 1],\n",
       "        [1, 1, 1, 1],\n",
       "        [1, 1, 1, 1]]])"
      ]
     },
     "execution_count": 74,
     "metadata": {},
     "output_type": "execute_result"
    }
   ],
   "source": [
    "array_ox = np.ones((3,3,4), dtype='int') # note that the kwargs comes after the positional arg\n",
    "array_ox"
   ]
  },
  {
   "cell_type": "code",
   "execution_count": 75,
   "id": "d26147d1",
   "metadata": {},
   "outputs": [
    {
     "data": {
      "text/plain": [
       "36"
      ]
     },
     "execution_count": 75,
     "metadata": {},
     "output_type": "execute_result"
    }
   ],
   "source": [
    "array_ox.size"
   ]
  },
  {
   "cell_type": "code",
   "execution_count": 76,
   "id": "7370e6aa",
   "metadata": {},
   "outputs": [
    {
     "data": {
      "text/plain": [
       "(3, 3, 4)"
      ]
     },
     "execution_count": 76,
     "metadata": {},
     "output_type": "execute_result"
    }
   ],
   "source": [
    "array_ox.shape"
   ]
  },
  {
   "cell_type": "raw",
   "id": "686dac45",
   "metadata": {},
   "source": [
    "array_ox.ndim"
   ]
  },
  {
   "cell_type": "code",
   "execution_count": 77,
   "id": "df8b519e",
   "metadata": {},
   "outputs": [
    {
     "data": {
      "text/plain": [
       "dtype('int64')"
      ]
     },
     "execution_count": 77,
     "metadata": {},
     "output_type": "execute_result"
    }
   ],
   "source": [
    "array_ox.dtype"
   ]
  },
  {
   "cell_type": "code",
   "execution_count": 78,
   "id": "5f5d61e9",
   "metadata": {},
   "outputs": [
    {
     "data": {
      "text/plain": [
       "3"
      ]
     },
     "execution_count": 78,
     "metadata": {},
     "output_type": "execute_result"
    }
   ],
   "source": [
    "array_ox.ndim"
   ]
  },
  {
   "cell_type": "code",
   "execution_count": 84,
   "id": "1dbe8637",
   "metadata": {},
   "outputs": [
    {
     "data": {
      "text/plain": [
       "array([[15, 15, 15, 15, 15, 15, 15],\n",
       "       [15, 15, 15, 15, 15, 15, 15],\n",
       "       [15, 15, 15, 15, 15, 15, 15]])"
      ]
     },
     "execution_count": 84,
     "metadata": {},
     "output_type": "execute_result"
    }
   ],
   "source": [
    "array_f = np.full((3,7), 15)\n",
    "array_f"
   ]
  },
  {
   "cell_type": "code",
   "execution_count": 85,
   "id": "56f8ee1d",
   "metadata": {},
   "outputs": [
    {
     "data": {
      "text/plain": [
       "(3, 7)"
      ]
     },
     "execution_count": 85,
     "metadata": {},
     "output_type": "execute_result"
    }
   ],
   "source": [
    "array_f.shape"
   ]
  },
  {
   "cell_type": "code",
   "execution_count": 88,
   "id": "bbc3b728",
   "metadata": {},
   "outputs": [
    {
     "data": {
      "text/plain": [
       "array([[0.42181997, 0.75819656],\n",
       "       [0.03235316, 0.1324526 ],\n",
       "       [0.36805606, 0.33592894]])"
      ]
     },
     "execution_count": 88,
     "metadata": {},
     "output_type": "execute_result"
    }
   ],
   "source": [
    "array_r = np.random.random((3,2))\n",
    "array_r"
   ]
  },
  {
   "cell_type": "code",
   "execution_count": null,
   "id": "ef0c79a8",
   "metadata": {},
   "outputs": [],
   "source": []
  }
 ],
 "metadata": {
  "kernelspec": {
   "display_name": "Python 3 (ipykernel)",
   "language": "python",
   "name": "python3"
  },
  "language_info": {
   "codemirror_mode": {
    "name": "ipython",
    "version": 3
   },
   "file_extension": ".py",
   "mimetype": "text/x-python",
   "name": "python",
   "nbconvert_exporter": "python",
   "pygments_lexer": "ipython3",
   "version": "3.11.5"
  }
 },
 "nbformat": 4,
 "nbformat_minor": 5
}
