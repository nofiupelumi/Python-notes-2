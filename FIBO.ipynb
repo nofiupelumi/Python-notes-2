{
 "cells": [
  {
   "cell_type": "code",
   "execution_count": 11,
   "id": "6feb6af0-3387-40d0-b043-8fdf1afd5084",
   "metadata": {
    "tags": []
   },
   "outputs": [
    {
     "name": "stdout",
     "output_type": "stream",
     "text": [
      "5\n"
     ]
    }
   ],
   "source": [
    "def fibonacci(n):\n",
    "    if n <= 1:\n",
    "        return n\n",
    "    else:\n",
    "        return fibonacci(n - 1) + fibonacci(n - 2)\n",
    "\n",
    "fib_5 = fibonacci(5) \n",
    "print(fib_5)"
   ]
  },
  {
   "cell_type": "code",
   "execution_count": 15,
   "id": "26b8640f-6eea-4315-a1fc-ad3d7d3d243d",
   "metadata": {
    "tags": []
   },
   "outputs": [
    {
     "data": {
      "text/plain": [
       "[]"
      ]
     },
     "execution_count": 15,
     "metadata": {},
     "output_type": "execute_result"
    }
   ],
   "source": [
    "def fibonacci_sequence(n):\n",
    "    if n <= 0:\n",
    "        return []\n",
    "    elif n == 1:\n",
    "        return [0]\n",
    "    elif n == 2:\n",
    "        return [0, 1]\n",
    "    else:\n",
    "        sequence = [0, 1]\n",
    "        while len(sequence) < n:\n",
    "            next_number = sequence[-1] + sequence[-2]\n",
    "            sequence.append(next_number)\n",
    "        return sequence\n",
    "fibonacci_sequence(-1)"
   ]
  },
  {
   "cell_type": "code",
   "execution_count": 2,
   "id": "d8977bdf-9b16-4566-8995-a97a19ee2722",
   "metadata": {
    "tags": []
   },
   "outputs": [
    {
     "name": "stdin",
     "output_type": "stream",
     "text": [
      "Enter a positive integer for the Fibonacci sequence:  -1\n"
     ]
    },
    {
     "name": "stdout",
     "output_type": "stream",
     "text": [
      "Input must be a positive integer\n"
     ]
    }
   ],
   "source": [
    "def fibonacci_sequence(n):\n",
    "    assert n > 0, \"Input must be a positive integer\"\n",
    "    if n == 1:\n",
    "        return [0]\n",
    "    elif n == 2:\n",
    "        return [0, 1]\n",
    "    else:\n",
    "        sequence = [0, 1]\n",
    "        while len(sequence) < n:\n",
    "            next_number = sequence[-1] + sequence[-2]\n",
    "            sequence.append(next_number)\n",
    "        return sequence\n",
    "\n",
    "try:\n",
    "    n = int(input(\"Enter a positive integer for the Fibonacci sequence: \"))\n",
    "    sequence = fibonacci_sequence(n)\n",
    "    print(sequence)\n",
    "except ValueError:\n",
    "    print(\"Invalid input. Please enter a positive integer.\")\n",
    "except AssertionError as error:\n",
    "    print(error)"
   ]
  },
  {
   "cell_type": "code",
   "execution_count": 1,
   "id": "7bde8aba-2ed7-4e27-b0c0-89c5e6728cb9",
   "metadata": {
    "tags": []
   },
   "outputs": [
    {
     "name": "stdin",
     "output_type": "stream",
     "text": [
      "Enter a positive integer for the Fibonacci sequence:  3\n"
     ]
    },
    {
     "name": "stdout",
     "output_type": "stream",
     "text": [
      "[0, 1, 1]\n"
     ]
    }
   ],
   "source": [
    "def fibonacci_sequence(n):\n",
    "    if n <= 0:\n",
    "        return \"Input must be a positive integer\"\n",
    "    if n == 1:\n",
    "        return [0]\n",
    "    if n == 2:\n",
    "        return [0, 1]\n",
    "\n",
    "    sequence = [0, 1]\n",
    "    while len(sequence) < n:\n",
    "        next_number = sequence[-1] + sequence[-2]\n",
    "        sequence.append(next_number)\n",
    "    return sequence\n",
    "\n",
    "n = input(\"Enter a positive integer for the Fibonacci sequence: \")\n",
    "if n.isdigit():\n",
    "    n = int(n)\n",
    "    sequence = fibonacci_sequence(n)\n",
    "    if isinstance(sequence, list):\n",
    "        print(sequence)\n",
    "    else:\n",
    "        print(sequence)\n",
    "else:\n",
    "    print(\"Invalid input. Please enter a positive integer.\")"
   ]
  },
  {
   "cell_type": "code",
   "execution_count": 6,
   "id": "2f87a596-e5f1-4292-bdb6-32d996531e98",
   "metadata": {},
   "outputs": [
    {
     "name": "stdin",
     "output_type": "stream",
     "text": [
      "input number: 5\n"
     ]
    },
    {
     "name": "stdout",
     "output_type": "stream",
     "text": [
      "[0, 1, 1, 2, 3]\n"
     ]
    }
   ],
   "source": [
    "def fibo(n):\n",
    "    assert n>0,'input positve integer'\n",
    "    if n==1:\n",
    "        return [0]\n",
    "    if n==2:\n",
    "        return [0,1]\n",
    "    else:\n",
    "        seuence = [0,1]\n",
    "        while len(seuence)<n:\n",
    "            next=seuence[-1] + seuence[-2]\n",
    "            seuence.append(next)\n",
    "        return seuence \n",
    "try:\n",
    "    n=int(input('input number:'))\n",
    "    result=fibo(n)\n",
    "    print(result)\n",
    "except ValueError:\n",
    "    print('invalid number')\n",
    "except AssertionError as error:\n",
    "    print(error)"
   ]
  },
  {
   "cell_type": "code",
   "execution_count": null,
   "id": "ac25bacb-2890-4139-b892-c342c160a511",
   "metadata": {},
   "outputs": [],
   "source": []
  }
 ],
 "metadata": {
  "kernelspec": {
   "display_name": "Python 3 (ipykernel)",
   "language": "python",
   "name": "python3"
  },
  "language_info": {
   "codemirror_mode": {
    "name": "ipython",
    "version": 3
   },
   "file_extension": ".py",
   "mimetype": "text/x-python",
   "name": "python",
   "nbconvert_exporter": "python",
   "pygments_lexer": "ipython3",
   "version": "3.11.5"
  }
 },
 "nbformat": 4,
 "nbformat_minor": 5
}
